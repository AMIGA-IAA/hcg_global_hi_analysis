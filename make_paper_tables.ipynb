{
 "cells": [
  {
   "cell_type": "code",
   "execution_count": null,
   "metadata": {},
   "outputs": [],
   "source": [
    "import numpy\n",
    "from astropy.io import ascii\n",
    "import astropy.table \n",
    "from astropy.table import Table\n",
    "import astropy.units as u\n",
    "import common_functions as cf\n",
    "import matplotlib.pyplot as plt\n",
    "from astroquery.vizier import Vizier\n",
    "from astroquery.ned import Ned"
   ]
  },
  {
   "cell_type": "code",
   "execution_count": null,
   "metadata": {},
   "outputs": [],
   "source": [
    "VLA_configs = {2: 'D', 7: 'C,D', 10: 'DnC', 15: 'DnC', 16: 'C,D',\n",
    "               19: 'C,D', 22: 'CnB,D', 23: 'C', 25: 'DnC', 26: 'C',\n",
    "               30: 'DnC', 31: 'CnB', 33: 'C', 37: 'DnC', 38: 'D',\n",
    "               40: 'DnC', 47: 'C,D', 48: 'DnC', 49: 'DnC', 54: 'C',\n",
    "               56: 'C,D', 57: 'C', 58: 'DnC,D', 59: 'C,D', 61: 'C',\n",
    "               62: 'C', 68: 'D', 71: 'C,D', 79: 'C', 88: 'C', 89: 'C',\n",
    "               90: 'DnC', 91: 'DnC', 92: 'B,C,D' , 93: 'DnC', 95: 'CnB',\n",
    "               96: 'C', 97: 'DnC', 100: 'DnC'}\n",
    "\n",
    "GBT_axis = {7: 'f', 10: 'f', 15: 'f', 16: 'f', 23: 'f', 25: 'f', 26: 'f', 30: 'f', 31: 'f', 37: 'f', \n",
    "            40: 'v', 48: 'v', 58: 'v', 68: 'f', 79: 'v', 88: 'f', 90: 'f', 91: 'f', 92: 'f', 93: 'f', 97: 'f', 100: 'f'}\n",
    "GBT_int_limits = {7: [3970.,4550.],\n",
    "                  10: [4750.,5500.],\n",
    "                  15: [6100.,7000.],\n",
    "                  16: [3600.,4180.],\n",
    "                  23: [4330.,5200.],\n",
    "                  25: [6010.,6670.],\n",
    "                  26: [9220.,9750.],\n",
    "                  30: [4250.,4760.],\n",
    "                  31: [3870.,4270.],\n",
    "                  37: [6200.,7400.],\n",
    "                  40: [6150.,7000.],\n",
    "                  48: [2200.,2600.],\n",
    "                  58: [5880.,6990.],\n",
    "                  68: [2100.,2500.],\n",
    "                  79: [3910.,4940.],\n",
    "                  88: [5890.,6290.],\n",
    "                  90: [2000.,2500.],\n",
    "                  91: [6750.,7450.],\n",
    "                  92: [5610.,6770.],\n",
    "                  93: [4500.,5200.],\n",
    "                  97: [6150.,7300.],\n",
    "                  100: [5000.,5600.]}\n",
    "\n",
    "unresolved_list = [38,49,57,62,89,95]\n",
    "falsegroup_list = [48]\n",
    "baddata_list = [89]"
   ]
  },
  {
   "cell_type": "code",
   "execution_count": null,
   "metadata": {},
   "outputs": [],
   "source": [
    "'''HCGs = Table.read('../output/HCGs.vo', format='votable')\n",
    "HCGs.add_index('HCG')\n",
    "\n",
    "HCG_mems = Table.read('../output/HCG_members.vo',format='votable')\n",
    "HCG_mems.add_index('HCG')\n",
    "\n",
    "HCGs['Nmem'] = numpy.zeros(len(HCGs),dtype='int')\n",
    "HCGs['rms'] = numpy.zeros(len(HCGs))\n",
    "HCGs['rms'].unit = u.mJy/(u.beam)\n",
    "HCGs['chan_wid'] = numpy.zeros(len(HCGs))\n",
    "HCGs['chan_wid'].unit = u.km/u.s\n",
    "HCGs['beam'] = numpy.array(numpy.zeros(len(HCGs)),dtype='str')\n",
    "HCGs['beam'].unit = u.arcmin\n",
    "HCGs['n_HI'] = numpy.zeros(len(HCGs))\n",
    "HCGs['n_HI'].unit = u.Msun/(u.pc*u.pc)\n",
    "HCGs['N_HI'] = numpy.array(numpy.zeros(len(HCGs)),dtype='str')\n",
    "HCGs['N_HI'].unit = 1/(u.cm*u.cm)\n",
    "HCGs['VLA_config'] = numpy.array(numpy.zeros(len(HCGs)),dtype='str')\n",
    "\n",
    "for HCG in list(HCGs['HCG']):\n",
    "    HCGs.loc[HCG]['Nmem'] = len(HCG_mems.loc[HCG])\n",
    "    \n",
    "    filename = f'SoFiA_masks/HCG{HCG}/HCG{HCG}_HI.fits'\n",
    "    \n",
    "    cube,cube_ra,cube_dec,cube_vel,bmaj,bmin,pa,beam_factor,cube_dx,cube_dy,cube_dv = cf.read_fitscube(filename,True,True)\n",
    "    \n",
    "    HCGs.loc[HCG]['beam'] = r'${0} \\times {1}$'.format(numpy.round(bmaj,decimals=1),numpy.round(bmin,decimals=1))\n",
    "    \n",
    "    src_cat = 'SoFiA_masks/HCG{0}/HCG{0}_cat.xml'.format(HCG)\n",
    "    \n",
    "    src_cat = Table.read(src_cat)\n",
    "    ########################################\n",
    "    #Change this to just use global HI table\n",
    "    ########################################\n",
    "    \n",
    "    rms = numpy.round(1000.*numpy.mean(src_cat['rms']),decimals=2)\n",
    "    n_HI = numpy.round(3.*(rms*20.*2.356E-10)/(numpy.pi*bmaj*bmin*(numpy.pi/(2.*180.*3600.))**2.),decimals=2)\n",
    "    N_HI = numpy.round((n_HI*cf.Msol/(cf.mp*(cf.pc*100.)**2.))/(1.E19),decimals=1)\n",
    "    \n",
    "    HCGs.loc[HCG]['rms'] = rms\n",
    "    HCGs.loc[HCG]['chan_wid'] = numpy.round(numpy.absolute(cube_dv),decimals=1)\n",
    "    HCGs.loc[HCG]['n_HI'] = n_HI\n",
    "    HCGs.loc[HCG]['N_HI'] = r'$'+str(N_HI)+r' \\times 10^{19}$'\n",
    "    \n",
    "    HCGs.loc[HCG]['VLA_config'] = VLA_configs[HCG]'''\n",
    "pass"
   ]
  },
  {
   "cell_type": "code",
   "execution_count": null,
   "metadata": {},
   "outputs": [],
   "source": [
    "HCGs = Table.read('../output/HCGs.vo', format='votable')\n",
    "HCGs.add_index('HCG')\n",
    "\n",
    "HCGs = HCGs[HCGs['HCG'] != baddata_list]\n",
    "\n",
    "HCGs_global_HI = Table.read('../output/HCGs_global_HI.vo', format='votable')\n",
    "HCGs_global_HI.add_index('HCG')\n",
    "\n",
    "HCG_mems = Table.read('../output/HCG_members.vo',format='votable')\n",
    "HCG_mems.add_index('HCG')\n",
    "\n",
    "HCGs['Nmem'] = numpy.zeros(len(HCGs),dtype='int')\n",
    "HCGs['VLA_config'] = numpy.array(numpy.zeros(len(HCGs)),dtype='str')\n",
    "HCGs['rms'] = numpy.zeros(len(HCGs),dtype='float')\n",
    "HCGs['rms'].unit = u.mJy/u.beam\n",
    "HCGs['beam'] = numpy.array(numpy.zeros(len(HCGs)),dtype='str')\n",
    "HCGs['beam'].unit = u.arcmin\n",
    "HCGs['chan_wid'] = numpy.zeros(len(HCGs))\n",
    "HCGs['chan_wid'].unit = u.km/u.s\n",
    "HCGs['N_HI'] = numpy.array(numpy.zeros(len(HCGs)),dtype='str')\n",
    "HCGs['N_HI'].unit = 1/(u.cm*u.cm)\n",
    "\n",
    "for HCG in list(HCGs['HCG']):\n",
    "    HCGs.loc[HCG]['Nmem'] = len(HCG_mems.loc[HCG])\n",
    "    \n",
    "    HCGs.loc[HCG]['beam'] = r'${0} \\times {1}$'.format(numpy.round(HCGs_global_HI.loc[HCG]['VLA_beam_maj'],decimals=1),\n",
    "                                                       numpy.round(HCGs_global_HI.loc[HCG]['VLA_beam_min'],decimals=1))\n",
    "    \n",
    "    HCGs.loc[HCG]['rms'] = numpy.round(HCGs_global_HI.loc[HCG]['VLA_rms'],decimals=2)\n",
    "    HCGs.loc[HCG]['chan_wid'] = numpy.round(HCGs_global_HI.loc[HCG]['chan_wid'],decimals=1)\n",
    "    HCGs.loc[HCG]['N_HI'] = r'$'+str(numpy.round(3.*(20./HCGs.loc[HCG]['chan_wid'])*HCGs_global_HI.loc[HCG]['VLA_NHI']/(1.E19),decimals=1))+r' \\times 10^{19}$'\n",
    "    \n",
    "    HCGs.loc[HCG]['VLA_config'] = VLA_configs[HCG]"
   ]
  },
  {
   "cell_type": "code",
   "execution_count": null,
   "metadata": {},
   "outputs": [],
   "source": [
    "HCGs"
   ]
  },
  {
   "cell_type": "code",
   "execution_count": null,
   "metadata": {},
   "outputs": [],
   "source": [
    "ascii.write(HCGs[['HCG','Nmem','ra','dec','cz','dist','VLA_config','chan_wid','rms','beam','N_HI']], format='latex')  "
   ]
  },
  {
   "cell_type": "code",
   "execution_count": null,
   "metadata": {},
   "outputs": [],
   "source": [
    "HCGs_VLA_HI = Table.read('../output/HCGs_VLA_HI.vo', format='votable')\n",
    "HCGs_VLA_HI.add_index('HCG')\n",
    "\n",
    "HCGs_VLA_HI = HCGs_VLA_HI[HCGs_VLA_HI['HCG'] != baddata_list]\n",
    "\n",
    "HCGs_global_HI = Table.read('../output/HCGs_global_HI.vo', format='votable')\n",
    "HCGs_global_HI.add_index('HCG')"
   ]
  },
  {
   "cell_type": "code",
   "execution_count": null,
   "metadata": {},
   "outputs": [],
   "source": [
    "HCGs_HI = astropy.table.join(HCGs_VLA_HI,HCGs_global_HI,keys=['HCG'])\n",
    "HCGs_HI.add_index('HCG')"
   ]
  },
  {
   "cell_type": "code",
   "execution_count": null,
   "metadata": {},
   "outputs": [],
   "source": [
    "HCGs_HI"
   ]
  },
  {
   "cell_type": "code",
   "execution_count": null,
   "metadata": {},
   "outputs": [],
   "source": [
    "HCGs_HI['logMHI_p'] = numpy.array(numpy.zeros(len(HCGs_HI)),dtype='str')\n",
    "HCGs_HI['logMHI_tot_str'] = numpy.array(numpy.zeros(len(HCGs_HI)),dtype='str')\n",
    "HCGs_HI['HIdef_str'] = numpy.array(numpy.zeros(len(HCGs_HI)),dtype='str')\n",
    "HCGs_HI['HIdef_GBT_str'] = numpy.array(numpy.zeros(len(HCGs_HI)),dtype='str')\n",
    "HCGs_HI['HIphase'] = numpy.array(numpy.zeros(len(HCGs_HI)),dtype='str')\n",
    "HCGs_HI['detlim'] = numpy.zeros(len(HCGs_HI),dtype='float')\n",
    "\n",
    "HCG_mems_HI = Table.read('../output/HCG_mems_VLA_HI.vo',format='votable')\n",
    "\n",
    "for HCG in list(HCGs_HI['HCG']):\n",
    "    \n",
    "    HCGs_HI.loc[HCG]['logMHI_p'] = r'$'+str(HCGs_HI.loc[HCG]['logMHI_pred_1'])+r' \\pm '+str(HCGs_HI.loc[HCG]['e_logMHI_pred_1'])+r'$'\n",
    "    \n",
    "    count = numpy.sum(numpy.array(numpy.isfinite(HCG_mems_HI[HCG_mems_HI['HCG'] == HCG]['logMHI']),dtype='int'))\n",
    "    \n",
    "    if HCGs_HI.loc[HCG]['ex_frac'] > 0.75 or (hasattr(HCGs_HI.loc[HCG]['logMHI_tot'],'mask') and hasattr(HCGs_HI.loc[HCG]['ex_frac'],'mask')):\n",
    "        HCGs_HI.loc[HCG]['HIphase'] = '3a'\n",
    "    elif HCGs_HI.loc[HCG]['ex_frac'] > 0.25:\n",
    "        HCGs_HI.loc[HCG]['HIphase'] = '2'\n",
    "    elif count > 1:\n",
    "        HCGs_HI.loc[HCG]['HIphase'] = '1'\n",
    "    else:\n",
    "        HCGs_HI.loc[HCG]['HIphase'] = '3b'\n",
    "    \n",
    "    \n",
    "    if HCG in falsegroup_list:\n",
    "        HCGs_HI.loc[HCG]['HIphase'] = ''\n",
    "    if HCG in unresolved_list and not hasattr(HCGs_HI.loc[HCG]['logMHI_tot'],'mask'):\n",
    "        HCGs_HI.loc[HCG]['HIphase'] = ''\n",
    "            \n",
    "            \n",
    "    #Make detection limit for a fiducial velocity width of 100 km/s\n",
    "    v_wid_fid = 100. #km/s\n",
    "    HCGs_HI.loc[HCG]['detlim'] = numpy.log10(3.*(0.001*HCGs_HI.loc[HCG]['VLA_rms']/numpy.sqrt(v_wid_fid/abs(HCGs_HI.loc[HCG]['chan_wid'])))*v_wid_fid*2.356E5*HCGs_HI.loc[HCG]['dist_1']**2.)\n",
    "    \n",
    "    if hasattr(HCGs_HI.loc[HCG]['logMHI_tot'],'mask'):\n",
    "        HCGs_HI.loc[HCG]['logMHI_tot_str'] = r'$<'+str(numpy.round(HCGs_HI.loc[HCG]['detlim'],decimals=2))+r'$'\n",
    "        HCGs_HI.loc[HCG]['HIdef_str'] = r'$>'+str(numpy.round(HCGs_HI.loc[HCG]['logMHI_pred_1']-HCGs_HI.loc[HCG]['detlim'],decimals=2))+r'$'\n",
    "    else:\n",
    "        HCGs_HI.loc[HCG]['logMHI_tot_str'] = r'$'+str(numpy.round(HCGs_HI.loc[HCG]['logMHI_tot'],decimals=2))+r'$'\n",
    "        HCGs_HI.loc[HCG]['HIdef_str'] = r'$'+str(HCGs_HI.loc[HCG]['HIdef'])+r'$'\n",
    "\n",
    "        \n",
    "    if not hasattr(HCGs_HI.loc[HCG]['HIdef_GBT'],'mask'):\n",
    "        HCGs_HI.loc[HCG]['HIdef_GBT_str'] = r'$'+str(HCGs_HI.loc[HCG]['HIdef_GBT'])+r'$'\n",
    "    else:\n",
    "        HCGs_HI.loc[HCG]['HIdef_GBT_str'] = ''"
   ]
  },
  {
   "cell_type": "code",
   "execution_count": null,
   "metadata": {},
   "outputs": [],
   "source": [
    "HCGs_HI"
   ]
  },
  {
   "cell_type": "code",
   "execution_count": null,
   "metadata": {},
   "outputs": [],
   "source": [
    "ascii.write(HCGs_HI[['HCG','logMHI_tot_str','logMHI_GBT','logMHI_p','HIdef_str','HIdef_GBT_str','logMHI_gals','logMHI_exfs','ex_frac','HIphase']],format='latex')"
   ]
  },
  {
   "cell_type": "code",
   "execution_count": null,
   "metadata": {},
   "outputs": [],
   "source": []
  },
  {
   "cell_type": "code",
   "execution_count": null,
   "metadata": {},
   "outputs": [],
   "source": []
  },
  {
   "cell_type": "code",
   "execution_count": null,
   "metadata": {},
   "outputs": [],
   "source": [
    "HCG_mems_HI = Table.read('../output/HCG_mems_VLA_HI.vo',format='votable')\n",
    "\n",
    "HCG_mems_HI = HCG_mems_HI[HCG_mems_HI['HCG'] != baddata_list]\n",
    "HCG_mems_HI.add_index('name')"
   ]
  },
  {
   "cell_type": "code",
   "execution_count": null,
   "metadata": {},
   "outputs": [],
   "source": [
    "HCGs_WISE = Vizier(catalog='J/ApJ/821/113/table1', columns=['Group', 'Name', 'Class', '_RA', '_DE'], row_limit=-1).query_constraints()[0]\n",
    "HCGs_WISE.add_index('Name')\n",
    "\n",
    "HCGs_inx = []\n",
    "for name in HCGs_WISE['Name']:\n",
    "    if 'HCG' in HCGs_WISE.loc[name]['Group']:\n",
    "        HCGs_inx.append(name)\n",
    "        \n",
    "HCGs_WISE = HCGs_WISE.loc[HCGs_inx]\n",
    "HCGs_WISE.add_index('Name')"
   ]
  },
  {
   "cell_type": "code",
   "execution_count": null,
   "metadata": {},
   "outputs": [],
   "source": [
    "#HCG_mem_coords = SkyCoord(ra=numpy.array(HCG_mems_HI['ra'])*u.degree, dec=numpy.array(HCG_mems_HI['dec'])*u.degree)\n",
    "#HCG_WISE_coords = SkyCoord(ra=numpy.array(HCGs_WISE['_RA'])*u.degree, dec=numpy.array(HCGs_WISE['_DE'])*u.degree)\n",
    "#idx, d2d, d3d = HCG_mem_coords.match_to_catalog_sky(HCG_WISE_coords)"
   ]
  },
  {
   "cell_type": "code",
   "execution_count": null,
   "metadata": {},
   "outputs": [],
   "source": [
    "HCG_mems_HI['logMHI_p'] = numpy.array(numpy.zeros(len(HCG_mems_HI)),dtype='str')\n",
    "HCG_mems_HI['Bmag'] = numpy.array(numpy.zeros(len(HCG_mems_HI)),dtype='str')\n",
    "HCG_mems_HI['IRclass'] = numpy.array(numpy.zeros(len(HCG_mems_HI)),dtype='str')\n",
    "\n",
    "for i,mem in enumerate(list(HCG_mems_HI['name'])):\n",
    "    \n",
    "    HCG_mems_HI.loc[mem]['logMHI_p'] = r'$'+str(HCG_mems_HI.loc[mem]['logMHI_pred'])+r' \\pm '+str(HCG_mems_HI.loc[mem]['e_logMHI_pred'])+r'$'\n",
    "    HCG_mems_HI.loc[mem]['Bmag'] = r'$'+str(HCG_mems_HI.loc[mem]['BTc'])+r' \\pm '+str(HCG_mems_HI.loc[mem]['e_BTmag'])+r'$'\n",
    "    \n",
    "    #if d2d[i].arcsec < 10.: #Maximum allowed separation is 10 arcsec\n",
    "    #    HCG_mems_HI.loc[mem]['IRclass'] = HCGs_WISE.loc[HCGs_WISE['Name'][idx[i]]]['Name']\n",
    "    if 'HCG'+str(HCG_mems_HI.loc[mem]['HCG']) in mem:\n",
    "        try:\n",
    "            name_str = 'HCG'+str(HCG_mems_HI.loc[mem]['HCG']).zfill(2)+' '+str(mem[len('HCG'+str(HCG_mems_HI.loc[mem]['HCG'])):])\n",
    "            HCG_mems_HI.loc[mem]['IRclass'] = HCGs_WISE.loc[name_str]['Class']\n",
    "        except KeyError:\n",
    "            HCG_mems_HI.loc[mem]['IRclass'] = ''\n",
    "    else:\n",
    "        HCG_mems_HI.loc[mem]['IRclass'] = ''\n",
    "    \n",
    "HCG_mems_HI['ra'] = numpy.round(HCG_mems_HI['ra'],decimals=5)\n",
    "HCG_mems_HI['ra'].unit = u.deg\n",
    "HCG_mems_HI['dec'] = numpy.round(HCG_mems_HI['dec'],decimals=5)\n",
    "HCG_mems_HI['dec'].unit = u.deg"
   ]
  },
  {
   "cell_type": "code",
   "execution_count": null,
   "metadata": {},
   "outputs": [],
   "source": [
    "HCG_mems_HI.sort(['HCG','m_HCG'])"
   ]
  },
  {
   "cell_type": "code",
   "execution_count": null,
   "metadata": {},
   "outputs": [],
   "source": [
    "HCG_mems_HI"
   ]
  },
  {
   "cell_type": "code",
   "execution_count": null,
   "metadata": {},
   "outputs": [],
   "source": [
    "ascii.write(HCG_mems_HI[['HCG','name','ra','dec','MType','IRclass','Vel','Bmag','logMHI_p','logMHI','HIdef']],format='latex')"
   ]
  },
  {
   "cell_type": "code",
   "execution_count": null,
   "metadata": {},
   "outputs": [],
   "source": []
  },
  {
   "cell_type": "code",
   "execution_count": null,
   "metadata": {},
   "outputs": [],
   "source": []
  }
 ],
 "metadata": {
  "kernelspec": {
   "display_name": "Python 3",
   "language": "python",
   "name": "python3"
  },
  "language_info": {
   "codemirror_mode": {
    "name": "ipython",
    "version": 3
   },
   "file_extension": ".py",
   "mimetype": "text/x-python",
   "name": "python",
   "nbconvert_exporter": "python",
   "pygments_lexer": "ipython3",
   "version": "3.7.3"
  }
 },
 "nbformat": 4,
 "nbformat_minor": 4
}
