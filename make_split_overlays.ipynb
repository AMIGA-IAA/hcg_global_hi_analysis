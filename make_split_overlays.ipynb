{
 "cells": [
  {
   "cell_type": "code",
   "execution_count": null,
   "metadata": {},
   "outputs": [],
   "source": [
    "import matplotlib,aplpy,numpy,glob\n",
    "from astropy.wcs import WCS\n",
    "from astropy.io import fits\n",
    "from astropy.table import Table\n",
    "from astropy.table import QTable\n",
    "import matplotlib.pyplot as plt\n",
    "import common_functions as cf\n",
    "from astropy import units\n",
    "from astropy.coordinates import SkyCoord\n",
    "import aplpy"
   ]
  },
  {
   "cell_type": "code",
   "execution_count": null,
   "metadata": {},
   "outputs": [],
   "source": [
    "font = {'size'   : 14, 'family' : 'serif', 'serif' : 'cm'}\n",
    "plt.rc('font', **font)\n",
    "plt.rcParams['image.interpolation'] = 'nearest'\n",
    "plt.rcParams['lines.linewidth'] = 1\n",
    "plt.rcParams['axes.linewidth'] = 1"
   ]
  },
  {
   "cell_type": "code",
   "execution_count": null,
   "metadata": {},
   "outputs": [],
   "source": [
    "contour_scheme = numpy.array([1.,2.,4.,8.,16.,32.,64.])"
   ]
  },
  {
   "cell_type": "code",
   "execution_count": null,
   "metadata": {},
   "outputs": [],
   "source": [
    "GBT_point = QTable([[92, 48, 58, 88, 91, 37, 68, 79, 93, 7, 16, 25, 31, 97, 23, 30, 100, 15, 26, 10, 33, 90, 40],\n",
    "                    ['22h35m57.500s','10h37m45.600s','11h42m10.700s','20h52m24.000s','22h09m10.400s','09h13m35.600s','13h53m26.000s','15h59m11.800s','23h15m24.200s',\n",
    "                     '00h39m23.900s','02h09m31.300s','03h20m43.700s','05h01m38.300s','23h47m22.900s','03h07m06.400s','04h36m28.600s','00h01m20.700s','02h07m38.900s',\n",
    "                     '03h21m54.200s','01h26m13.000s','05h10m47.900s','22h02m05.600s','09h38m54.500s'],\n",
    "                    ['+33d57m35.00s','-27d04m49.00s','+10d18m21.00s','-05d45m00.00s','-27d47m45.00s','+30d00m51.00s','+40d19m08.00s','+20d45m30.00s','+18d58m59.00s',\n",
    "                     '+00d52m41.00s','-10d09m30.00s','-01d03m06.00s','-04d15m25.00s','-02d19m34.00s','-09d35m07.00s','-02d49m56.00s','+13d07m57.00s','+02d08m17.00s',\n",
    "                     '-13d38m45.00s','+34d42m41.00s','+18d02m05.00s','-31d58m00.00s','-04d51m07.00s']],\n",
    "                   names = ['HCG', 'ra', 'dec'])\n",
    "GBT_point.add_index('HCG')"
   ]
  },
  {
   "cell_type": "code",
   "execution_count": null,
   "metadata": {},
   "outputs": [],
   "source": [
    "HCGs = Table.read('tables/HCGs.vo', format='votable')\n",
    "HCGs.add_index('HCG')\n",
    "\n",
    "HCG_mems = Table.read('tables/HCG_members.vo', format='votable')\n",
    "\n",
    "HCGs['logMHI_gals'] = numpy.zeros(len(HCGs))+numpy.nan\n",
    "HCGs['logMHI_exfs'] = numpy.zeros(len(HCGs))+numpy.nan\n",
    "\n",
    "HCG_mems['logMHI'] = numpy.zeros(len(HCG_mems))+numpy.nan"
   ]
  },
  {
   "cell_type": "code",
   "execution_count": null,
   "metadata": {},
   "outputs": [],
   "source": [
    "def split_overlay(HCG, ra_cen, dec_cen, width, dist, opt_survey='DECaLS'):\n",
    "    \n",
    "    fits_file_list = glob.glob(f'SoFiA_masks/HCG{HCG}/separated_features/*.fits')\n",
    "    src_cat = 'SoFiA_masks/HCG{0}/HCG{0}_cat.xml'.format(HCG)\n",
    "    sofia_mom0 = 'SoFiA_masks/HCG{0}/HCG{0}_mom0.fits'.format(HCG)\n",
    "    pbcube = 'SoFiA_masks/HCG{0}/HCG{0}_HI.pbcor.fits'.format(HCG)\n",
    "    if 'POSS' in opt_survey:\n",
    "        optical_image = opt_survey+'_images/HCG{0}_R.fits'.format(HCG)\n",
    "    else:\n",
    "        optical_image = opt_survey+'_images/r_fits/HCG{0}_r.fits'.format(HCG)\n",
    "        \n",
    "    members = list(HCG_mems['name'][HCG_mems['HCG'] == HCG])\n",
    "    src_cat = Table.read(src_cat)\n",
    "    rms = numpy.mean(src_cat['rms'])\n",
    "\n",
    "    for pb_cubelet in fits_file_list:\n",
    "\n",
    "        cube,cube_ra,cube_dec,cube_vel,bmaj,bmin,pa,beam_factor,cube_dx,cube_dy,cube_dv = cf.read_fitscube(pb_cubelet,True,True)\n",
    "        \n",
    "        n_HI = (rms*abs(cube_dv)*4.*numpy.log(2.)*2.356E-7)/(numpy.pi*bmaj*bmin*(numpy.pi/(180.*3600.))**2.)\n",
    "        N_HI = n_HI*cf.Msol/(cf.mp*(cf.pc*10.)**2.)\n",
    "\n",
    "        #Catch the error that SlicerAstro sometimes writes an incorrect value in pixel (0,0,0)\n",
    "        if abs(cube[0,0,0]) > 1.:\n",
    "            cube[0,0,0] = 0.\n",
    "\n",
    "        mom0 = numpy.nansum(cube,axis=0)*abs(cube_dv)\n",
    "\n",
    "        if 'mem_mom0' not in locals():\n",
    "            mem_mom0 = numpy.zeros(numpy.shape(mom0))\n",
    "            non_mom0 = numpy.zeros(numpy.shape(mom0))\n",
    "            tid_mom0 = numpy.zeros(numpy.shape(mom0))\n",
    "        \n",
    "        if numpy.shape(mom0) != numpy.shape(mem_mom0):\n",
    "            print('ERROR: Cubelets not all the same dimensions.')\n",
    "            return None\n",
    "            \n",
    "        #Identify what object is classified as\n",
    "        group_feature = False\n",
    "        feat_code = ['br','ex','tl','cl']\n",
    "        for feature in feat_code:\n",
    "            if feature in pb_cubelet:\n",
    "                inx = pb_cubelet.index(feature)\n",
    "                print(f'HCG{HCG}'+pb_cubelet[inx:inx+len(feature)+1]+' is a non-galactic feature.')\n",
    "                group_feature = True\n",
    "                break\n",
    "\n",
    "        group_member = False\n",
    "        if not group_feature:\n",
    "            for mem in members:\n",
    "                if mem+'.fits' in pb_cubelet:\n",
    "                    print(f'{mem} is a member of HCG{HCG}.')\n",
    "                    group_member = True\n",
    "                    break\n",
    "\n",
    "        #Add exceptions for HCGs 47, 49, 57, and 100\n",
    "        if (\"abcd\" in pb_cubelet) or (\"acd\" in pb_cubelet) or (\"ab\" in pb_cubelet):\n",
    "            group_member = True\n",
    "            inx1 = pb_cubelet.index('features/')+9\n",
    "            inx2 = pb_cubelet.index('.fits')\n",
    "            print(pb_cubelet[inx1:inx2]+f' is part of HCG{HCG}.')\n",
    "            \n",
    "        if group_member:\n",
    "            mem_mom0 += mom0\n",
    "        elif group_feature:\n",
    "            tid_mom0 += mom0\n",
    "        else:\n",
    "            non_mom0 += mom0\n",
    "    \n",
    "    hdu = fits.open(fits_file_list[0])\n",
    "    wcs = WCS(hdu[0].header,naxis=2)\n",
    "    \n",
    "\n",
    "    cen_pos = [ra_cen,dec_cen]\n",
    "    fig_wid = width\n",
    "    \n",
    "    min_contour = 4.*rms*abs(cube_dv)\n",
    "    print(min_contour)\n",
    "    \n",
    "    #Initialise figure\n",
    "    f = aplpy.FITSFigure(optical_image, figsize=(8.,8.), dimensions=[0, 1])\n",
    "\n",
    "    #Re-centre and set size (identical to above command)\n",
    "    f.recenter(cen_pos[0], cen_pos[1], radius=fig_wid/2.)\n",
    "\n",
    "    #Overlay contours\n",
    "    hdu = fits.PrimaryHDU(mem_mom0)\n",
    "    hdu.header.update(wcs.to_header())\n",
    "    f.show_contour(hdu,colors=['blue'],\n",
    "                         levels=[-1.*min_contour],linestyle='--')\n",
    "    f.show_contour(hdu,colors=['blue'],\n",
    "                         levels=min_contour*contour_scheme)\n",
    "    hdu = fits.PrimaryHDU(tid_mom0)\n",
    "    hdu.header.update(wcs.to_header())\n",
    "    f.show_contour(hdu,colors=['green'],\n",
    "                         levels=[-1.*min_contour],linestyle='--')\n",
    "    f.show_contour(hdu,colors=['green'],\n",
    "                         levels=min_contour*contour_scheme)\n",
    "    hdu = fits.PrimaryHDU(non_mom0)\n",
    "    hdu.header.update(wcs.to_header())\n",
    "    f.show_contour(hdu,colors=['red'],\n",
    "                         levels=[-1.*min_contour],linestyle='--')\n",
    "    f.show_contour(hdu,colors=['red'],\n",
    "                         levels=min_contour*contour_scheme)\n",
    "    #Contour values in Jy km/s per beam\n",
    "\n",
    "    #Display r-band image\n",
    "    if 'POSS' not in opt_survey:\n",
    "        f.show_colorscale(cmap='Greys',vmin=1E-4,vmax=2.5,stretch='log')\n",
    "    else:\n",
    "        f.show_colorscale(cmap='Greys',pmin=0.1,pmax=99.8,stretch='log')\n",
    "\n",
    "    #Add beam\n",
    "    hdu = fits.open(pbcube)\n",
    "    f.show_ellipses(xw=cen_pos[0]+0.45*fig_wid, yw=cen_pos[1]-0.45*fig_wid, width=hdu[0].header['BMIN'], height=hdu[0].header['BMAJ'], angle=hdu[0].header['BPA'], facecolor='g', lw=0)\n",
    "\n",
    "    #Add scalebar\n",
    "    f.add_scalebar((180./numpy.pi)*0.02/dist, corner='bottom right', lw=4, label=\"20 kpc\")\n",
    "    \n",
    "    #Title\n",
    "    f.set_title(f'HCG {HCG}')\n",
    "    \n",
    "    if HCG in GBT_point['HCG']:\n",
    "        GBT_pointing = SkyCoord(GBT_point.loc[HCG]['ra'], GBT_point.loc[HCG]['dec'], frame='icrs', equinox='J2000')\n",
    "        f.show_circles(xw=GBT_pointing.ra.deg,yw=GBT_pointing.dec.deg,radius=9.1/120.,edgecolor='orange', lw=3, ls='dotted')\n",
    "        \n",
    "    f.savefig('overlays/HCG{}_split_overlay.pdf'.format(HCG),dpi=100)\n",
    "    f.savefig('overlays/HCG{}_split_overlay.png'.format(HCG),dpi=100)"
   ]
  },
  {
   "cell_type": "code",
   "execution_count": null,
   "metadata": {},
   "outputs": [],
   "source": [
    "HCG = 2\n",
    "split_overlay(HCG, HCGs.loc[HCG]['ra'], HCGs.loc[HCG]['dec'], 0.25, HCGs.loc[HCG]['dist'])"
   ]
  },
  {
   "cell_type": "code",
   "execution_count": null,
   "metadata": {},
   "outputs": [],
   "source": [
    "HCG = 7\n",
    "split_overlay(HCG, HCGs.loc[HCG]['ra'], HCGs.loc[HCG]['dec'], 0.25, HCGs.loc[HCG]['dist'])"
   ]
  },
  {
   "cell_type": "code",
   "execution_count": null,
   "metadata": {},
   "outputs": [],
   "source": [
    "HCG = 10\n",
    "split_overlay(HCG, HCGs.loc[HCG]['ra'], HCGs.loc[HCG]['dec'], 0.25, HCGs.loc[HCG]['dist'], 'SDSS')"
   ]
  },
  {
   "cell_type": "code",
   "execution_count": null,
   "metadata": {},
   "outputs": [],
   "source": [
    "HCG = 15\n",
    "split_overlay(HCG, HCGs.loc[HCG]['ra'], HCGs.loc[HCG]['dec'], 0.25, HCGs.loc[HCG]['dist'])"
   ]
  },
  {
   "cell_type": "code",
   "execution_count": null,
   "metadata": {},
   "outputs": [],
   "source": [
    "HCG = 16\n",
    "split_overlay(HCG, HCGs.loc[HCG]['ra'], HCGs.loc[HCG]['dec'], 0.45, HCGs.loc[HCG]['dist'])"
   ]
  },
  {
   "cell_type": "code",
   "execution_count": null,
   "metadata": {},
   "outputs": [],
   "source": [
    "HCG = 19\n",
    "split_overlay(HCG, HCGs.loc[HCG]['ra'], HCGs.loc[HCG]['dec'], 0.4, HCGs.loc[HCG]['dist'])"
   ]
  },
  {
   "cell_type": "code",
   "execution_count": null,
   "metadata": {},
   "outputs": [],
   "source": [
    "HCG = 22\n",
    "split_overlay(HCG, HCGs.loc[HCG]['ra'], HCGs.loc[HCG]['dec'], 0.25, HCGs.loc[HCG]['dist'])"
   ]
  },
  {
   "cell_type": "code",
   "execution_count": null,
   "metadata": {},
   "outputs": [],
   "source": [
    "HCG = 23\n",
    "split_overlay(HCG, HCGs.loc[HCG]['ra'], HCGs.loc[HCG]['dec'], 0.25, HCGs.loc[HCG]['dist'])"
   ]
  },
  {
   "cell_type": "code",
   "execution_count": null,
   "metadata": {},
   "outputs": [],
   "source": [
    "HCG = 25\n",
    "split_overlay(HCG, HCGs.loc[HCG]['ra'], HCGs.loc[HCG]['dec'], 0.25, HCGs.loc[HCG]['dist'])"
   ]
  },
  {
   "cell_type": "code",
   "execution_count": null,
   "metadata": {},
   "outputs": [],
   "source": [
    "HCG = 26\n",
    "split_overlay(HCG, HCGs.loc[HCG]['ra'], HCGs.loc[HCG]['dec'], 0.125, HCGs.loc[HCG]['dist'])"
   ]
  },
  {
   "cell_type": "code",
   "execution_count": null,
   "metadata": {},
   "outputs": [],
   "source": [
    "HCG = 30\n",
    "split_overlay(HCG, HCGs.loc[HCG]['ra'], HCGs.loc[HCG]['dec'], 0.25, HCGs.loc[HCG]['dist'])"
   ]
  },
  {
   "cell_type": "code",
   "execution_count": null,
   "metadata": {},
   "outputs": [],
   "source": [
    "HCG = 31\n",
    "split_overlay(HCG, HCGs.loc[HCG]['ra'], HCGs.loc[HCG]['dec'], 0.125, HCGs.loc[HCG]['dist'])"
   ]
  },
  {
   "cell_type": "code",
   "execution_count": null,
   "metadata": {},
   "outputs": [],
   "source": [
    "HCG = 33\n",
    "split_overlay(HCG, HCGs.loc[HCG]['ra'], HCGs.loc[HCG]['dec'], 0.1, HCGs.loc[HCG]['dist'], 'POSS')"
   ]
  },
  {
   "cell_type": "code",
   "execution_count": null,
   "metadata": {},
   "outputs": [],
   "source": [
    "HCG = 37\n",
    "split_overlay(HCG, HCGs.loc[HCG]['ra'], HCGs.loc[HCG]['dec'], 0.2, HCGs.loc[HCG]['dist'])"
   ]
  },
  {
   "cell_type": "code",
   "execution_count": null,
   "metadata": {},
   "outputs": [],
   "source": [
    "HCG = 40\n",
    "split_overlay(HCG, HCGs.loc[HCG]['ra'], HCGs.loc[HCG]['dec'], 0.25, HCGs.loc[HCG]['dist'])"
   ]
  },
  {
   "cell_type": "code",
   "execution_count": null,
   "metadata": {},
   "outputs": [],
   "source": [
    "HCG = 47\n",
    "split_overlay(HCG, HCGs.loc[HCG]['ra'], HCGs.loc[HCG]['dec'], 0.15, HCGs.loc[HCG]['dist'])"
   ]
  },
  {
   "cell_type": "code",
   "execution_count": null,
   "metadata": {},
   "outputs": [],
   "source": [
    "HCG = 48\n",
    "split_overlay(HCG, HCGs.loc[HCG]['ra'], HCGs.loc[HCG]['dec'], 0.25, HCGs.loc[HCG]['dist'], 'POSS')"
   ]
  },
  {
   "cell_type": "code",
   "execution_count": null,
   "metadata": {},
   "outputs": [],
   "source": [
    "HCG = 49\n",
    "split_overlay(HCG, HCGs.loc[HCG]['ra'], HCGs.loc[HCG]['dec'], 0.125, HCGs.loc[HCG]['dist'])"
   ]
  },
  {
   "cell_type": "code",
   "execution_count": null,
   "metadata": {},
   "outputs": [],
   "source": [
    "HCG = 54\n",
    "split_overlay(HCG, HCGs.loc[HCG]['ra'], HCGs.loc[HCG]['dec'], 0.15, HCGs.loc[HCG]['dist'])"
   ]
  },
  {
   "cell_type": "code",
   "execution_count": null,
   "metadata": {},
   "outputs": [],
   "source": [
    "HCG = 56\n",
    "split_overlay(HCG, HCGs.loc[HCG]['ra'], HCGs.loc[HCG]['dec'], 0.15, HCGs.loc[HCG]['dist'])"
   ]
  },
  {
   "cell_type": "code",
   "execution_count": null,
   "metadata": {},
   "outputs": [],
   "source": [
    "HCG = 57\n",
    "split_overlay(HCG, HCGs.loc[HCG]['ra'], HCGs.loc[HCG]['dec'], 0.25, HCGs.loc[HCG]['dist'])"
   ]
  },
  {
   "cell_type": "code",
   "execution_count": null,
   "metadata": {},
   "outputs": [],
   "source": [
    "HCG = 58\n",
    "split_overlay(HCG, HCGs.loc[HCG]['ra'], HCGs.loc[HCG]['dec'], 0.25, HCGs.loc[HCG]['dist'])"
   ]
  },
  {
   "cell_type": "code",
   "execution_count": null,
   "metadata": {},
   "outputs": [],
   "source": [
    "HCG = 59\n",
    "split_overlay(HCG, HCGs.loc[HCG]['ra'], HCGs.loc[HCG]['dec'], 0.15, HCGs.loc[HCG]['dist'])"
   ]
  },
  {
   "cell_type": "code",
   "execution_count": null,
   "metadata": {},
   "outputs": [],
   "source": [
    "HCG = 61\n",
    "split_overlay(HCG, HCGs.loc[HCG]['ra'], HCGs.loc[HCG]['dec'], 0.275, HCGs.loc[HCG]['dist'])"
   ]
  },
  {
   "cell_type": "code",
   "execution_count": null,
   "metadata": {},
   "outputs": [],
   "source": [
    "HCG = 68\n",
    "split_overlay(HCG, HCGs.loc[HCG]['ra'], HCGs.loc[HCG]['dec'], 0.3, HCGs.loc[HCG]['dist'])"
   ]
  },
  {
   "cell_type": "code",
   "execution_count": null,
   "metadata": {},
   "outputs": [],
   "source": [
    "HCG = 71\n",
    "split_overlay(HCG, HCGs.loc[HCG]['ra'], HCGs.loc[HCG]['dec'], 0.2, HCGs.loc[HCG]['dist'])"
   ]
  },
  {
   "cell_type": "code",
   "execution_count": null,
   "metadata": {},
   "outputs": [],
   "source": [
    "HCG = 79\n",
    "split_overlay(HCG, HCGs.loc[HCG]['ra'], HCGs.loc[HCG]['dec'], 0.1, HCGs.loc[HCG]['dist'])"
   ]
  },
  {
   "cell_type": "code",
   "execution_count": null,
   "metadata": {},
   "outputs": [],
   "source": [
    "HCG = 88\n",
    "split_overlay(HCG, HCGs.loc[HCG]['ra'], HCGs.loc[HCG]['dec'], 0.2, HCGs.loc[HCG]['dist'])"
   ]
  },
  {
   "cell_type": "code",
   "execution_count": null,
   "metadata": {},
   "outputs": [],
   "source": [
    "HCG = 90\n",
    "split_overlay(HCG, HCGs.loc[HCG]['ra'], HCGs.loc[HCG]['dec'], 0.35, HCGs.loc[HCG]['dist'], 'POSS')"
   ]
  },
  {
   "cell_type": "code",
   "execution_count": null,
   "metadata": {},
   "outputs": [],
   "source": [
    "HCG = 91\n",
    "split_overlay(HCG, HCGs.loc[HCG]['ra'], HCGs.loc[HCG]['dec'], 0.25, HCGs.loc[HCG]['dist'], 'POSS')"
   ]
  },
  {
   "cell_type": "code",
   "execution_count": null,
   "metadata": {},
   "outputs": [],
   "source": [
    "HCG = 92\n",
    "split_overlay(HCG, HCGs.loc[HCG]['ra'], HCGs.loc[HCG]['dec'], 0.125, HCGs.loc[HCG]['dist'], 'SDSS')"
   ]
  },
  {
   "cell_type": "code",
   "execution_count": null,
   "metadata": {},
   "outputs": [],
   "source": [
    "HCG = 93\n",
    "split_overlay(HCG, HCGs.loc[HCG]['ra'], HCGs.loc[HCG]['dec'], 0.25, HCGs.loc[HCG]['dist'])"
   ]
  },
  {
   "cell_type": "code",
   "execution_count": null,
   "metadata": {},
   "outputs": [],
   "source": [
    "HCG = 96\n",
    "split_overlay(HCG, HCGs.loc[HCG]['ra'], HCGs.loc[HCG]['dec'], 0.25, HCGs.loc[HCG]['dist'])"
   ]
  },
  {
   "cell_type": "code",
   "execution_count": null,
   "metadata": {},
   "outputs": [],
   "source": [
    "HCG = 97\n",
    "split_overlay(HCG, HCGs.loc[HCG]['ra'], HCGs.loc[HCG]['dec'], 0.25, HCGs.loc[HCG]['dist'])"
   ]
  },
  {
   "cell_type": "code",
   "execution_count": null,
   "metadata": {},
   "outputs": [],
   "source": [
    "HCG = 100\n",
    "split_overlay(HCG, HCGs.loc[HCG]['ra'], HCGs.loc[HCG]['dec'], 0.25, HCGs.loc[HCG]['dist'])"
   ]
  },
  {
   "cell_type": "code",
   "execution_count": null,
   "metadata": {},
   "outputs": [],
   "source": []
  }
 ],
 "metadata": {
  "kernelspec": {
   "display_name": "Python 3 (ipykernel)",
   "language": "python",
   "name": "python3"
  },
  "language_info": {
   "codemirror_mode": {
    "name": "ipython",
    "version": 3
   },
   "file_extension": ".py",
   "mimetype": "text/x-python",
   "name": "python",
   "nbconvert_exporter": "python",
   "pygments_lexer": "ipython3",
   "version": "3.7.12"
  }
 },
 "nbformat": 4,
 "nbformat_minor": 4
}
