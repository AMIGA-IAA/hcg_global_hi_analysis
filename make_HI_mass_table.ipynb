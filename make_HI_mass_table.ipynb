{
 "cells": [
  {
   "cell_type": "code",
   "execution_count": null,
   "metadata": {},
   "outputs": [],
   "source": [
    "import matplotlib,numpy,glob\n",
    "import common_functions as cf\n",
    "import matplotlib.pyplot as plt\n",
    "from astropy.io import ascii\n",
    "from astropy.table import Table\n",
    "import astropy.units as u\n",
    "import matplotlib.patches as patches"
   ]
  },
  {
   "cell_type": "code",
   "execution_count": null,
   "metadata": {},
   "outputs": [],
   "source": [
    "font = {'size'   : 14, 'family' : 'serif', 'serif' : 'cm'}\n",
    "plt.rc('font', **font)\n",
    "plt.rcParams['image.interpolation'] = 'nearest'\n",
    "plt.rcParams['lines.linewidth'] = 1\n",
    "plt.rcParams['axes.linewidth'] = 1"
   ]
  },
  {
   "cell_type": "code",
   "execution_count": null,
   "metadata": {},
   "outputs": [],
   "source": [
    "HCGs = Table.read('tables/HCGs.vo', format='votable')\n",
    "HCGs.add_index('HCG')\n",
    "\n",
    "HCG_mems = Table.read('tables/HCG_members.vo', format='votable')\n",
    "HCG_mems.add_index('name')\n",
    "\n",
    "HCGs['logMHI_gals'] = numpy.zeros(len(HCGs))+numpy.nan\n",
    "HCGs['logMHI_exfs'] = numpy.zeros(len(HCGs))+numpy.nan\n",
    "HCGs['logMHI_tot'] = numpy.zeros(len(HCGs))+numpy.nan\n",
    "\n",
    "HCG_mems['logMHI'] = numpy.zeros(len(HCG_mems))+numpy.nan\n",
    "\n",
    "unresolved_list = [38,49,57,62,89,95]\n",
    "falsegroup_list = [48]"
   ]
  },
  {
   "cell_type": "code",
   "execution_count": null,
   "metadata": {},
   "outputs": [],
   "source": [
    "for HCG in list(HCGs['HCG']):\n",
    "    file_list = glob.glob(f'SoFiA_masks/HCG{HCG}/separated_features/*.fits')\n",
    "    if len(file_list) > 0:\n",
    "        print(f'Opening the following files for HCG{HCG}:')\n",
    "        print('\\t'+'\\n\\t'.join(file_list))\n",
    "\n",
    "        members = list(HCG_mems['name'][HCG_mems['HCG'] == HCG])\n",
    "\n",
    "        for pb_cubelet in file_list:\n",
    "\n",
    "            cube,cube_ra,cube_dec,cube_vel,bmaj,bmin,pa,beam_factor,cube_dx,cube_dy,cube_dv = cf.read_fitscube(pb_cubelet,True,True)\n",
    "            \n",
    "            #Catch the error that SlicerAstro sometimes writes an incorrect value in pixel (0,0,0)\n",
    "            if abs(cube[0,0,0]) > 1.:\n",
    "                cube[0,0,0] = 0.\n",
    "\n",
    "            mhi = numpy.log10(numpy.nansum(cube.flatten()/beam_factor)*abs(cube_dv)*235600.*HCGs.loc[HCG]['dist']**2.)\n",
    "\n",
    "            #Identify what object is classified as\n",
    "            group_feature = False\n",
    "            feat_code = ['br','ex','tl','cl']\n",
    "            for feature in feat_code:\n",
    "                if feature in pb_cubelet:\n",
    "                    inx = pb_cubelet.index(feature)\n",
    "                    print(f'HCG{HCG}'+pb_cubelet[inx:inx+len(feature)+1]+' is a non-galactic feature.')\n",
    "                    print(f'HCG{HCG}'+pb_cubelet[inx:inx+len(feature)+1]+f' has a log HI mass of:{mhi}')\n",
    "                    group_feature = True\n",
    "                    if numpy.isfinite(HCGs.loc[HCG]['logMHI_exfs']):\n",
    "                        HCGs.loc[HCG]['logMHI_exfs'] = numpy.log10(10.**mhi + 10.**HCGs.loc[HCG]['logMHI_exfs'])\n",
    "                    else:\n",
    "                        HCGs.loc[HCG]['logMHI_exfs'] = mhi\n",
    "                    break\n",
    "                        \n",
    "            group_member = False\n",
    "            if not group_feature:\n",
    "                for mem in members:\n",
    "                    if mem+'.fits' in pb_cubelet:\n",
    "                        print(f'{mem} is a member of HCG{HCG}.')\n",
    "                        print(f'{mem} has a log HI mass of:{mhi}')\n",
    "                        group_member = True\n",
    "                        HCG_mems.loc[mem]['logMHI'] = mhi\n",
    "                        if numpy.isfinite(HCGs.loc[HCG]['logMHI_gals']):\n",
    "                            HCGs.loc[HCG]['logMHI_gals'] = numpy.log10(10.**mhi + 10.**HCGs.loc[HCG]['logMHI_gals'])\n",
    "                        else:\n",
    "                            HCGs.loc[HCG]['logMHI_gals'] = mhi\n",
    "                        break\n",
    "                        \n",
    "            #Add exceptions for HCGs 38, 47, 49, 57, 95, and 100\n",
    "            if (\"abcd\" in pb_cubelet) or (\"acd\" in pb_cubelet) or (\"ab\" in pb_cubelet) or (\"ad\" in pb_cubelet) or (\"abc\" in pb_cubelet):\n",
    "                group_member = True\n",
    "                inx1 = pb_cubelet.index('features/')+9\n",
    "                inx2 = pb_cubelet.index('.fits')\n",
    "                print(pb_cubelet[inx1:inx2]+f' is part of HCG{HCG}.')\n",
    "                print(pb_cubelet[inx1:inx2]+f' has a log HI mass of:{mhi}')\n",
    "                if numpy.isfinite(HCGs.loc[HCG]['logMHI_gals']):\n",
    "                    HCGs.loc[HCG]['logMHI_gals'] = numpy.log10(10.**mhi + 10.**HCGs.loc[HCG]['logMHI_gals'])\n",
    "                else:\n",
    "                    HCGs.loc[HCG]['logMHI_gals'] = mhi\n",
    "                break\n",
    "\n",
    "            if not group_feature and not group_member:\n",
    "                inx1 = pb_cubelet.index('features/')+9\n",
    "                inx2 = pb_cubelet.index('.fits')\n",
    "                print(pb_cubelet[inx1:inx2]+f' is not part of HCG{HCG}.')\n",
    "                print(pb_cubelet[inx1:inx2]+f' has a log HI mass of:{mhi}')\n",
    "                \n",
    "        if numpy.isfinite(HCGs.loc[HCG]['logMHI_gals']) and numpy.isfinite(HCGs.loc[HCG]['logMHI_exfs']):\n",
    "            HCGs.loc[HCG]['logMHI_tot'] = numpy.log10(10.**HCGs.loc[HCG]['logMHI_gals'] + 10.**HCGs.loc[HCG]['logMHI_exfs'])\n",
    "        elif numpy.isfinite(HCGs.loc[HCG]['logMHI_gals']):\n",
    "            HCGs.loc[HCG]['logMHI_tot'] = HCGs.loc[HCG]['logMHI_gals']\n",
    "        elif numpy.isfinite(HCGs.loc[HCG]['logMHI_exfs']):\n",
    "            HCGs.loc[HCG]['logMHI_tot'] = HCGs.loc[HCG]['logMHI_exfs']\n",
    "        print(f\"HCG {HCG} has a log HI mass of:{HCGs.loc[HCG]['logMHI_tot']}\")\n",
    "        \n",
    "        if HCG in unresolved_list:\n",
    "            HCGs.loc[HCG]['logMHI_exfs'] = numpy.nan\n",
    "            HCGs.loc[HCG]['logMHI_gals'] = numpy.nan\n",
    "        if HCG in falsegroup_list:\n",
    "            HCGs.loc[HCG]['logMHI_exfs'] = numpy.nan\n",
    "            HCGs.loc[HCG]['logMHI_gals'] = numpy.nan\n",
    "    else:\n",
    "        print(f'No files found for HCG{HCG}.')\n",
    "\n",
    "    print('\\n\\n')"
   ]
  },
  {
   "cell_type": "code",
   "execution_count": null,
   "metadata": {},
   "outputs": [],
   "source": [
    "HCGs"
   ]
  },
  {
   "cell_type": "code",
   "execution_count": null,
   "metadata": {},
   "outputs": [],
   "source": []
  },
  {
   "cell_type": "code",
   "execution_count": null,
   "metadata": {},
   "outputs": [],
   "source": [
    "HCGs['ex_frac'] = (numpy.where(numpy.isfinite(HCGs['logMHI_exfs']),10.**HCGs['logMHI_exfs'],0.))/(numpy.where(numpy.isfinite(HCGs['logMHI_gals']),10.**HCGs['logMHI_gals'],0.) + numpy.where(numpy.isfinite(HCGs['logMHI_exfs']),10.**HCGs['logMHI_exfs'],0.))\n",
    "HCGs['HIdef'] = HCGs['logMHI_pred'] - HCGs['logMHI_tot']\n",
    "\n",
    "HCGs['logMHI_gals'] = numpy.round(HCGs['logMHI_gals'],decimals=2)\n",
    "HCGs['logMHI_exfs'] = numpy.round(HCGs['logMHI_exfs'],decimals=2)\n",
    "HCGs['logMHI_tot'] = numpy.round(HCGs['logMHI_tot'],decimals=2)\n",
    "HCGs['ex_frac'] = numpy.round(HCGs['ex_frac'],decimals=2)\n",
    "HCGs['HIdef'] = numpy.round(HCGs['HIdef'],decimals=2)"
   ]
  },
  {
   "cell_type": "code",
   "execution_count": null,
   "metadata": {},
   "outputs": [],
   "source": [
    "HCG_mems['HIdef'] = HCG_mems['logMHI_pred'] - HCG_mems['logMHI']\n",
    "\n",
    "HCG_mems['logMHI'] = numpy.round(HCG_mems['logMHI'],decimals=2)\n",
    "HCG_mems['HIdef'] = numpy.round(HCG_mems['HIdef'],decimals=2)"
   ]
  },
  {
   "cell_type": "code",
   "execution_count": null,
   "metadata": {},
   "outputs": [],
   "source": [
    "HCGs"
   ]
  },
  {
   "cell_type": "code",
   "execution_count": null,
   "metadata": {},
   "outputs": [],
   "source": [
    "HCG_mems"
   ]
  },
  {
   "cell_type": "code",
   "execution_count": null,
   "metadata": {},
   "outputs": [],
   "source": [
    "HCGs.write('tables/HCGs_VLA_HI.vo',format='votable',overwrite=True)\n",
    "HCGs.write('tables/HCGs_VLA_HI.fits',format='fits',overwrite=True)\n",
    "HCGs.write('tables/HCGs_VLA_HI.ascii',format='ascii.fixed_width_two_line',overwrite=True)"
   ]
  },
  {
   "cell_type": "code",
   "execution_count": null,
   "metadata": {},
   "outputs": [],
   "source": [
    "HCG_mems.write('tables/HCG_mems_VLA_HI.vo',format='votable',overwrite=True)\n",
    "HCG_mems.write('tables/HCG_mems_VLA_HI.fits',format='fits',overwrite=True)\n",
    "HCG_mems.write('tables/HCG_mems_VLA_HI.ascii',format='ascii.fixed_width_two_line',overwrite=True)"
   ]
  },
  {
   "cell_type": "code",
   "execution_count": null,
   "metadata": {},
   "outputs": [],
   "source": []
  },
  {
   "cell_type": "code",
   "execution_count": null,
   "metadata": {},
   "outputs": [],
   "source": []
  }
 ],
 "metadata": {
  "kernelspec": {
   "display_name": "Python 3 (ipykernel)",
   "language": "python",
   "name": "python3"
  },
  "language_info": {
   "codemirror_mode": {
    "name": "ipython",
    "version": 3
   },
   "file_extension": ".py",
   "mimetype": "text/x-python",
   "name": "python",
   "nbconvert_exporter": "python",
   "pygments_lexer": "ipython3",
   "version": "3.7.12"
  }
 },
 "nbformat": 4,
 "nbformat_minor": 4
}
