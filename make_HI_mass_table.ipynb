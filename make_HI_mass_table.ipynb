{
 "cells": [
  {
   "cell_type": "code",
   "execution_count": null,
   "metadata": {},
   "outputs": [],
   "source": [
    "import matplotlib,numpy,glob\n",
    "import common_functions as cf\n",
    "import matplotlib.pyplot as plt\n",
    "from astropy.table import Table"
   ]
  },
  {
   "cell_type": "code",
   "execution_count": null,
   "metadata": {},
   "outputs": [],
   "source": [
    "HCGs = Table.read('../output/HCGs.vo', format='votable')\n",
    "HCGs.add_index('HCG')\n",
    "\n",
    "HCG_mems = Table.read('../output/HCG_members.vo', format='votable')\n",
    "\n",
    "HCGs['logMHI_gals'] = numpy.zeros(len(HCGs))+numpy.nan\n",
    "HCGs['logMHI_exfs'] = numpy.zeros(len(HCGs))+numpy.nan\n",
    "\n",
    "HCG_mems['logMHI'] = numpy.zeros(len(HCG_mems))+numpy.nan"
   ]
  },
  {
   "cell_type": "code",
   "execution_count": null,
   "metadata": {},
   "outputs": [],
   "source": [
    "for HCG in list(HCGs['HCG']):\n",
    "    file_list = glob.glob(f'SoFiA_masks/HCG{HCG}/separated_features/*.fits')\n",
    "    if len(file_list) > 0:\n",
    "        print(f'Opening the following files for HCG{HCG}:')\n",
    "        print('\\t'+'\\n\\t'.join(file_list))\n",
    "\n",
    "        members = list(HCG_mems['name'][HCG_mems['HCG'] == HCG])\n",
    "\n",
    "        for pb_cubelet in file_list:\n",
    "\n",
    "            cube,cube_ra,cube_dec,cube_vel,bmaj,bmin,pa,beam_factor,cube_dx,cube_dy,cube_dv = cf.read_fitscube(pb_cubelet,True,True)\n",
    "            \n",
    "            #Catch the error that SlicerAstro sometimes writes an incorrect value in pixel (0,0,0)\n",
    "            if abs(cube[0,0,0]) > 1.:\n",
    "                cube[0,0,0] = 0.\n",
    "\n",
    "            mhi = numpy.log10(numpy.nansum(cube.flatten()/beam_factor)*abs(cube_dv)*235600.*HCGs.loc[HCG]['dist']**2.)\n",
    "\n",
    "            #Identify what object is classified as\n",
    "            group_feature = False\n",
    "            feat_code = ['br','ex','tl','cl']\n",
    "            for feature in feat_code:\n",
    "                if feature in pb_cubelet:\n",
    "                    inx = pb_cubelet.index(feature)\n",
    "                    print(f'HCG{HCG}'+pb_cubelet[inx:inx+len(feature)+1]+' is a non-galactic feature.')\n",
    "                    print(f'HCG{HCG}'+pb_cubelet[inx:inx+len(feature)+1]+f' has a log HI mass of:{mhi}')\n",
    "                    group_feature = True\n",
    "                    if numpy.isfinite(HCGs.loc[HCG]['logMHI_exfs']):\n",
    "                        HCGs.loc[HCG]['logMHI_exfs'] = numpy.log10(10.**mhi + 10.**HCGs.loc[HCG]['logMHI_exfs'])\n",
    "                    else:\n",
    "                        HCGs.loc[HCG]['logMHI_exfs'] = mhi\n",
    "                    break\n",
    "                        \n",
    "            group_member = False\n",
    "            if not group_feature:\n",
    "                for mem in members:\n",
    "                    if mem+'.fits' in pb_cubelet:\n",
    "                        print(f'{mem} is a member of HCG{HCG}.')\n",
    "                        print(f'{mem} has a log HI mass of:{mhi}')\n",
    "                        group_member = True\n",
    "                        HCG_mems[HCG_mems['name']==mem]['logMHI'] = mhi\n",
    "                        if numpy.isfinite(HCGs.loc[HCG]['logMHI_gals']):\n",
    "                            HCGs.loc[HCG]['logMHI_gals'] = numpy.log10(10.**mhi + 10.**HCGs.loc[HCG]['logMHI_gals'])\n",
    "                        else:\n",
    "                            HCGs.loc[HCG]['logMHI_gals'] = mhi\n",
    "                        break\n",
    "\n",
    "            if not group_feature and not group_member:\n",
    "                inx1 = pb_cubelet.index('features/')+9\n",
    "                inx2 = pb_cubelet.index('.fits')\n",
    "                print(pb_cubelet[inx1:inx2]+f' is not part of HCG{HCG}.')\n",
    "                print(pb_cubelet[inx1:inx2]+f' has a log HI mass of:{mhi}')\n",
    "    else:\n",
    "        print(f'No files found for HCG{HCG}.')\n",
    "\n",
    "    print('\\n\\n')"
   ]
  },
  {
   "cell_type": "code",
   "execution_count": null,
   "metadata": {},
   "outputs": [],
   "source": [
    "HCGs"
   ]
  },
  {
   "cell_type": "code",
   "execution_count": null,
   "metadata": {},
   "outputs": [],
   "source": [
    "HCGs['HIdef'] = HCGs['logMHI_pred'] - numpy.log10(numpy.where(numpy.isfinite(HCGs['logMHI_gals']),10.**HCGs['logMHI_gals'],0.) + numpy.where(numpy.isfinite(HCGs['logMHI_exfs']),10.**HCGs['logMHI_exfs'],0.))\n",
    "HCGs['ex_frac'] = (numpy.where(numpy.isfinite(HCGs['logMHI_exfs']),10.**HCGs['logMHI_exfs'],0.))/(numpy.where(numpy.isfinite(HCGs['logMHI_gals']),10.**HCGs['logMHI_gals'],0.) + numpy.where(numpy.isfinite(HCGs['logMHI_exfs']),10.**HCGs['logMHI_exfs'],0.))"
   ]
  },
  {
   "cell_type": "code",
   "execution_count": null,
   "metadata": {},
   "outputs": [],
   "source": [
    "HCGs"
   ]
  },
  {
   "cell_type": "code",
   "execution_count": null,
   "metadata": {},
   "outputs": [],
   "source": [
    "plt.scatter(HCGs['HIdef'],HCGs['ex_frac'])"
   ]
  },
  {
   "cell_type": "code",
   "execution_count": null,
   "metadata": {},
   "outputs": [],
   "source": []
  }
 ],
 "metadata": {
  "kernelspec": {
   "display_name": "Python 3",
   "language": "python",
   "name": "python3"
  },
  "language_info": {
   "codemirror_mode": {
    "name": "ipython",
    "version": 3
   },
   "file_extension": ".py",
   "mimetype": "text/x-python",
   "name": "python",
   "nbconvert_exporter": "python",
   "pygments_lexer": "ipython3",
   "version": "3.7.3"
  }
 },
 "nbformat": 4,
 "nbformat_minor": 4
}
