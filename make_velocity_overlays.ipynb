{
 "cells": [
  {
   "cell_type": "code",
   "execution_count": null,
   "metadata": {},
   "outputs": [],
   "source": [
    "import matplotlib,aplpy,numpy\n",
    "from astropy.wcs import WCS\n",
    "from astropy.io import fits\n",
    "from astropy.table import Table\n",
    "from astropy.table import QTable\n",
    "import matplotlib.pyplot as plt\n",
    "import common_functions as cf\n",
    "from astropy import units\n",
    "from astropy.coordinates import SkyCoord\n",
    "import aplpy"
   ]
  },
  {
   "cell_type": "code",
   "execution_count": null,
   "metadata": {},
   "outputs": [],
   "source": [
    "font = {'size'   : 14, 'family' : 'serif', 'serif' : 'cm'}\n",
    "plt.rc('font', **font)\n",
    "plt.rcParams['image.interpolation'] = 'nearest'\n",
    "plt.rcParams['lines.linewidth'] = 1\n",
    "plt.rcParams['axes.linewidth'] = 1"
   ]
  },
  {
   "cell_type": "code",
   "execution_count": null,
   "metadata": {},
   "outputs": [],
   "source": [
    "def velocity_overlay(optical_image, mask, flat_cube, sofia_mom0, src_cat, ra_cen, dec_cen, vel_cen, width, dist, POSS=False, threshold=4.5, vel_step=20.):\n",
    "    \n",
    "    mask,mask_ra,mask_dec,mask_vel = cf.read_fitscube(mask,mask=True)\n",
    "    cube,cube_ra,cube_dec,cube_vel,bmaj,bmin,pa,beam_factor,cube_dx,cube_dy,cube_dv = cf.read_fitscube(flat_cube,True,True)\n",
    "    src_cat = Table.read(src_cat)\n",
    "    \n",
    "    rms = numpy.mean(src_cat['rms'])\n",
    "    \n",
    "    mom1 = numpy.nan_to_num(numpy.einsum('ijk,i',mask*numpy.where(cube*numpy.sqrt(20./abs(cube_dv)) > threshold*rms,cube,0.),cube_vel))/numpy.nansum(mask*numpy.where(cube*numpy.sqrt(20./abs(cube_dv)) > threshold*rms,cube,0.),axis=0)\n",
    "    \n",
    "    hdu = fits.open(sofia_mom0)\n",
    "    wcs = WCS(hdu[0].header,naxis=2)\n",
    "    data = mom1\n",
    "    hdu = fits.PrimaryHDU(data)\n",
    "    hdu.header.update(wcs.to_header())\n",
    "\n",
    "    cen_pos = [ra_cen,dec_cen]\n",
    "    fig_wid = width\n",
    "    \n",
    "    contour_levels = numpy.arange(vel_cen-1000.,vel_cen+1000.1,vel_step) #km/s\n",
    "\n",
    "    #Initialise figure\n",
    "    f = aplpy.FITSFigure(optical_image, figsize=(8.,8.), dimensions=[0, 1])\n",
    "\n",
    "    #Re-centre and set size (identical to above command)\n",
    "    f.recenter(cen_pos[0], cen_pos[1], radius=fig_wid/2.)\n",
    "\n",
    "    #Overlay contours\n",
    "    f.show_contour(hdu,colors=['red'],levels=contour_levels,linestyle='-')\n",
    "\n",
    "    #Display r-band image\n",
    "    if not POSS:\n",
    "        f.show_colorscale(cmap='Greys',vmin=1E-4,vmax=2.5,stretch='log')\n",
    "    else:\n",
    "        f.show_colorscale(cmap='Greys',pmin=0.1,pmax=99.8,stretch='log')\n",
    "\n",
    "    #Add beam\n",
    "    hdu = fits.open(flat_cube)\n",
    "    f.show_ellipses(xw=cen_pos[0]+0.4*fig_wid/numpy.cos(cen_pos[1]*numpy.pi/180.), yw=cen_pos[1]-0.4*fig_wid, width=hdu[0].header['BMIN'], height=hdu[0].header['BMAJ'], angle=hdu[0].header['BPA'], facecolor='k', lw=0)\n",
    "\n",
    "    #Title\n",
    "    f.set_title(f'HCG {HCG}')\n",
    "    \n",
    "    #Add scalebar\n",
    "    f.add_scalebar((180./numpy.pi)*0.02/dist, corner='bottom right', lw=4, label=\"20 kpc\")\n",
    "    \n",
    "    #Save\n",
    "    f.savefig('overlays/HCG{}_velocity.pdf'.format(HCG),dpi=100)"
   ]
  },
  {
   "cell_type": "code",
   "execution_count": null,
   "metadata": {},
   "outputs": [],
   "source": [
    "HCGs = Table.read('tables/HCGs.vo', format='votable')\n",
    "HCGs.add_index('HCG')"
   ]
  },
  {
   "cell_type": "code",
   "execution_count": null,
   "metadata": {},
   "outputs": [],
   "source": [
    "#HCGs"
   ]
  },
  {
   "cell_type": "code",
   "execution_count": null,
   "metadata": {},
   "outputs": [],
   "source": [
    "HCG = 2\n",
    "velocity_overlay('DECaLS_images/r_fits/HCG{0}_r.fits'.format(HCG), \n",
    "                'SoFiA_masks/HCG{0}/HCG{0}_mask.fits'.format(HCG),\n",
    "                'SoFiA_masks/HCG{0}/HCG{0}_HI.fits'.format(HCG), \n",
    "                'SoFiA_masks/HCG{0}/HCG{0}_mom1.fits'.format(HCG),\n",
    "                'SoFiA_masks/HCG{0}/HCG{0}_cat.xml'.format(HCG), \n",
    "                7.8593, 8.4384, HCGs.loc[HCG]['cz'], \n",
    "                0.2, HCGs.loc[HCG]['dist'])"
   ]
  },
  {
   "cell_type": "code",
   "execution_count": null,
   "metadata": {},
   "outputs": [],
   "source": [
    "HCG = 7\n",
    "velocity_overlay('DECaLS_images/r_fits/HCG{0}_r.fits'.format(HCG), \n",
    "                'SoFiA_masks/HCG{0}/HCG{0}_mask.fits'.format(HCG),\n",
    "                'SoFiA_masks/HCG{0}/HCG{0}_HI.fits'.format(HCG), \n",
    "                'SoFiA_masks/HCG{0}/HCG{0}_mom1.fits'.format(HCG),\n",
    "                'SoFiA_masks/HCG{0}/HCG{0}_cat.xml'.format(HCG), \n",
    "                HCGs.loc[HCG]['ra'], HCGs.loc[HCG]['dec'], HCGs.loc[HCG]['cz'], \n",
    "                0.2, HCGs.loc[HCG]['dist'], vel_step=20., threshold=2.)"
   ]
  },
  {
   "cell_type": "code",
   "execution_count": null,
   "metadata": {},
   "outputs": [],
   "source": [
    "HCG = 10\n",
    "velocity_overlay('SDSS_images/r_fits/HCG{0}_r.fits'.format(HCG), \n",
    "                'SoFiA_masks/HCG{0}/HCG{0}_mask.fits'.format(HCG),\n",
    "                'SoFiA_masks/HCG{0}/HCG{0}_HI.fits'.format(HCG), \n",
    "                'SoFiA_masks/HCG{0}/HCG{0}_mom1.fits'.format(HCG),\n",
    "                'SoFiA_masks/HCG{0}/HCG{0}_cat.xml'.format(HCG), \n",
    "                21.5277, 34.7159, HCGs.loc[HCG]['cz'], \n",
    "                0.25, HCGs.loc[HCG]['dist'], vel_step=20.)"
   ]
  },
  {
   "cell_type": "code",
   "execution_count": null,
   "metadata": {},
   "outputs": [],
   "source": [
    "HCG = 15\n",
    "velocity_overlay('DECaLS_images/r_fits/HCG{0}_r.fits'.format(HCG), \n",
    "                'SoFiA_masks/HCG{0}/HCG{0}_mask.fits'.format(HCG),\n",
    "                'SoFiA_masks/HCG{0}/HCG{0}_HI.fits'.format(HCG), \n",
    "                'SoFiA_masks/HCG{0}/HCG{0}_mom1.fits'.format(HCG),\n",
    "                'SoFiA_masks/HCG{0}/HCG{0}_cat.xml'.format(HCG), \n",
    "                HCGs.loc[HCG]['ra'], HCGs.loc[HCG]['dec'], HCGs.loc[HCG]['cz'], \n",
    "                0.2, HCGs.loc[HCG]['dist'])"
   ]
  },
  {
   "cell_type": "code",
   "execution_count": null,
   "metadata": {},
   "outputs": [],
   "source": [
    "HCG = 16\n",
    "velocity_overlay('DECaLS_images/r_fits/HCG{0}_r.fits'.format(HCG), \n",
    "                'SoFiA_masks/HCG{0}/HCG{0}_mask.fits'.format(HCG),\n",
    "                'SoFiA_masks/HCG{0}/HCG{0}_HI.fits'.format(HCG), \n",
    "                'SoFiA_masks/HCG{0}/HCG{0}_mom1.fits'.format(HCG),\n",
    "                'SoFiA_masks/HCG{0}/HCG{0}_cat.xml'.format(HCG), \n",
    "                32.4251, -10.2207, HCGs.loc[HCG]['cz'], \n",
    "                0.35, HCGs.loc[HCG]['dist'])"
   ]
  },
  {
   "cell_type": "code",
   "execution_count": null,
   "metadata": {},
   "outputs": [],
   "source": [
    "HCG = 19\n",
    "velocity_overlay('DECaLS_images/r_fits/HCG{0}_r.fits'.format(HCG), \n",
    "                'SoFiA_masks/HCG{0}/HCG{0}_mask.fits'.format(HCG),\n",
    "                'SoFiA_masks/HCG{0}/HCG{0}_HI.fits'.format(HCG), \n",
    "                'SoFiA_masks/HCG{0}/HCG{0}_mom1.fits'.format(HCG),\n",
    "                'SoFiA_masks/HCG{0}/HCG{0}_cat.xml'.format(HCG), \n",
    "                40.6731, -12.4158, HCGs.loc[HCG]['cz'], \n",
    "                0.3, HCGs.loc[HCG]['dist'])"
   ]
  },
  {
   "cell_type": "code",
   "execution_count": null,
   "metadata": {},
   "outputs": [],
   "source": [
    "HCG = 22\n",
    "velocity_overlay('DECaLS_images/r_fits/HCG{0}_r.fits'.format(HCG), \n",
    "                'SoFiA_masks/HCG{0}/HCG{0}_mask.fits'.format(HCG),\n",
    "                'SoFiA_masks/HCG{0}/HCG{0}_HI.fits'.format(HCG), \n",
    "                'SoFiA_masks/HCG{0}/HCG{0}_mom1.fits'.format(HCG),\n",
    "                'SoFiA_masks/HCG{0}/HCG{0}_cat.xml'.format(HCG), \n",
    "                45.8892, -15.5835, HCGs.loc[HCG]['cz'], \n",
    "                0.25, HCGs.loc[HCG]['dist'])"
   ]
  },
  {
   "cell_type": "code",
   "execution_count": null,
   "metadata": {},
   "outputs": [],
   "source": [
    "HCG = 23\n",
    "velocity_overlay('DECaLS_images/r_fits/HCG{0}_r.fits'.format(HCG), \n",
    "                'SoFiA_masks/HCG{0}/HCG{0}_mask.fits'.format(HCG),\n",
    "                'SoFiA_masks/HCG{0}/HCG{0}_HI.fits'.format(HCG), \n",
    "                'SoFiA_masks/HCG{0}/HCG{0}_mom1.fits'.format(HCG),\n",
    "                'SoFiA_masks/HCG{0}/HCG{0}_cat.xml'.format(HCG), \n",
    "                46.7789, -9.5633, HCGs.loc[HCG]['cz'], \n",
    "                0.2, HCGs.loc[HCG]['dist'])"
   ]
  },
  {
   "cell_type": "code",
   "execution_count": null,
   "metadata": {},
   "outputs": [],
   "source": [
    "HCG = 25\n",
    "velocity_overlay('DECaLS_images/r_fits/HCG{0}_r.fits'.format(HCG), \n",
    "                'SoFiA_masks/HCG{0}/HCG{0}_mask.fits'.format(HCG),\n",
    "                'SoFiA_masks/HCG{0}/HCG{0}_HI.fits'.format(HCG), \n",
    "                'SoFiA_masks/HCG{0}/HCG{0}_mom1.fits'.format(HCG),\n",
    "                'SoFiA_masks/HCG{0}/HCG{0}_cat.xml'.format(HCG), \n",
    "                HCGs.loc[HCG]['ra'], HCGs.loc[HCG]['dec'], HCGs.loc[HCG]['cz'], \n",
    "                0.25, HCGs.loc[HCG]['dist'])"
   ]
  },
  {
   "cell_type": "code",
   "execution_count": null,
   "metadata": {},
   "outputs": [],
   "source": [
    "HCG = 26\n",
    "velocity_overlay('DECaLS_images/r_fits/HCG{0}_r.fits'.format(HCG), \n",
    "                'SoFiA_masks/HCG{0}/HCG{0}_mask.fits'.format(HCG),\n",
    "                'SoFiA_masks/HCG{0}/HCG{0}_HI.fits'.format(HCG), \n",
    "                'SoFiA_masks/HCG{0}/HCG{0}_mom1.fits'.format(HCG),\n",
    "                'SoFiA_masks/HCG{0}/HCG{0}_cat.xml'.format(HCG), \n",
    "                HCGs.loc[HCG]['ra'], HCGs.loc[HCG]['dec'], HCGs.loc[HCG]['cz'], \n",
    "                0.125, HCGs.loc[HCG]['dist'])"
   ]
  },
  {
   "cell_type": "code",
   "execution_count": null,
   "metadata": {},
   "outputs": [],
   "source": [
    "HCG = 30\n",
    "velocity_overlay('DECaLS_images/r_fits/HCG{0}_r.fits'.format(HCG), \n",
    "                'SoFiA_masks/HCG{0}/HCG{0}_mask.fits'.format(HCG),\n",
    "                'SoFiA_masks/HCG{0}/HCG{0}_HI.fits'.format(HCG), \n",
    "                'SoFiA_masks/HCG{0}/HCG{0}_mom1.fits'.format(HCG),\n",
    "                'SoFiA_masks/HCG{0}/HCG{0}_cat.xml'.format(HCG), \n",
    "                HCGs.loc[HCG]['ra'], HCGs.loc[HCG]['dec'], HCGs.loc[HCG]['cz'], \n",
    "                0.25, HCGs.loc[HCG]['dist'])"
   ]
  },
  {
   "cell_type": "code",
   "execution_count": null,
   "metadata": {},
   "outputs": [],
   "source": [
    "HCG = 31\n",
    "velocity_overlay('DECaLS_images/r_fits/HCG{0}_r.fits'.format(HCG), \n",
    "                'SoFiA_masks/HCG{0}/HCG{0}_mask.fits'.format(HCG),\n",
    "                'SoFiA_masks/HCG{0}/HCG{0}_HI.fits'.format(HCG), \n",
    "                'SoFiA_masks/HCG{0}/HCG{0}_mom1.fits'.format(HCG),\n",
    "                'SoFiA_masks/HCG{0}/HCG{0}_cat.xml'.format(HCG), \n",
    "                HCGs.loc[HCG]['ra'], HCGs.loc[HCG]['dec'], HCGs.loc[HCG]['cz'], \n",
    "                0.125, HCGs.loc[HCG]['dist'])"
   ]
  },
  {
   "cell_type": "code",
   "execution_count": null,
   "metadata": {},
   "outputs": [],
   "source": [
    "HCG = 33\n",
    "velocity_overlay('POSS_images/HCG{0}_R.fits'.format(HCG), \n",
    "                'SoFiA_masks/HCG{0}/HCG{0}_mask.fits'.format(HCG),\n",
    "                'SoFiA_masks/HCG{0}/HCG{0}_HI.fits'.format(HCG), \n",
    "                'SoFiA_masks/HCG{0}/HCG{0}_mom1.fits'.format(HCG),\n",
    "                'SoFiA_masks/HCG{0}/HCG{0}_cat.xml'.format(HCG), \n",
    "                77.7031, 18.0259, HCGs.loc[HCG]['cz'], \n",
    "                0.08, HCGs.loc[HCG]['dist'],POSS=True)"
   ]
  },
  {
   "cell_type": "code",
   "execution_count": null,
   "metadata": {},
   "outputs": [],
   "source": [
    "HCG = 37\n",
    "velocity_overlay('DECaLS_images/r_fits/HCG{0}_r.fits'.format(HCG), \n",
    "                'SoFiA_masks/HCG{0}/HCG{0}_mask.fits'.format(HCG),\n",
    "                'SoFiA_masks/HCG{0}/HCG{0}_HI.fits'.format(HCG), \n",
    "                'SoFiA_masks/HCG{0}/HCG{0}_mom1.fits'.format(HCG),\n",
    "                'SoFiA_masks/HCG{0}/HCG{0}_cat.xml'.format(HCG), \n",
    "                HCGs.loc[HCG]['ra'], HCGs.loc[HCG]['dec'], HCGs.loc[HCG]['cz'], \n",
    "                0.2, HCGs.loc[HCG]['dist'])"
   ]
  },
  {
   "cell_type": "code",
   "execution_count": null,
   "metadata": {},
   "outputs": [],
   "source": [
    "HCG = 38\n",
    "velocity_overlay('DECaLS_images/r_fits/HCG{0}_r.fits'.format(HCG), \n",
    "                'SoFiA_masks/HCG{0}/HCG{0}_mask.fits'.format(HCG),\n",
    "                'SoFiA_masks/HCG{0}/HCG{0}_HI.fits'.format(HCG), \n",
    "                'SoFiA_masks/HCG{0}/HCG{0}_mom1.fits'.format(HCG),\n",
    "                'SoFiA_masks/HCG{0}/HCG{0}_cat.xml'.format(HCG), \n",
    "                HCGs.loc[HCG]['ra'], HCGs.loc[HCG]['dec'], HCGs.loc[HCG]['cz'], \n",
    "                0.15, HCGs.loc[HCG]['dist'])"
   ]
  },
  {
   "cell_type": "code",
   "execution_count": null,
   "metadata": {},
   "outputs": [],
   "source": [
    "HCG = 40\n",
    "velocity_overlay('DECaLS_images/r_fits/HCG{0}_r.fits'.format(HCG), \n",
    "                'SoFiA_masks/HCG{0}/HCG{0}_mask.fits'.format(HCG),\n",
    "                'SoFiA_masks/HCG{0}/HCG{0}_HI.fits'.format(HCG), \n",
    "                'SoFiA_masks/HCG{0}/HCG{0}_mom1.fits'.format(HCG),\n",
    "                'SoFiA_masks/HCG{0}/HCG{0}_cat.xml'.format(HCG), \n",
    "                HCGs.loc[HCG]['ra'], HCGs.loc[HCG]['dec'], HCGs.loc[HCG]['cz'], \n",
    "                0.2, HCGs.loc[HCG]['dist'])"
   ]
  },
  {
   "cell_type": "code",
   "execution_count": null,
   "metadata": {},
   "outputs": [],
   "source": [
    "HCG = 47\n",
    "velocity_overlay('DECaLS_images/r_fits/HCG{0}_r.fits'.format(HCG), \n",
    "                'SoFiA_masks/HCG{0}/HCG{0}_mask.fits'.format(HCG),\n",
    "                'SoFiA_masks/HCG{0}/HCG{0}_HI.fits'.format(HCG), \n",
    "                'SoFiA_masks/HCG{0}/HCG{0}_mom1.fits'.format(HCG),\n",
    "                'SoFiA_masks/HCG{0}/HCG{0}_cat.xml'.format(HCG), \n",
    "                HCGs.loc[HCG]['ra'], HCGs.loc[HCG]['dec'], HCGs.loc[HCG]['cz'], \n",
    "                0.1, HCGs.loc[HCG]['dist'])"
   ]
  },
  {
   "cell_type": "code",
   "execution_count": null,
   "metadata": {},
   "outputs": [],
   "source": [
    "HCG = 48\n",
    "velocity_overlay('POSS_images/HCG{0}_R.fits'.format(HCG), \n",
    "                'SoFiA_masks/HCG{0}/HCG{0}_mask.fits'.format(HCG),\n",
    "                'SoFiA_masks/HCG{0}/HCG{0}_HI.fits'.format(HCG), \n",
    "                'SoFiA_masks/HCG{0}/HCG{0}_mom1.fits'.format(HCG),\n",
    "                'SoFiA_masks/HCG{0}/HCG{0}_cat.xml'.format(HCG), \n",
    "                HCGs.loc[HCG]['ra'], HCGs.loc[HCG]['dec'], HCGs.loc[HCG]['cz'], \n",
    "                0.2, HCGs.loc[HCG]['dist'],POSS=True)"
   ]
  },
  {
   "cell_type": "code",
   "execution_count": null,
   "metadata": {},
   "outputs": [],
   "source": [
    "HCG = 49\n",
    "velocity_overlay('DECaLS_images/r_fits/HCG{0}_r.fits'.format(HCG), \n",
    "                'SoFiA_masks/HCG{0}/HCG{0}_mask.fits'.format(HCG),\n",
    "                'SoFiA_masks/HCG{0}/HCG{0}_HI.fits'.format(HCG), \n",
    "                'SoFiA_masks/HCG{0}/HCG{0}_mom1.fits'.format(HCG),\n",
    "                'SoFiA_masks/HCG{0}/HCG{0}_cat.xml'.format(HCG), \n",
    "                HCGs.loc[HCG]['ra'], HCGs.loc[HCG]['dec'], HCGs.loc[HCG]['cz'], \n",
    "                0.1, HCGs.loc[HCG]['dist'])"
   ]
  },
  {
   "cell_type": "code",
   "execution_count": null,
   "metadata": {},
   "outputs": [],
   "source": [
    "HCG = 54\n",
    "velocity_overlay('DECaLS_images/r_fits/HCG{0}_r.fits'.format(HCG), \n",
    "                'SoFiA_masks/HCG{0}/HCG{0}_mask.fits'.format(HCG),\n",
    "                'SoFiA_masks/HCG{0}/HCG{0}_HI.fits'.format(HCG), \n",
    "                'SoFiA_masks/HCG{0}/HCG{0}_mom1.fits'.format(HCG),\n",
    "                'SoFiA_masks/HCG{0}/HCG{0}_cat.xml'.format(HCG), \n",
    "                172.3136, 20.5827, HCGs.loc[HCG]['cz'], \n",
    "                0.15, HCGs.loc[HCG]['dist'])"
   ]
  },
  {
   "cell_type": "code",
   "execution_count": null,
   "metadata": {},
   "outputs": [],
   "source": [
    "HCG = 56\n",
    "velocity_overlay('DECaLS_images/r_fits/HCG{0}_r.fits'.format(HCG), \n",
    "                'SoFiA_masks/HCG{0}/HCG{0}_mask.fits'.format(HCG),\n",
    "                'SoFiA_masks/HCG{0}/HCG{0}_HI.fits'.format(HCG), \n",
    "                'SoFiA_masks/HCG{0}/HCG{0}_mom1.fits'.format(HCG),\n",
    "                'SoFiA_masks/HCG{0}/HCG{0}_cat.xml'.format(HCG), \n",
    "                173.1638, 52.9428, HCGs.loc[HCG]['cz'], \n",
    "                0.1, HCGs.loc[HCG]['dist'])"
   ]
  },
  {
   "cell_type": "code",
   "execution_count": null,
   "metadata": {},
   "outputs": [],
   "source": [
    "HCG = 57\n",
    "velocity_overlay('DECaLS_images/r_fits/HCG{0}_r.fits'.format(HCG), \n",
    "                'SoFiA_masks/HCG{0}/HCG{0}_mask.fits'.format(HCG),\n",
    "                'SoFiA_masks/HCG{0}/HCG{0}_HI.fits'.format(HCG), \n",
    "                'SoFiA_masks/HCG{0}/HCG{0}_mom1.fits'.format(HCG),\n",
    "                'SoFiA_masks/HCG{0}/HCG{0}_cat.xml'.format(HCG), \n",
    "                HCGs.loc[HCG]['ra'], HCGs.loc[HCG]['dec'], HCGs.loc[HCG]['cz'], \n",
    "                0.15, HCGs.loc[HCG]['dist'])"
   ]
  },
  {
   "cell_type": "code",
   "execution_count": null,
   "metadata": {},
   "outputs": [],
   "source": [
    "HCG = 58\n",
    "velocity_overlay('DECaLS_images/r_fits/HCG{0}_r.fits'.format(HCG), \n",
    "                'SoFiA_masks/HCG{0}/HCG{0}_mask.fits'.format(HCG),\n",
    "                'SoFiA_masks/HCG{0}/HCG{0}_HI.fits'.format(HCG), \n",
    "                'SoFiA_masks/HCG{0}/HCG{0}_mom1.fits'.format(HCG),\n",
    "                'SoFiA_masks/HCG{0}/HCG{0}_cat.xml'.format(HCG), \n",
    "                HCGs.loc[HCG]['ra'], HCGs.loc[HCG]['dec'], HCGs.loc[HCG]['cz'], \n",
    "                0.25, HCGs.loc[HCG]['dist'])"
   ]
  },
  {
   "cell_type": "code",
   "execution_count": null,
   "metadata": {},
   "outputs": [],
   "source": [
    "HCG = 59\n",
    "velocity_overlay('DECaLS_images/r_fits/HCG{0}_r.fits'.format(HCG), \n",
    "                'SoFiA_masks/HCG{0}/HCG{0}_mask.fits'.format(HCG),\n",
    "                'SoFiA_masks/HCG{0}/HCG{0}_HI.fits'.format(HCG), \n",
    "                'SoFiA_masks/HCG{0}/HCG{0}_mom1.fits'.format(HCG),\n",
    "                'SoFiA_masks/HCG{0}/HCG{0}_cat.xml'.format(HCG), \n",
    "                HCGs.loc[HCG]['ra'], HCGs.loc[HCG]['dec'], HCGs.loc[HCG]['cz'], \n",
    "                0.1, HCGs.loc[HCG]['dist'])"
   ]
  },
  {
   "cell_type": "code",
   "execution_count": null,
   "metadata": {},
   "outputs": [],
   "source": [
    "HCG = 61\n",
    "velocity_overlay('DECaLS_images/r_fits/HCG{0}_r.fits'.format(HCG), \n",
    "                'SoFiA_masks/HCG{0}/HCG{0}_mask.fits'.format(HCG),\n",
    "                'SoFiA_masks/HCG{0}/HCG{0}_HI.fits'.format(HCG), \n",
    "                'SoFiA_masks/HCG{0}/HCG{0}_mom1.fits'.format(HCG),\n",
    "                'SoFiA_masks/HCG{0}/HCG{0}_cat.xml'.format(HCG), \n",
    "                183.1047, 29.1806, HCGs.loc[HCG]['cz'], \n",
    "                0.275, HCGs.loc[HCG]['dist'])"
   ]
  },
  {
   "cell_type": "code",
   "execution_count": null,
   "metadata": {},
   "outputs": [],
   "source": [
    "HCG = 62\n",
    "velocity_overlay('DECaLS_images/r_fits/HCG{0}_r.fits'.format(HCG), \n",
    "                'SoFiA_masks/HCG{0}/HCG{0}_mask.fits'.format(HCG),\n",
    "                'SoFiA_masks/HCG{0}/HCG{0}_HI.fits'.format(HCG), \n",
    "                'SoFiA_masks/HCG{0}/HCG{0}_mom1.fits'.format(HCG),\n",
    "                'SoFiA_masks/HCG{0}/HCG{0}_cat.xml'.format(HCG), \n",
    "                193.2778, -9.2204, HCGs.loc[HCG]['cz'], \n",
    "                0.15, HCGs.loc[HCG]['dist'])"
   ]
  },
  {
   "cell_type": "code",
   "execution_count": null,
   "metadata": {},
   "outputs": [],
   "source": [
    "HCG = 68\n",
    "velocity_overlay('DECaLS_images/r_fits/HCG{0}_r.fits'.format(HCG), \n",
    "                'SoFiA_masks/HCG{0}/HCG{0}_mask.fits'.format(HCG),\n",
    "                'SoFiA_masks/HCG{0}/HCG{0}_HI.fits'.format(HCG), \n",
    "                'SoFiA_masks/HCG{0}/HCG{0}_mom1.fits'.format(HCG),\n",
    "                'SoFiA_masks/HCG{0}/HCG{0}_cat.xml'.format(HCG), \n",
    "                208.3808, 40.3327, HCGs.loc[HCG]['cz'], \n",
    "                0.25, HCGs.loc[HCG]['dist'])"
   ]
  },
  {
   "cell_type": "code",
   "execution_count": null,
   "metadata": {},
   "outputs": [],
   "source": [
    "HCG = 71\n",
    "velocity_overlay('DECaLS_images/r_fits/HCG{0}_r.fits'.format(HCG), \n",
    "                'SoFiA_masks/HCG{0}/HCG{0}_mask.fits'.format(HCG),\n",
    "                'SoFiA_masks/HCG{0}/HCG{0}_HI.fits'.format(HCG), \n",
    "                'SoFiA_masks/HCG{0}/HCG{0}_mom1.fits'.format(HCG),\n",
    "                'SoFiA_masks/HCG{0}/HCG{0}_cat.xml'.format(HCG), \n",
    "                212.7489, 25.5204, HCGs.loc[HCG]['cz'], \n",
    "                0.15, HCGs.loc[HCG]['dist'])"
   ]
  },
  {
   "cell_type": "code",
   "execution_count": null,
   "metadata": {},
   "outputs": [],
   "source": [
    "HCG = 79\n",
    "velocity_overlay('DECaLS_images/r_fits/HCG{0}_r.fits'.format(HCG), \n",
    "                'SoFiA_masks/HCG{0}/HCG{0}_mask.fits'.format(HCG),\n",
    "                'SoFiA_masks/HCG{0}/HCG{0}_HI.fits'.format(HCG), \n",
    "                'SoFiA_masks/HCG{0}/HCG{0}_mom1.fits'.format(HCG),\n",
    "                'SoFiA_masks/HCG{0}/HCG{0}_cat.xml'.format(HCG), \n",
    "                239.8006, 20.7571, HCGs.loc[HCG]['cz'], \n",
    "                0.075, HCGs.loc[HCG]['dist'])"
   ]
  },
  {
   "cell_type": "code",
   "execution_count": null,
   "metadata": {},
   "outputs": [],
   "source": [
    "HCG = 88\n",
    "velocity_overlay('DECaLS_images/r_fits/HCG{0}_r.fits'.format(HCG), \n",
    "                'SoFiA_masks/HCG{0}/HCG{0}_mask.fits'.format(HCG),\n",
    "                'SoFiA_masks/HCG{0}/HCG{0}_HI.fits'.format(HCG), \n",
    "                'SoFiA_masks/HCG{0}/HCG{0}_mom1.fits'.format(HCG),\n",
    "                'SoFiA_masks/HCG{0}/HCG{0}_cat.xml'.format(HCG), \n",
    "                313.0990, -5.7520, HCGs.loc[HCG]['cz'], \n",
    "                0.2, HCGs.loc[HCG]['dist'])"
   ]
  },
  {
   "cell_type": "code",
   "execution_count": null,
   "metadata": {},
   "outputs": [],
   "source": [
    "HCG = 90\n",
    "velocity_overlay('POSS_images/HCG{0}_R.fits'.format(HCG), \n",
    "                'SoFiA_masks/HCG{0}/HCG{0}_mask.fits'.format(HCG),\n",
    "                'SoFiA_masks/HCG{0}/HCG{0}_HI.fits'.format(HCG), \n",
    "                'SoFiA_masks/HCG{0}/HCG{0}_mom1.fits'.format(HCG),\n",
    "                'SoFiA_masks/HCG{0}/HCG{0}_cat.xml'.format(HCG), \n",
    "                HCGs.loc[HCG]['ra'], HCGs.loc[HCG]['dec'], HCGs.loc[HCG]['cz'], \n",
    "                0.3, HCGs.loc[HCG]['dist'],POSS=True)"
   ]
  },
  {
   "cell_type": "code",
   "execution_count": null,
   "metadata": {},
   "outputs": [],
   "source": [
    "HCG = 91\n",
    "velocity_overlay('POSS_images/HCG{0}_R.fits'.format(HCG), \n",
    "                'SoFiA_masks/HCG{0}/HCG{0}_mask.fits'.format(HCG),\n",
    "                'SoFiA_masks/HCG{0}/HCG{0}_HI.fits'.format(HCG), \n",
    "                'SoFiA_masks/HCG{0}/HCG{0}_mom1.fits'.format(HCG),\n",
    "                'SoFiA_masks/HCG{0}/HCG{0}_cat.xml'.format(HCG), \n",
    "                HCGs.loc[HCG]['ra'], HCGs.loc[HCG]['dec'], HCGs.loc[HCG]['cz'], \n",
    "                0.2, HCGs.loc[HCG]['dist'],POSS=True)"
   ]
  },
  {
   "cell_type": "code",
   "execution_count": null,
   "metadata": {},
   "outputs": [],
   "source": [
    "HCG = 92\n",
    "velocity_overlay('SDSS_images/r_fits/HCG{0}_r.fits'.format(HCG), \n",
    "                'SoFiA_masks/HCG{0}/HCG{0}_mask.fits'.format(HCG),\n",
    "                'SoFiA_masks/HCG{0}/HCG{0}_HI.fits'.format(HCG), \n",
    "                'SoFiA_masks/HCG{0}/HCG{0}_mom1.fits'.format(HCG),\n",
    "                'SoFiA_masks/HCG{0}/HCG{0}_cat.xml'.format(HCG), \n",
    "                HCGs.loc[HCG]['ra'], HCGs.loc[HCG]['dec'], HCGs.loc[HCG]['cz'], \n",
    "                0.125, HCGs.loc[HCG]['dist'])"
   ]
  },
  {
   "cell_type": "code",
   "execution_count": null,
   "metadata": {},
   "outputs": [],
   "source": [
    "HCG = 93\n",
    "velocity_overlay('SDSS_images/r_fits/HCG{0}_r.fits'.format(HCG), \n",
    "                'SoFiA_masks/HCG{0}/HCG{0}_mask.fits'.format(HCG),\n",
    "                'SoFiA_masks/HCG{0}/HCG{0}_HI.fits'.format(HCG), \n",
    "                'SoFiA_masks/HCG{0}/HCG{0}_mom1.fits'.format(HCG),\n",
    "                'SoFiA_masks/HCG{0}/HCG{0}_cat.xml'.format(HCG), \n",
    "                HCGs.loc[HCG]['ra'], HCGs.loc[HCG]['dec'], HCGs.loc[HCG]['cz'], \n",
    "                0.25, HCGs.loc[HCG]['dist'])"
   ]
  },
  {
   "cell_type": "code",
   "execution_count": null,
   "metadata": {},
   "outputs": [],
   "source": [
    "HCG = 95\n",
    "velocity_overlay('DECaLS_images/r_fits/HCG{0}_r.fits'.format(HCG), \n",
    "                'SoFiA_masks/HCG{0}/HCG{0}_mask.fits'.format(HCG),\n",
    "                'SoFiA_masks/HCG{0}/HCG{0}_HI.fits'.format(HCG), \n",
    "                'SoFiA_masks/HCG{0}/HCG{0}_mom1.fits'.format(HCG),\n",
    "                'SoFiA_masks/HCG{0}/HCG{0}_cat.xml'.format(HCG), \n",
    "                349.8789, 9.5007, HCGs.loc[HCG]['cz'], \n",
    "                0.075, HCGs.loc[HCG]['dist'])"
   ]
  },
  {
   "cell_type": "code",
   "execution_count": null,
   "metadata": {},
   "outputs": [],
   "source": [
    "HCG = 96\n",
    "velocity_overlay('DECaLS_images/r_fits/HCG{0}_r.fits'.format(HCG), \n",
    "                'SoFiA_masks/HCG{0}/HCG{0}_mask.fits'.format(HCG),\n",
    "                'SoFiA_masks/HCG{0}/HCG{0}_HI.fits'.format(HCG), \n",
    "                'SoFiA_masks/HCG{0}/HCG{0}_mom1.fits'.format(HCG),\n",
    "                'SoFiA_masks/HCG{0}/HCG{0}_cat.xml'.format(HCG), \n",
    "                HCGs.loc[HCG]['ra'], HCGs.loc[HCG]['dec'], HCGs.loc[HCG]['cz'], \n",
    "                0.25, HCGs.loc[HCG]['dist'])"
   ]
  },
  {
   "cell_type": "code",
   "execution_count": null,
   "metadata": {},
   "outputs": [],
   "source": [
    "HCG = 97\n",
    "velocity_overlay('DECaLS_images/r_fits/HCG{0}_r.fits'.format(HCG), \n",
    "                'SoFiA_masks/HCG{0}/HCG{0}_mask.fits'.format(HCG),\n",
    "                'SoFiA_masks/HCG{0}/HCG{0}_HI.fits'.format(HCG), \n",
    "                'SoFiA_masks/HCG{0}/HCG{0}_mom1.fits'.format(HCG),\n",
    "                'SoFiA_masks/HCG{0}/HCG{0}_cat.xml'.format(HCG), \n",
    "                356.8423, -2.3279, HCGs.loc[HCG]['cz'], \n",
    "                0.25, HCGs.loc[HCG]['dist'])"
   ]
  },
  {
   "cell_type": "code",
   "execution_count": null,
   "metadata": {},
   "outputs": [],
   "source": [
    "HCG = 100\n",
    "velocity_overlay('DECaLS_images/r_fits/HCG{0}_r.fits'.format(HCG), \n",
    "                'SoFiA_masks/HCG{0}/HCG{0}_mask.fits'.format(HCG),\n",
    "                'SoFiA_masks/HCG{0}/HCG{0}_HI.fits'.format(HCG), \n",
    "                'SoFiA_masks/HCG{0}/HCG{0}_mom1.fits'.format(HCG),\n",
    "                'SoFiA_masks/HCG{0}/HCG{0}_cat.xml'.format(HCG), \n",
    "                0.3409, 13.1206, HCGs.loc[HCG]['cz'], \n",
    "                0.25, HCGs.loc[HCG]['dist'])"
   ]
  }
 ],
 "metadata": {
  "kernelspec": {
   "display_name": "Python 3",
   "language": "python",
   "name": "python3"
  },
  "language_info": {
   "codemirror_mode": {
    "name": "ipython",
    "version": 3
   },
   "file_extension": ".py",
   "mimetype": "text/x-python",
   "name": "python",
   "nbconvert_exporter": "python",
   "pygments_lexer": "ipython3",
   "version": "3.7.3"
  }
 },
 "nbformat": 4,
 "nbformat_minor": 4
}
