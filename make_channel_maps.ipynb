{
 "cells": [
  {
   "cell_type": "code",
   "execution_count": null,
   "metadata": {},
   "outputs": [],
   "source": [
    "import matplotlib,aplpy\n",
    "from astropy.io import fits\n",
    "import common_functions as cf\n",
    "import matplotlib.pyplot as plt\n",
    "from astropy.wcs import WCS\n",
    "from astropy.table import Table"
   ]
  },
  {
   "cell_type": "code",
   "execution_count": null,
   "metadata": {},
   "outputs": [],
   "source": [
    "font = {'size'   : 14, 'family' : 'serif', 'serif' : 'cm'}\n",
    "plt.rc('font', **font)\n",
    "plt.rcParams['image.interpolation'] = 'nearest'\n",
    "plt.rcParams['lines.linewidth'] = 1\n",
    "plt.rcParams['axes.linewidth'] = 1"
   ]
  },
  {
   "cell_type": "code",
   "execution_count": null,
   "metadata": {},
   "outputs": [],
   "source": [
    "def channel_maps(cubefile,imagefile,src_cat,ra_cen,dec_cen,fov,save_figs=True):\n",
    "\n",
    "    #Load the cube\n",
    "    cube,cube_ra,cube_dec,cube_vel = read_fitscube(cubefile)\n",
    "\n",
    "    #Make map for each channel\n",
    "    for i in range(len(cube_vel)):\n",
    "        #Initialise background figure\n",
    "        f = aplpy.FITSFigure(imagefile,figsize=(10,10),dimensions=[0,1])\n",
    "\n",
    "        f.recenter(ra_cen,dec_cen, height=fov, width=fov)\n",
    "\n",
    "        #Aplpy cannot properly read the header and slice the cube\n",
    "        #So we have to read it with astropy and pass it to aplpy\n",
    "        hdu = fits.open(cubefile)\n",
    "        wcs = WCS(hdu[0].header,naxis=2)\n",
    "        data = hdu[0].data[i]\n",
    "        hdu = fits.PrimaryHDU(data)\n",
    "        hdu.header.update(wcs.to_header())\n",
    "        \n",
    "        src_tab = Table.read(src_cat)\n",
    "        \n",
    "        rms = numpy.mean(src_tab['rms'])\n",
    "\n",
    "        #Overlay HI channel contours\n",
    "        f.show_contour(hdu,\n",
    "                       colors=['black'],levels=numpy.array([-2])*rms,linestyle='--')\n",
    "        f.show_contour(hdu,\n",
    "                       colors=['black','blue','purple','red','darkorange'],levels=numpy.array([2,4,8,16,32])*rms)\n",
    "\n",
    "        #Set colour stretch of background image\n",
    "        f.show_colorscale(cmap='Greys',vmin=0.0001,vmax=5.,stretch='log')\n",
    "\n",
    "        #Add grid lines\n",
    "        f.add_grid()\n",
    "        f.grid.set_color('black')\n",
    "\n",
    "        #Add velcoity label\n",
    "        f.add_label(0.8,0.95,str(int(numpy.round(cube_vel[i],0)))+' km/s',horizontalalignment='left',\n",
    "                    relative='axes', color='r', size='large')\n",
    "\n",
    "        #Save\n",
    "        if save_figs:\n",
    "            f.savefig(f'channel_maps/HCG{HCG}/chnmap_'+str(i)+'.png')\n",
    "\n",
    "        #Close figure\n",
    "        f.close()"
   ]
  },
  {
   "cell_type": "code",
   "execution_count": null,
   "metadata": {},
   "outputs": [],
   "source": [
    "HCGs = Table.read('../output/HCGs.vo', format='votable')\n",
    "HCGs.add_index('HCG')"
   ]
  },
  {
   "cell_type": "code",
   "execution_count": null,
   "metadata": {},
   "outputs": [],
   "source": [
    "HCG = 31\n",
    "channel_maps('SoFiA_masks/HCG{0}/HCG{0}_HI.fits'.format(HCG),\n",
    "             'DECaLS_images/r_fits/HCG{0}_r.fits'.format(HCG), \n",
    "             'SoFiA_masks/HCG{0}/HCG{0}_cat.xml'.format(HCG), \n",
    "             HCGs.loc[HCG]['ra'], HCGs.loc[HCG]['dec'], 0.1)"
   ]
  },
  {
   "cell_type": "code",
   "execution_count": null,
   "metadata": {},
   "outputs": [],
   "source": []
  }
 ],
 "metadata": {
  "kernelspec": {
   "display_name": "Python 3",
   "language": "python",
   "name": "python3"
  },
  "language_info": {
   "codemirror_mode": {
    "name": "ipython",
    "version": 3
   },
   "file_extension": ".py",
   "mimetype": "text/x-python",
   "name": "python",
   "nbconvert_exporter": "python",
   "pygments_lexer": "ipython3",
   "version": "3.7.3"
  }
 },
 "nbformat": 4,
 "nbformat_minor": 4
}
