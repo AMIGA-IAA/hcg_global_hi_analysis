{
 "cells": [
  {
   "cell_type": "code",
   "execution_count": null,
   "metadata": {},
   "outputs": [],
   "source": [
    "import matplotlib,aplpy,numpy\n",
    "from astropy.wcs import WCS\n",
    "from astropy.io import fits\n",
    "from astropy.table import Table\n",
    "from astropy.table import QTable\n",
    "import matplotlib.pyplot as plt\n",
    "import common_functions as cf\n",
    "from astropy import units\n",
    "from astropy.coordinates import SkyCoord\n",
    "import aplpy"
   ]
  },
  {
   "cell_type": "code",
   "execution_count": null,
   "metadata": {},
   "outputs": [],
   "source": [
    "font = {'size'   : 14, 'family' : 'serif', 'serif' : 'cm'}\n",
    "plt.rc('font', **font)\n",
    "plt.rcParams['image.interpolation'] = 'nearest'\n",
    "plt.rcParams['lines.linewidth'] = 1\n",
    "plt.rcParams['axes.linewidth'] = 1"
   ]
  },
  {
   "cell_type": "code",
   "execution_count": null,
   "metadata": {},
   "outputs": [],
   "source": [
    "contour_scheme = numpy.array([1.,2.,4.,8.,16.,32.,64.])"
   ]
  },
  {
   "cell_type": "code",
   "execution_count": null,
   "metadata": {},
   "outputs": [],
   "source": [
    "GBT_point = QTable([[92, 48, 58, 88, 91, 37, 68, 79, 93, 7, 16, 25, 31, 97, 23, 30, 100, 15, 26, 10, 33, 90, 40],\n",
    "                    ['22h35m57.500s','10h37m45.600s','11h42m10.700s','20h52m24.000s','22h09m10.400s','09h13m35.600s','13h53m26.000s','15h59m11.800s','23h15m24.200s',\n",
    "                     '00h39m23.900s','02h09m31.300s','03h20m43.700s','05h01m38.300s','23h47m22.900s','03h07m06.400s','04h36m28.600s','00h01m20.700s','02h07m38.900s',\n",
    "                     '03h21m54.200s','01h26m13.000s','05h10m47.900s','22h02m05.600s','09h38m54.500s'],\n",
    "                    ['+33d57m35.00s','-27d04m49.00s','+10d18m21.00s','-05d45m00.00s','-27d47m45.00s','+30d00m51.00s','+40d19m08.00s','+20d45m30.00s','+18d58m59.00s',\n",
    "                     '+00d52m41.00s','-10d09m30.00s','-01d03m06.00s','-04d15m25.00s','-02d19m34.00s','-09d35m07.00s','-02d49m56.00s','+13d07m57.00s','+02d08m17.00s',\n",
    "                     '-13d38m45.00s','+34d42m41.00s','+18d02m05.00s','-31d58m00.00s','-04d51m07.00s']],\n",
    "                   names = ['HCG', 'ra', 'dec'])\n",
    "GBT_point.add_index('HCG')"
   ]
  },
  {
   "cell_type": "code",
   "execution_count": null,
   "metadata": {},
   "outputs": [],
   "source": [
    "def contour_overlay(optical_image, pbcube, mask, src_cat, sofia_mom0, ra_cen, dec_cen, width, dist, POSS=False):\n",
    "    \n",
    "    mask,mask_ra,mask_dec,mask_vel = cf.read_fitscube(mask,mask=True)\n",
    "    cube,cube_ra,cube_dec,cube_vel,bmaj,bmin,pa,beam_factor,cube_dx,cube_dy,cube_dv = cf.read_fitscube(pbcube,True,True)\n",
    "    src_cat = Table.read(src_cat)\n",
    "        \n",
    "    rms = numpy.mean(src_cat['rms'])\n",
    "    n_HI = (rms*abs(cube_dv)*4.*numpy.log(2.)*2.356E-7)/(numpy.pi*bmaj*bmin*(numpy.pi/(180.*3600.))**2.)\n",
    "    N_HI = n_HI*cf.Msol/(cf.mp*(cf.pc*10.)**2.)\n",
    "        \n",
    "    masked_cube = numpy.multiply(cube,mask)\n",
    "    mom0 = numpy.nansum(masked_cube,axis=0)*abs(cube_dv)\n",
    "    peak = max(mom0.flatten())\n",
    "    \n",
    "    hdu = fits.open(sofia_mom0)\n",
    "    wcs = WCS(hdu[0].header,naxis=2)\n",
    "    data = mom0\n",
    "    hdu = fits.PrimaryHDU(data)\n",
    "    hdu.header.update(wcs.to_header())\n",
    "\n",
    "    cen_pos = [ra_cen,dec_cen]\n",
    "    fig_wid = width\n",
    "    \n",
    "    min_contour = 4.*rms*abs(cube_dv)\n",
    "    print(min_contour)\n",
    "\n",
    "    #Initialise figure\n",
    "    f = aplpy.FITSFigure(optical_image, figsize=(8.,8.), dimensions=[0, 1])\n",
    "\n",
    "    #Re-centre and set size (identical to above command)\n",
    "    f.recenter(cen_pos[0], cen_pos[1], radius=fig_wid/2.)\n",
    "\n",
    "    #Overlay contours\n",
    "    f.show_contour(hdu,colors=['black'],\n",
    "                         levels=[-1.*min_contour],linestyle='--')\n",
    "    f.show_contour(hdu,colors=['black','blue','purple','red','darkorange','yellow','white'],\n",
    "                         levels=min_contour*contour_scheme)\n",
    "    #Contour values in Jy km/s per beam\n",
    "\n",
    "    #Display r-band image\n",
    "    if not POSS:\n",
    "        f.show_colorscale(cmap='Greys',vmin=1E-4,vmax=2.5,stretch='log')\n",
    "    else:\n",
    "        f.show_colorscale(cmap='Greys',pmin=0.1,pmax=99.8,stretch='log')\n",
    "\n",
    "    #Add beam\n",
    "    hdu = fits.open(pbcube)\n",
    "    f.show_ellipses(xw=cen_pos[0]+0.45*fig_wid, yw=cen_pos[1]-0.45*fig_wid, width=hdu[0].header['BMIN'], height=hdu[0].header['BMAJ'], angle=hdu[0].header['BPA'], facecolor='g', lw=0)\n",
    "\n",
    "    #Add scalebar\n",
    "    f.add_scalebar((180./numpy.pi)*0.02/dist, corner='bottom right', lw=4, label=\"20 kpc\")\n",
    "    \n",
    "    #Title\n",
    "    f.set_title(f'HCG {HCG}')\n",
    "    \n",
    "    if HCG in GBT_point['HCG']:\n",
    "        print('GBT')\n",
    "        GBT_pointing = SkyCoord(GBT_point.loc[HCG]['ra'], GBT_point.loc[HCG]['dec'], frame='icrs', equinox='J2000')\n",
    "        f.show_circles(xw=GBT_pointing.ra.deg,yw=GBT_pointing.dec.deg,radius=9.1/120.,edgecolor='orange', lw=3, ls='dotted')\n",
    "        \n",
    "    f.savefig('overlays/HCG{}_overlay.pdf'.format(HCG),dpi=100)\n",
    "    f.savefig('overlays/HCG{}_overlay.png'.format(HCG),dpi=100)"
   ]
  },
  {
   "cell_type": "code",
   "execution_count": null,
   "metadata": {},
   "outputs": [],
   "source": [
    "HCGs = Table.read('tables/HCGs.vo', format='votable')\n",
    "HCGs.add_index('HCG')"
   ]
  },
  {
   "cell_type": "code",
   "execution_count": null,
   "metadata": {},
   "outputs": [],
   "source": [
    "#HCGs"
   ]
  },
  {
   "cell_type": "code",
   "execution_count": null,
   "metadata": {},
   "outputs": [],
   "source": [
    "HCG = 2\n",
    "contour_overlay('DECaLS_images/r_fits/HCG{0}_r.fits'.format(HCG), \n",
    "                'SoFiA_masks/HCG{0}/HCG{0}_HI.pbcor.fits'.format(HCG), \n",
    "                'SoFiA_masks/HCG{0}/HCG{0}_mask.fits'.format(HCG), \n",
    "                'SoFiA_masks/HCG{0}/HCG{0}_cat.xml'.format(HCG), \n",
    "                'SoFiA_masks/HCG{0}/HCG{0}_mom0.fits'.format(HCG), \n",
    "                HCGs.loc[HCG]['ra'], HCGs.loc[HCG]['dec'], \n",
    "                0.25, HCGs.loc[HCG]['dist'])"
   ]
  },
  {
   "cell_type": "code",
   "execution_count": null,
   "metadata": {},
   "outputs": [],
   "source": [
    "HCG = 7\n",
    "contour_overlay('DECaLS_images/r_fits/HCG{0}_r.fits'.format(HCG), \n",
    "                'SoFiA_masks/HCG{0}/HCG{0}_HI.pbcor.fits'.format(HCG), \n",
    "                'SoFiA_masks/HCG{0}/HCG{0}_mask.fits'.format(HCG), \n",
    "                'SoFiA_masks/HCG{0}/HCG{0}_cat.xml'.format(HCG), \n",
    "                'SoFiA_masks/HCG{0}/HCG{0}_mom0.fits'.format(HCG), \n",
    "                HCGs.loc[HCG]['ra'], HCGs.loc[HCG]['dec'], \n",
    "                0.25, HCGs.loc[HCG]['dist'])"
   ]
  },
  {
   "cell_type": "code",
   "execution_count": null,
   "metadata": {},
   "outputs": [],
   "source": [
    "HCG = 10\n",
    "contour_overlay('SDSS_images/r_fits/HCG{0}_r.fits'.format(HCG), \n",
    "                'SoFiA_masks/HCG{0}/HCG{0}_HI.pbcor.fits'.format(HCG), \n",
    "                'SoFiA_masks/HCG{0}/HCG{0}_mask.fits'.format(HCG), \n",
    "                'SoFiA_masks/HCG{0}/HCG{0}_cat.xml'.format(HCG), \n",
    "                'SoFiA_masks/HCG{0}/HCG{0}_mom0.fits'.format(HCG), \n",
    "                HCGs.loc[HCG]['ra'], HCGs.loc[HCG]['dec'], \n",
    "                0.4, HCGs.loc[HCG]['dist'])"
   ]
  },
  {
   "cell_type": "code",
   "execution_count": null,
   "metadata": {},
   "outputs": [],
   "source": [
    "HCG = 15\n",
    "contour_overlay('DECaLS_images/r_fits/HCG{0}_r.fits'.format(HCG), \n",
    "                'SoFiA_masks/HCG{0}/HCG{0}_HI.pbcor.fits'.format(HCG), \n",
    "                'SoFiA_masks/HCG{0}/HCG{0}_mask.fits'.format(HCG), \n",
    "                'SoFiA_masks/HCG{0}/HCG{0}_cat.xml'.format(HCG), \n",
    "                'SoFiA_masks/HCG{0}/HCG{0}_mom0.fits'.format(HCG), \n",
    "                HCGs.loc[HCG]['ra'], HCGs.loc[HCG]['dec'], \n",
    "                0.25, HCGs.loc[HCG]['dist'])"
   ]
  },
  {
   "cell_type": "code",
   "execution_count": null,
   "metadata": {},
   "outputs": [],
   "source": [
    "HCG = 16\n",
    "contour_overlay('DECaLS_images/r_fits/HCG{0}_r.fits'.format(HCG), \n",
    "                'SoFiA_masks/HCG{0}/HCG{0}_HI.pbcor.fits'.format(HCG), \n",
    "                'SoFiA_masks/HCG{0}/HCG{0}_mask.fits'.format(HCG), \n",
    "                'SoFiA_masks/HCG{0}/HCG{0}_cat.xml'.format(HCG), \n",
    "                'SoFiA_masks/HCG{0}/HCG{0}_mom0.fits'.format(HCG), \n",
    "                HCGs.loc[HCG]['ra'], HCGs.loc[HCG]['dec'], \n",
    "                0.45, HCGs.loc[HCG]['dist'])"
   ]
  },
  {
   "cell_type": "code",
   "execution_count": null,
   "metadata": {},
   "outputs": [],
   "source": [
    "HCG = 19\n",
    "contour_overlay('DECaLS_images/r_fits/HCG{0}_r.fits'.format(HCG), \n",
    "                'SoFiA_masks/HCG{0}/HCG{0}_HI.pbcor.fits'.format(HCG), \n",
    "                'SoFiA_masks/HCG{0}/HCG{0}_mask.fits'.format(HCG), \n",
    "                'SoFiA_masks/HCG{0}/HCG{0}_cat.xml'.format(HCG), \n",
    "                'SoFiA_masks/HCG{0}/HCG{0}_mom0.fits'.format(HCG), \n",
    "                HCGs.loc[HCG]['ra'], HCGs.loc[HCG]['dec'], \n",
    "                0.4, HCGs.loc[HCG]['dist'])"
   ]
  },
  {
   "cell_type": "code",
   "execution_count": null,
   "metadata": {},
   "outputs": [],
   "source": [
    "HCG = 22\n",
    "contour_overlay('DECaLS_images/r_fits/HCG{0}_r.fits'.format(HCG), \n",
    "                'SoFiA_masks/HCG{0}/HCG{0}_HI.pbcor.fits'.format(HCG), \n",
    "                'SoFiA_masks/HCG{0}/HCG{0}_mask.fits'.format(HCG), \n",
    "                'SoFiA_masks/HCG{0}/HCG{0}_cat.xml'.format(HCG), \n",
    "                'SoFiA_masks/HCG{0}/HCG{0}_mom0.fits'.format(HCG), \n",
    "                HCGs.loc[HCG]['ra'], HCGs.loc[HCG]['dec'], \n",
    "                0.25, HCGs.loc[HCG]['dist'])"
   ]
  },
  {
   "cell_type": "code",
   "execution_count": null,
   "metadata": {},
   "outputs": [],
   "source": [
    "HCG = 23\n",
    "contour_overlay('DECaLS_images/r_fits/HCG{0}_r.fits'.format(HCG), \n",
    "                'SoFiA_masks/HCG{0}/HCG{0}_HI.pbcor.fits'.format(HCG), \n",
    "                'SoFiA_masks/HCG{0}/HCG{0}_mask.fits'.format(HCG), \n",
    "                'SoFiA_masks/HCG{0}/HCG{0}_cat.xml'.format(HCG), \n",
    "                'SoFiA_masks/HCG{0}/HCG{0}_mom0.fits'.format(HCG), \n",
    "                HCGs.loc[HCG]['ra'], HCGs.loc[HCG]['dec'], \n",
    "                0.55, HCGs.loc[HCG]['dist'])"
   ]
  },
  {
   "cell_type": "code",
   "execution_count": null,
   "metadata": {},
   "outputs": [],
   "source": [
    "HCG = 25\n",
    "contour_overlay('DECaLS_images/r_fits/HCG{0}_r.fits'.format(HCG), \n",
    "                'SoFiA_masks/HCG{0}/HCG{0}_HI.pbcor.fits'.format(HCG), \n",
    "                'SoFiA_masks/HCG{0}/HCG{0}_mask.fits'.format(HCG), \n",
    "                'SoFiA_masks/HCG{0}/HCG{0}_cat.xml'.format(HCG), \n",
    "                'SoFiA_masks/HCG{0}/HCG{0}_mom0.fits'.format(HCG), \n",
    "                HCGs.loc[HCG]['ra'], HCGs.loc[HCG]['dec'], \n",
    "                0.5, HCGs.loc[HCG]['dist'])"
   ]
  },
  {
   "cell_type": "code",
   "execution_count": null,
   "metadata": {},
   "outputs": [],
   "source": [
    "HCG = 26\n",
    "contour_overlay('DECaLS_images/r_fits/HCG{0}_r.fits'.format(HCG), \n",
    "                'SoFiA_masks/HCG{0}/HCG{0}_HI.pbcor.fits'.format(HCG), \n",
    "                'SoFiA_masks/HCG{0}/HCG{0}_mask.fits'.format(HCG), \n",
    "                'SoFiA_masks/HCG{0}/HCG{0}_cat.xml'.format(HCG), \n",
    "                'SoFiA_masks/HCG{0}/HCG{0}_mom0.fits'.format(HCG), \n",
    "                HCGs.loc[HCG]['ra'], HCGs.loc[HCG]['dec'], \n",
    "                0.125, HCGs.loc[HCG]['dist'])"
   ]
  },
  {
   "cell_type": "code",
   "execution_count": null,
   "metadata": {},
   "outputs": [],
   "source": [
    "HCG = 30\n",
    "contour_overlay('DECaLS_images/r_fits/HCG{0}_r.fits'.format(HCG), \n",
    "                'SoFiA_masks/HCG{0}/HCG{0}_HI.pbcor.fits'.format(HCG), \n",
    "                'SoFiA_masks/HCG{0}/HCG{0}_mask.fits'.format(HCG), \n",
    "                'SoFiA_masks/HCG{0}/HCG{0}_cat.xml'.format(HCG), \n",
    "                'SoFiA_masks/HCG{0}/HCG{0}_mom0.fits'.format(HCG), \n",
    "                HCGs.loc[HCG]['ra'], HCGs.loc[HCG]['dec'], \n",
    "                0.25, HCGs.loc[HCG]['dist'])"
   ]
  },
  {
   "cell_type": "code",
   "execution_count": null,
   "metadata": {},
   "outputs": [],
   "source": [
    "HCG = 31\n",
    "contour_overlay('DECaLS_images/r_fits/HCG{0}_r.fits'.format(HCG), \n",
    "                'SoFiA_masks/HCG{0}/HCG{0}_HI.pbcor.fits'.format(HCG), \n",
    "                'SoFiA_masks/HCG{0}/HCG{0}_mask.fits'.format(HCG), \n",
    "                'SoFiA_masks/HCG{0}/HCG{0}_cat.xml'.format(HCG), \n",
    "                'SoFiA_masks/HCG{0}/HCG{0}_mom0.fits'.format(HCG), \n",
    "                HCGs.loc[HCG]['ra'], HCGs.loc[HCG]['dec'], \n",
    "                0.125, HCGs.loc[HCG]['dist'])"
   ]
  },
  {
   "cell_type": "code",
   "execution_count": null,
   "metadata": {},
   "outputs": [],
   "source": [
    "HCG = 33\n",
    "contour_overlay('POSS_images/HCG{0}_R.fits'.format(HCG), \n",
    "                'SoFiA_masks/HCG{0}/HCG{0}_HI.pbcor.fits'.format(HCG), \n",
    "                'SoFiA_masks/HCG{0}/HCG{0}_mask.fits'.format(HCG), \n",
    "                'SoFiA_masks/HCG{0}/HCG{0}_cat.xml'.format(HCG), \n",
    "                'SoFiA_masks/HCG{0}/HCG{0}_mom0.fits'.format(HCG), \n",
    "                HCGs.loc[HCG]['ra'], HCGs.loc[HCG]['dec'], \n",
    "                0.1, HCGs.loc[HCG]['dist'],POSS=True)"
   ]
  },
  {
   "cell_type": "code",
   "execution_count": null,
   "metadata": {},
   "outputs": [],
   "source": [
    "HCG = 37\n",
    "contour_overlay('DECaLS_images/r_fits/HCG{0}_r.fits'.format(HCG), \n",
    "                'SoFiA_masks/HCG{0}/HCG{0}_HI.pbcor.fits'.format(HCG), \n",
    "                'SoFiA_masks/HCG{0}/HCG{0}_mask.fits'.format(HCG), \n",
    "                'SoFiA_masks/HCG{0}/HCG{0}_cat.xml'.format(HCG), \n",
    "                'SoFiA_masks/HCG{0}/HCG{0}_mom0.fits'.format(HCG), \n",
    "                HCGs.loc[HCG]['ra'], HCGs.loc[HCG]['dec'], \n",
    "                0.3, HCGs.loc[HCG]['dist'])"
   ]
  },
  {
   "cell_type": "code",
   "execution_count": null,
   "metadata": {},
   "outputs": [],
   "source": [
    "HCG = 38\n",
    "contour_overlay('DECaLS_images/r_fits/HCG{0}_r.fits'.format(HCG), \n",
    "                'SoFiA_masks/HCG{0}/HCG{0}_HI.pbcor.fits'.format(HCG), \n",
    "                'SoFiA_masks/HCG{0}/HCG{0}_mask.fits'.format(HCG), \n",
    "                'SoFiA_masks/HCG{0}/HCG{0}_cat.xml'.format(HCG), \n",
    "                'SoFiA_masks/HCG{0}/HCG{0}_mom0.fits'.format(HCG), \n",
    "                HCGs.loc[HCG]['ra'], HCGs.loc[HCG]['dec'], \n",
    "                0.2, HCGs.loc[HCG]['dist'])"
   ]
  },
  {
   "cell_type": "code",
   "execution_count": null,
   "metadata": {},
   "outputs": [],
   "source": [
    "HCG = 40\n",
    "contour_overlay('DECaLS_images/r_fits/HCG{0}_r.fits'.format(HCG), \n",
    "                'SoFiA_masks/HCG{0}/HCG{0}_HI.pbcor.fits'.format(HCG), \n",
    "                'SoFiA_masks/HCG{0}/HCG{0}_mask.fits'.format(HCG), \n",
    "                'SoFiA_masks/HCG{0}/HCG{0}_cat.xml'.format(HCG), \n",
    "                'SoFiA_masks/HCG{0}/HCG{0}_mom0.fits'.format(HCG), \n",
    "                HCGs.loc[HCG]['ra'], HCGs.loc[HCG]['dec'], \n",
    "                0.25, HCGs.loc[HCG]['dist'])"
   ]
  },
  {
   "cell_type": "code",
   "execution_count": null,
   "metadata": {},
   "outputs": [],
   "source": [
    "HCG = 47\n",
    "contour_overlay('DECaLS_images/r_fits/HCG{0}_r.fits'.format(HCG), \n",
    "                'SoFiA_masks/HCG{0}/HCG{0}_HI.pbcor.fits'.format(HCG), \n",
    "                'SoFiA_masks/HCG{0}/HCG{0}_mask.fits'.format(HCG), \n",
    "                'SoFiA_masks/HCG{0}/HCG{0}_cat.xml'.format(HCG), \n",
    "                'SoFiA_masks/HCG{0}/HCG{0}_mom0.fits'.format(HCG), \n",
    "                HCGs.loc[HCG]['ra'], HCGs.loc[HCG]['dec'], \n",
    "                0.15, HCGs.loc[HCG]['dist'])"
   ]
  },
  {
   "cell_type": "code",
   "execution_count": null,
   "metadata": {},
   "outputs": [],
   "source": [
    "HCG = 48\n",
    "contour_overlay('POSS_images/HCG{0}_R.fits'.format(HCG), \n",
    "                'SoFiA_masks/HCG{0}/HCG{0}_HI.pbcor.fits'.format(HCG), \n",
    "                'SoFiA_masks/HCG{0}/HCG{0}_mask.fits'.format(HCG), \n",
    "                'SoFiA_masks/HCG{0}/HCG{0}_cat.xml'.format(HCG), \n",
    "                'SoFiA_masks/HCG{0}/HCG{0}_mom0.fits'.format(HCG), \n",
    "                HCGs.loc[HCG]['ra'], HCGs.loc[HCG]['dec'], \n",
    "                0.55, HCGs.loc[HCG]['dist'],POSS=True)"
   ]
  },
  {
   "cell_type": "code",
   "execution_count": null,
   "metadata": {},
   "outputs": [],
   "source": [
    "HCG = 49\n",
    "contour_overlay('DECaLS_images/r_fits/HCG{0}_r.fits'.format(HCG), \n",
    "                'SoFiA_masks/HCG{0}/HCG{0}_HI.pbcor.fits'.format(HCG), \n",
    "                'SoFiA_masks/HCG{0}/HCG{0}_mask.fits'.format(HCG), \n",
    "                'SoFiA_masks/HCG{0}/HCG{0}_cat.xml'.format(HCG), \n",
    "                'SoFiA_masks/HCG{0}/HCG{0}_mom0.fits'.format(HCG), \n",
    "                HCGs.loc[HCG]['ra'], HCGs.loc[HCG]['dec'], \n",
    "                0.15, HCGs.loc[HCG]['dist'])"
   ]
  },
  {
   "cell_type": "code",
   "execution_count": null,
   "metadata": {},
   "outputs": [],
   "source": [
    "HCG = 54\n",
    "contour_overlay('DECaLS_images/r_fits/HCG{0}_r.fits'.format(HCG), \n",
    "                'SoFiA_masks/HCG{0}/HCG{0}_HI.pbcor.fits'.format(HCG), \n",
    "                'SoFiA_masks/HCG{0}/HCG{0}_mask.fits'.format(HCG), \n",
    "                'SoFiA_masks/HCG{0}/HCG{0}_cat.xml'.format(HCG), \n",
    "                'SoFiA_masks/HCG{0}/HCG{0}_mom0.fits'.format(HCG), \n",
    "                HCGs.loc[HCG]['ra'], HCGs.loc[HCG]['dec'], \n",
    "                0.15, HCGs.loc[HCG]['dist'])"
   ]
  },
  {
   "cell_type": "code",
   "execution_count": null,
   "metadata": {},
   "outputs": [],
   "source": [
    "HCG = 56\n",
    "contour_overlay('DECaLS_images/r_fits/HCG{0}_r.fits'.format(HCG), \n",
    "                'SoFiA_masks/HCG{0}/HCG{0}_HI.pbcor.fits'.format(HCG), \n",
    "                'SoFiA_masks/HCG{0}/HCG{0}_mask.fits'.format(HCG), \n",
    "                'SoFiA_masks/HCG{0}/HCG{0}_cat.xml'.format(HCG), \n",
    "                'SoFiA_masks/HCG{0}/HCG{0}_mom0.fits'.format(HCG), \n",
    "                HCGs.loc[HCG]['ra'], HCGs.loc[HCG]['dec'], \n",
    "                0.15, HCGs.loc[HCG]['dist'])"
   ]
  },
  {
   "cell_type": "code",
   "execution_count": null,
   "metadata": {},
   "outputs": [],
   "source": [
    "HCG = 57\n",
    "contour_overlay('DECaLS_images/r_fits/HCG{0}_r.fits'.format(HCG), \n",
    "                'SoFiA_masks/HCG{0}/HCG{0}_HI.pbcor.fits'.format(HCG), \n",
    "                'SoFiA_masks/HCG{0}/HCG{0}_mask.fits'.format(HCG), \n",
    "                'SoFiA_masks/HCG{0}/HCG{0}_cat.xml'.format(HCG), \n",
    "                'SoFiA_masks/HCG{0}/HCG{0}_mom0.fits'.format(HCG), \n",
    "                HCGs.loc[HCG]['ra'], HCGs.loc[HCG]['dec'], \n",
    "                0.125, HCGs.loc[HCG]['dist'])"
   ]
  },
  {
   "cell_type": "code",
   "execution_count": null,
   "metadata": {},
   "outputs": [],
   "source": [
    "HCG = 58\n",
    "contour_overlay('DECaLS_images/r_fits/HCG{0}_r.fits'.format(HCG), \n",
    "                'SoFiA_masks/HCG{0}/HCG{0}_HI.pbcor.fits'.format(HCG), \n",
    "                'SoFiA_masks/HCG{0}/HCG{0}_mask.fits'.format(HCG), \n",
    "                'SoFiA_masks/HCG{0}/HCG{0}_cat.xml'.format(HCG), \n",
    "                'SoFiA_masks/HCG{0}/HCG{0}_mom0.fits'.format(HCG), \n",
    "                HCGs.loc[HCG]['ra'], HCGs.loc[HCG]['dec'], \n",
    "                0.85, HCGs.loc[HCG]['dist'])"
   ]
  },
  {
   "cell_type": "code",
   "execution_count": null,
   "metadata": {},
   "outputs": [],
   "source": [
    "HCG = 59\n",
    "contour_overlay('DECaLS_images/r_fits/HCG{0}_r.fits'.format(HCG), \n",
    "                'SoFiA_masks/HCG{0}/HCG{0}_HI.pbcor.fits'.format(HCG), \n",
    "                'SoFiA_masks/HCG{0}/HCG{0}_mask.fits'.format(HCG), \n",
    "                'SoFiA_masks/HCG{0}/HCG{0}_cat.xml'.format(HCG), \n",
    "                'SoFiA_masks/HCG{0}/HCG{0}_mom0.fits'.format(HCG), \n",
    "                HCGs.loc[HCG]['ra'], HCGs.loc[HCG]['dec'], \n",
    "                0.4, HCGs.loc[HCG]['dist'])"
   ]
  },
  {
   "cell_type": "code",
   "execution_count": null,
   "metadata": {},
   "outputs": [],
   "source": [
    "HCG = 61\n",
    "contour_overlay('DECaLS_images/r_fits/HCG{0}_r.fits'.format(HCG), \n",
    "                'SoFiA_masks/HCG{0}/HCG{0}_HI.pbcor.fits'.format(HCG), \n",
    "                'SoFiA_masks/HCG{0}/HCG{0}_mask.fits'.format(HCG), \n",
    "                'SoFiA_masks/HCG{0}/HCG{0}_cat.xml'.format(HCG), \n",
    "                'SoFiA_masks/HCG{0}/HCG{0}_mom0.fits'.format(HCG), \n",
    "                HCGs.loc[HCG]['ra'], HCGs.loc[HCG]['dec'], \n",
    "                0.275, HCGs.loc[HCG]['dist'])"
   ]
  },
  {
   "cell_type": "code",
   "execution_count": null,
   "metadata": {},
   "outputs": [],
   "source": [
    "HCG = 62\n",
    "contour_overlay('DECaLS_images/r_fits/HCG{0}_r.fits'.format(HCG), \n",
    "                'SoFiA_masks/HCG{0}/HCG{0}_HI.pbcor.fits'.format(HCG), \n",
    "                'SoFiA_masks/HCG{0}/HCG{0}_mask.fits'.format(HCG), \n",
    "                'SoFiA_masks/HCG{0}/HCG{0}_cat.xml'.format(HCG), \n",
    "                'SoFiA_masks/HCG{0}/HCG{0}_mom0.fits'.format(HCG), \n",
    "                HCGs.loc[HCG]['ra'], HCGs.loc[HCG]['dec'], \n",
    "                0.2, HCGs.loc[HCG]['dist'])"
   ]
  },
  {
   "cell_type": "code",
   "execution_count": null,
   "metadata": {},
   "outputs": [],
   "source": [
    "HCG = 68\n",
    "contour_overlay('DECaLS_images/r_fits/HCG{0}_r.fits'.format(HCG), \n",
    "                'SoFiA_masks/HCG{0}/HCG{0}_HI.pbcor.fits'.format(HCG), \n",
    "                'SoFiA_masks/HCG{0}/HCG{0}_mask.fits'.format(HCG), \n",
    "                'SoFiA_masks/HCG{0}/HCG{0}_cat.xml'.format(HCG), \n",
    "                'SoFiA_masks/HCG{0}/HCG{0}_mom0.fits'.format(HCG), \n",
    "                HCGs.loc[HCG]['ra'], HCGs.loc[HCG]['dec'], \n",
    "                1., HCGs.loc[HCG]['dist'])"
   ]
  },
  {
   "cell_type": "code",
   "execution_count": null,
   "metadata": {},
   "outputs": [],
   "source": [
    "HCG = 71\n",
    "contour_overlay('DECaLS_images/r_fits/HCG{0}_r.fits'.format(HCG), \n",
    "                'SoFiA_masks/HCG{0}/HCG{0}_HI.pbcor.fits'.format(HCG), \n",
    "                'SoFiA_masks/HCG{0}/HCG{0}_mask.fits'.format(HCG), \n",
    "                'SoFiA_masks/HCG{0}/HCG{0}_cat.xml'.format(HCG), \n",
    "                'SoFiA_masks/HCG{0}/HCG{0}_mom0.fits'.format(HCG), \n",
    "                HCGs.loc[HCG]['ra'], HCGs.loc[HCG]['dec'], \n",
    "                0.25, HCGs.loc[HCG]['dist'])"
   ]
  },
  {
   "cell_type": "code",
   "execution_count": null,
   "metadata": {},
   "outputs": [],
   "source": [
    "HCG = 79\n",
    "contour_overlay('DECaLS_images/r_fits/HCG{0}_r.fits'.format(HCG), \n",
    "                'SoFiA_masks/HCG{0}/HCG{0}_HI.pbcor.fits'.format(HCG), \n",
    "                'SoFiA_masks/HCG{0}/HCG{0}_mask.fits'.format(HCG), \n",
    "                'SoFiA_masks/HCG{0}/HCG{0}_cat.xml'.format(HCG), \n",
    "                'SoFiA_masks/HCG{0}/HCG{0}_mom0.fits'.format(HCG), \n",
    "                HCGs.loc[HCG]['ra'], HCGs.loc[HCG]['dec'], \n",
    "                0.1, HCGs.loc[HCG]['dist'])"
   ]
  },
  {
   "cell_type": "code",
   "execution_count": null,
   "metadata": {},
   "outputs": [],
   "source": [
    "HCG = 88\n",
    "contour_overlay('DECaLS_images/r_fits/HCG{0}_r.fits'.format(HCG), \n",
    "                'SoFiA_masks/HCG{0}/HCG{0}_HI.pbcor.fits'.format(HCG), \n",
    "                'SoFiA_masks/HCG{0}/HCG{0}_mask.fits'.format(HCG), \n",
    "                'SoFiA_masks/HCG{0}/HCG{0}_cat.xml'.format(HCG), \n",
    "                'SoFiA_masks/HCG{0}/HCG{0}_mom0.fits'.format(HCG), \n",
    "                HCGs.loc[HCG]['ra'], HCGs.loc[HCG]['dec'], \n",
    "                0.2, HCGs.loc[HCG]['dist'])"
   ]
  },
  {
   "cell_type": "code",
   "execution_count": null,
   "metadata": {},
   "outputs": [],
   "source": [
    "HCG = 89\n",
    "contour_overlay('DECaLS_images/r_fits/HCG{0}_r.fits'.format(HCG), \n",
    "                'SoFiA_masks/HCG{0}/HCG{0}_HI.pbcor.fits'.format(HCG), \n",
    "                'SoFiA_masks/HCG{0}/HCG{0}_mask.fits'.format(HCG), \n",
    "                'SoFiA_masks/HCG{0}/HCG{0}_cat.xml'.format(HCG), \n",
    "                'SoFiA_masks/HCG{0}/HCG{0}_mom0.fits'.format(HCG), \n",
    "                HCGs.loc[HCG]['ra'], HCGs.loc[HCG]['dec'], \n",
    "                0.125, HCGs.loc[HCG]['dist'])"
   ]
  },
  {
   "cell_type": "code",
   "execution_count": null,
   "metadata": {},
   "outputs": [],
   "source": [
    "HCG = 90\n",
    "contour_overlay('POSS_images/HCG{0}_R.fits'.format(HCG), \n",
    "                'SoFiA_masks/HCG{0}/HCG{0}_HI.pbcor.fits'.format(HCG), \n",
    "                'SoFiA_masks/HCG{0}/HCG{0}_mask.fits'.format(HCG), \n",
    "                'SoFiA_masks/HCG{0}/HCG{0}_cat.xml'.format(HCG), \n",
    "                'SoFiA_masks/HCG{0}/HCG{0}_mom0.fits'.format(HCG), \n",
    "                HCGs.loc[HCG]['ra'], HCGs.loc[HCG]['dec'], \n",
    "                0.35, HCGs.loc[HCG]['dist'],POSS=True)"
   ]
  },
  {
   "cell_type": "code",
   "execution_count": null,
   "metadata": {},
   "outputs": [],
   "source": [
    "HCG = 91\n",
    "contour_overlay('POSS_images/HCG{0}_R.fits'.format(HCG), \n",
    "                'SoFiA_masks/HCG{0}/HCG{0}_HI.pbcor.fits'.format(HCG), \n",
    "                'SoFiA_masks/HCG{0}/HCG{0}_mask.fits'.format(HCG), \n",
    "                'SoFiA_masks/HCG{0}/HCG{0}_cat.xml'.format(HCG), \n",
    "                'SoFiA_masks/HCG{0}/HCG{0}_mom0.fits'.format(HCG), \n",
    "                HCGs.loc[HCG]['ra'], HCGs.loc[HCG]['dec'], \n",
    "                0.85, HCGs.loc[HCG]['dist'],POSS=True)"
   ]
  },
  {
   "cell_type": "code",
   "execution_count": null,
   "metadata": {},
   "outputs": [],
   "source": [
    "HCG = 92\n",
    "contour_overlay('SDSS_images/r_fits/HCG{0}_r.fits'.format(HCG), \n",
    "                'SoFiA_masks/HCG{0}/HCG{0}_HI.pbcor.fits'.format(HCG), \n",
    "                'SoFiA_masks/HCG{0}/HCG{0}_mask.fits'.format(HCG), \n",
    "                'SoFiA_masks/HCG{0}/HCG{0}_cat.xml'.format(HCG), \n",
    "                'SoFiA_masks/HCG{0}/HCG{0}_mom0.fits'.format(HCG), \n",
    "                HCGs.loc[HCG]['ra'], HCGs.loc[HCG]['dec'], \n",
    "                0.125, HCGs.loc[HCG]['dist'])"
   ]
  },
  {
   "cell_type": "code",
   "execution_count": null,
   "metadata": {},
   "outputs": [],
   "source": [
    "HCG = 93\n",
    "contour_overlay('SDSS_images/r_fits/HCG{0}_r.fits'.format(HCG), \n",
    "                'SoFiA_masks/HCG{0}/HCG{0}_HI.pbcor.fits'.format(HCG), \n",
    "                'SoFiA_masks/HCG{0}/HCG{0}_mask.fits'.format(HCG), \n",
    "                'SoFiA_masks/HCG{0}/HCG{0}_cat.xml'.format(HCG), \n",
    "                'SoFiA_masks/HCG{0}/HCG{0}_mom0.fits'.format(HCG), \n",
    "                HCGs.loc[HCG]['ra'], HCGs.loc[HCG]['dec'], \n",
    "                0.65, HCGs.loc[HCG]['dist'])"
   ]
  },
  {
   "cell_type": "code",
   "execution_count": null,
   "metadata": {},
   "outputs": [],
   "source": [
    "HCG = 95\n",
    "contour_overlay('DECaLS_images/r_fits/HCG{0}_r.fits'.format(HCG), \n",
    "                'SoFiA_masks/HCG{0}/HCG{0}_HI.pbcor.fits'.format(HCG), \n",
    "                'SoFiA_masks/HCG{0}/HCG{0}_mask.fits'.format(HCG), \n",
    "                'SoFiA_masks/HCG{0}/HCG{0}_cat.xml'.format(HCG), \n",
    "                'SoFiA_masks/HCG{0}/HCG{0}_mom0.fits'.format(HCG), \n",
    "                HCGs.loc[HCG]['ra'], HCGs.loc[HCG]['dec'], \n",
    "                0.075, HCGs.loc[HCG]['dist'])"
   ]
  },
  {
   "cell_type": "code",
   "execution_count": null,
   "metadata": {},
   "outputs": [],
   "source": [
    "HCG = 96\n",
    "contour_overlay('DECaLS_images/r_fits/HCG{0}_r.fits'.format(HCG), \n",
    "                'SoFiA_masks/HCG{0}/HCG{0}_HI.pbcor.fits'.format(HCG), \n",
    "                'SoFiA_masks/HCG{0}/HCG{0}_mask.fits'.format(HCG), \n",
    "                'SoFiA_masks/HCG{0}/HCG{0}_cat.xml'.format(HCG), \n",
    "                'SoFiA_masks/HCG{0}/HCG{0}_mom0.fits'.format(HCG), \n",
    "                HCGs.loc[HCG]['ra'], HCGs.loc[HCG]['dec'], \n",
    "                0.35, HCGs.loc[HCG]['dist'])"
   ]
  },
  {
   "cell_type": "code",
   "execution_count": null,
   "metadata": {},
   "outputs": [],
   "source": [
    "HCG = 97\n",
    "contour_overlay('DECaLS_images/r_fits/HCG{0}_r.fits'.format(HCG), \n",
    "                'SoFiA_masks/HCG{0}/HCG{0}_HI.pbcor.fits'.format(HCG), \n",
    "                'SoFiA_masks/HCG{0}/HCG{0}_mask.fits'.format(HCG), \n",
    "                'SoFiA_masks/HCG{0}/HCG{0}_cat.xml'.format(HCG), \n",
    "                'SoFiA_masks/HCG{0}/HCG{0}_mom0.fits'.format(HCG), \n",
    "                HCGs.loc[HCG]['ra'], HCGs.loc[HCG]['dec'], \n",
    "                0.75, HCGs.loc[HCG]['dist'])"
   ]
  },
  {
   "cell_type": "code",
   "execution_count": null,
   "metadata": {},
   "outputs": [],
   "source": [
    "HCG = 100\n",
    "contour_overlay('DECaLS_images/r_fits/HCG{0}_r.fits'.format(HCG), \n",
    "                'SoFiA_masks/HCG{0}/HCG{0}_HI.pbcor.fits'.format(HCG), \n",
    "                'SoFiA_masks/HCG{0}/HCG{0}_mask.fits'.format(HCG), \n",
    "                'SoFiA_masks/HCG{0}/HCG{0}_cat.xml'.format(HCG), \n",
    "                'SoFiA_masks/HCG{0}/HCG{0}_mom0.fits'.format(HCG), \n",
    "                HCGs.loc[HCG]['ra'], HCGs.loc[HCG]['dec'], \n",
    "                0.55, HCGs.loc[HCG]['dist'])"
   ]
  },
  {
   "cell_type": "code",
   "execution_count": null,
   "metadata": {},
   "outputs": [],
   "source": []
  }
 ],
 "metadata": {
  "kernelspec": {
   "display_name": "Python 3 (ipykernel)",
   "language": "python",
   "name": "python3"
  },
  "language_info": {
   "codemirror_mode": {
    "name": "ipython",
    "version": 3
   },
   "file_extension": ".py",
   "mimetype": "text/x-python",
   "name": "python",
   "nbconvert_exporter": "python",
   "pygments_lexer": "ipython3",
   "version": "3.7.12"
  }
 },
 "nbformat": 4,
 "nbformat_minor": 4
}
