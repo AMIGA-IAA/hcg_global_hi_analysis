{
 "cells": [
  {
   "cell_type": "code",
   "execution_count": null,
   "metadata": {},
   "outputs": [],
   "source": [
    "import matplotlib,numpy,astropy\n",
    "from astropy.wcs import WCS\n",
    "import matplotlib.pyplot as plt\n",
    "from astroquery.vizier import Vizier\n",
    "from astroquery.ned import Ned\n",
    "from astropy.table import QTable, join\n",
    "from astropy import units\n",
    "from astropy.coordinates import SkyCoord\n",
    "import pycf3, requests,json,tqdm"
   ]
  },
  {
   "cell_type": "code",
   "execution_count": null,
   "metadata": {},
   "outputs": [],
   "source": [
    "c = 299792.458 * units.km/units.s #km/s\n",
    "#HI line rest frequency\n",
    "f0 = 1.420405751 * units.GHz #GHz"
   ]
  },
  {
   "cell_type": "code",
   "execution_count": null,
   "metadata": {},
   "outputs": [],
   "source": [
    "def logMHI_pred(B_c,D,B_c_err,D_err):\n",
    "    '''\n",
    "    Predicts HI mass of a galaxy given its B-band luminosity following Jones et al. 2018, A&A 609A, 17J.\n",
    "    \n",
    "    Inputs:\n",
    "        B_c = Extinction and k-corrected B-band apparent magnitude.\n",
    "        D = Source luminoisty distance [Mpc].\n",
    "        B_c_err = Error in B_c.\n",
    "        \n",
    "    Outputs:\n",
    "        logMHI = Logarithm of the predicted HI mass [Msol].\n",
    "        logMHI_err = Error in logMHI.\n",
    "    '''\n",
    "    \n",
    "    logD = numpy.log10(D)\n",
    "    \n",
    "    logLB = 10. + 2.*numpy.log10(D) + 0.4*(4.88-B_c)\n",
    "    \n",
    "    logMHI = 0.94*logLB + 0.18\n",
    "    \n",
    "    logMHI_err = numpy.sqrt(0.2**2. + (0.94**2.)*((0.4*B_c_err)**2.))\n",
    "    \n",
    "    return logMHI,logMHI_err\n",
    "\n",
    "def logMHI_pred_type(B_c,D,T):\n",
    "    '''\n",
    "    Predicts HI mass of a galaxy given its B-band luminosity following Jones et al. 2018, A&A 609A, 17J.\n",
    "    Includes a correction for the galaxy T type, but does not estimate uncertainty.\n",
    "    \n",
    "    Inputs:\n",
    "        B_c = Extinction and k-corrected B-band apparent magnitude.\n",
    "        D = Source luminoisty distance [Mpc].\n",
    "        T = Type as in RC3.\n",
    "        \n",
    "    Outputs:\n",
    "        logMHI = Logarithm of the predicted HI mass [Msol].\n",
    "    '''\n",
    "    \n",
    "    logD = numpy.log10(D)\n",
    "    \n",
    "    logLB = 10. + 2.*numpy.log10(D) + 0.4*(4.88-B_c)\n",
    "    logLB = numpy.array(logLB,dtype='float')\n",
    "    \n",
    "    logMHI = numpy.zeros(len(logLB))\n",
    "    \n",
    "    inx = numpy.where(T < 3)[0]\n",
    "    logMHI[inx] = 1.46*logLB[inx] - 5.38\n",
    "    inx = numpy.where(numpy.logical_and(T >= 3, T <= 5))[0]\n",
    "    logMHI[inx] = 1.59*logLB[inx] - 6.45\n",
    "    inx = numpy.where(T > 5)[0]\n",
    "    logMHI[inx] = 0.78*logLB[inx] + 1.95\n",
    "    \n",
    "    return logMHI\n",
    "\n",
    "def logMHI_pred_HG84(B_c,D):\n",
    "    '''\n",
    "    Predicts HI mass of a galaxy given its B-band luminosity following Haynes & Giovanelli 1984.\n",
    "    \n",
    "    Inputs:\n",
    "        B_c = Extinction and k-corrected B-band apparent magnitude.\n",
    "        D = Source luminoisty distance [Mpc].\n",
    "        \n",
    "    Outputs:\n",
    "        logMHI = Logarithm of the predicted HI mass [Msol].\n",
    "    '''\n",
    "    \n",
    "    logD = numpy.log10(D)\n",
    "    \n",
    "    logLB = 10. + 2.*numpy.log10(D) + 0.4*(4.88-B_c)\n",
    "    \n",
    "    logMHI = 0.66*logLB + 3.17\n",
    "    \n",
    "    return logMHI\n",
    "\n",
    "def DVcalculator(alpha, delta, system='supergalactic', parameter='distance', value=20, calculator='NAM'):\n",
    "    \n",
    "    \"\"\"\n",
    "    Inputs: \n",
    "        alpha: (float) [deg]\n",
    "            first coordinate parameter  (RA,  Glon, SGL)\n",
    "        delta: (float) [deg]\n",
    "            second coordinate parameter (Dec, Glat, SGB)  \n",
    "        system: (string)\n",
    "            coordinate system: \n",
    "            Options are:\n",
    "                \"equatorial\"\n",
    "                \"galactic\"\n",
    "                \"supergalactic\"\n",
    "        parameter: (string)\n",
    "            the quantity whose value is provided\n",
    "            Options are:\n",
    "                \"distance\"\n",
    "                \"velocity\"\n",
    "        value: (float)\n",
    "            the value of the input quantity\n",
    "            distance in [Mpc] and velocity in [km/s]\n",
    "            \n",
    "        calcualtor: desired Cosmicflows caluclator\n",
    "            Options are:\n",
    "                \"NAM\" to query the calcualtor at http://edd.ifa.hawaii.edu/NAMcalculator\n",
    "                \"CF3\" to query the calcualtor at http://edd.ifa.hawaii.edu/CF3calculator\n",
    "        \n",
    "    Output:\n",
    "        A python dictionary which contains the distance and velocity of the \n",
    "        given object and the coordinate of the object in different systems\n",
    "\n",
    "    \"\"\"\n",
    "    \n",
    "    coordinate = [float(alpha), float(delta)]\n",
    "    query  = {\n",
    "              'coordinate': coordinate,\n",
    "              'system': system,\n",
    "              'parameter': parameter,\n",
    "              'value': float(value)\n",
    "             }\n",
    "    headers = {'Content-type': 'application/json'}\n",
    "    \n",
    "    API_url = 'http://edd.ifa.hawaii.edu/'+calculator+'calculator/api.php'\n",
    "    \n",
    "    try:\n",
    "        r = requests.get(API_url, data=json.dumps(query), headers=headers)\n",
    "        output = json.loads(r.text) # a python dictionary\n",
    "    except:\n",
    "        print(\"Something went wrong!\")  \n",
    "        print(\"Please check your intput parameters ...\")\n",
    "        output = None\n",
    "\n",
    "    return output"
   ]
  },
  {
   "cell_type": "code",
   "execution_count": null,
   "metadata": {},
   "outputs": [],
   "source": [
    "VLA_HCGs = [2, 7, 10, 15, 16, 19, 22, 23, 25, 26, 30, 31, 33, 37, 38, 40, 47, 48, 49, 54, 56, 57, 58, 59, 61, 62, 68, 71, 79, 88, 89, 90, 91, 92, 93, 95, 96, 97, 100]\n",
    "\n",
    "#Use Cosmic Flows 3 API (pycf3-2020.12) to calculate distances\n",
    "cf3 = pycf3.CF3() "
   ]
  },
  {
   "cell_type": "code",
   "execution_count": null,
   "metadata": {},
   "outputs": [],
   "source": [
    "HCG_pos = Vizier(catalog='VII/213/groups', columns=['HCG', '_RAJ2000', '_DEJ2000'], row_limit=-1).query_constraints(HCG=','.join(numpy.array(VLA_HCGs,dtype='str')))[0]\n",
    "HCG_pos.add_index('HCG')\n",
    "HCG_z = Vizier(catalog='VII/213/dynamics', columns=['HCG', 'z'], row_limit=-1).query_constraints(HCG=','.join(numpy.array(VLA_HCGs,dtype='str')))[0]\n",
    "HCG_z.add_index('HCG')"
   ]
  },
  {
   "cell_type": "code",
   "execution_count": null,
   "metadata": {},
   "outputs": [],
   "source": [
    "HCGs = join(HCG_pos,HCG_z,join_type='left')\n",
    "HCGs.add_index('HCG')\n",
    "\n",
    "HCGs.rename_column('_RAJ2000', 'ra')\n",
    "HCGs.rename_column('_DEJ2000', 'dec')"
   ]
  },
  {
   "cell_type": "code",
   "execution_count": null,
   "metadata": {},
   "outputs": [],
   "source": [
    "#Unfortunately HCG 19 has no redshift in Hickson 1992\n",
    "#Use NED redshift\n",
    "HCGs.loc[19]['z'] = float(Ned.query_object(\"HCG19\")['Redshift'])\n",
    "\n",
    "#Manually set the velocity of HCG 48 (wrong in both NED and the original HCG catalogue)\n",
    "HCGs.loc[48]['z'] = 2352.*(units.km/units.s)/c"
   ]
  },
  {
   "cell_type": "code",
   "execution_count": null,
   "metadata": {},
   "outputs": [],
   "source": [
    "HCGs['cz'] = c*HCGs['z']"
   ]
  },
  {
   "cell_type": "code",
   "execution_count": null,
   "metadata": {},
   "outputs": [],
   "source": [
    "#There is an error in the coordinates of HCG 48\n",
    "HCGs.loc[48]['ra'] = 159.440201"
   ]
  },
  {
   "cell_type": "code",
   "execution_count": null,
   "metadata": {},
   "outputs": [],
   "source": [
    "#Calculate distances\n",
    "HCGs['dist'] = numpy.zeros(len(HCGs))\n",
    "HCGs['dist'].unit = units.Mpc\n",
    "\n",
    "for HCG in tqdm.tqdm(HCGs['HCG']):\n",
    "    HCGs.loc[HCG]['dist'] = DVcalculator(HCGs.loc[HCG]['ra'], HCGs.loc[HCG]['dec'], system='equatorial', \n",
    "             parameter='velocity', value=HCGs.loc[HCG]['cz'], calculator='CF3')['observed']['distance'][0]"
   ]
  },
  {
   "cell_type": "code",
   "execution_count": null,
   "metadata": {},
   "outputs": [],
   "source": [
    "HCG_mems = Vizier(catalog='VII/213/galaxies', columns=['HCG', 'm_HCG', '_RAJ2000', '_DEJ2000', 'MType', 'a', 'b', 'RVhel', 'BTmag', 'e_BTmag', 'BTc'], row_limit=-1).query_constraints(HCG=','.join(numpy.array(VLA_HCGs,dtype='str')))[0]\n",
    "\n",
    "HCG_mems.rename_column('_RAJ2000', 'ra')\n",
    "HCG_mems.rename_column('_DEJ2000', 'dec')\n",
    "HCG_mems.rename_column('RVhel', 'Vel')"
   ]
  },
  {
   "cell_type": "code",
   "execution_count": null,
   "metadata": {},
   "outputs": [],
   "source": [
    "#Remove false group members\n",
    "\n",
    "gals_to_remove = {2: ['d'], 19: ['d'], 22: ['d', 'e'], 23: ['e'], 25: ['c', 'e', 'g'], 31: ['d'], 38: ['d'], 48: ['c','d'], 59: ['e'], 61: ['b'], \n",
    "                  71: ['d'], 79: ['e'], 92: ['a'], 93: ['e']}"
   ]
  },
  {
   "cell_type": "code",
   "execution_count": null,
   "metadata": {},
   "outputs": [],
   "source": [
    "mem_names = []\n",
    "for i in range(len(HCG_mems['HCG'])):\n",
    "    mem_names.append('HCG'+str(HCG_mems[i]['HCG'])+str(HCG_mems[i]['m_HCG']))\n",
    "HCG_mems['name'] = mem_names"
   ]
  },
  {
   "cell_type": "code",
   "execution_count": null,
   "metadata": {},
   "outputs": [],
   "source": [
    "mask = []\n",
    "for HCG in gals_to_remove.keys():\n",
    "    for mem in gals_to_remove[HCG]:\n",
    "        for i in range(len(HCG_mems['HCG'])):\n",
    "            if int(HCG_mems[i]['HCG']) == HCG and str(HCG_mems[i]['m_HCG']) == mem:\n",
    "                mask.append(i)\n",
    "                break\n",
    "HCG_mems.remove_rows(mask)\n",
    "HCG_mems.add_index('HCG')\n",
    "\n",
    "#HCG_mems['m_HCG'] = HCG_mems['m_HCG'].astype('str')"
   ]
  },
  {
   "cell_type": "code",
   "execution_count": null,
   "metadata": {},
   "outputs": [],
   "source": [
    "#Replace bad redshift measurements with NED values\n",
    "\n",
    "inx1 = numpy.where(HCG_mems['name'] == 'HCG100d')[0][0]\n",
    "inx2 = 7 #Velocities\n",
    "\n",
    "HCG_mems[inx1][inx2] = int(numpy.round(c.value*float(Ned.query_object(\"HCG100d\")['Redshift']),decimals=0))\n",
    "\n",
    "inx1 = numpy.where(HCG_mems['name'] == 'HCG19c')[0][0]\n",
    "\n",
    "HCG_mems[inx1][inx2] = int(numpy.round(c.value*float(Ned.query_object(\"HCG19c\")['Redshift']),decimals=0))\n",
    "\n",
    "inx1 = numpy.where(HCG_mems['name'] == 'HCG57h')[0][0]\n",
    "\n",
    "HCG_mems[inx1][inx2] = int(numpy.round(c.value*float(Ned.query_object(\"HCG57h\")['Redshift']),decimals=0))\n",
    "\n",
    "inx1 = numpy.where(HCG_mems['name'] == 'HCG48a')[0][0]\n",
    "\n",
    "HCG_mems[inx1][inx2] = int(numpy.round(c.value*float(Ned.query_object(\"HCG48a\")['Redshift']),decimals=0))\n",
    "\n",
    "inx1 = numpy.where(HCG_mems['name'] == 'HCG48b')[0][0]\n",
    "\n",
    "HCG_mems[inx1][inx2] = int(numpy.round(c.value*float(Ned.query_object(\"HCG48b\")['Redshift']),decimals=0))"
   ]
  },
  {
   "cell_type": "code",
   "execution_count": null,
   "metadata": {},
   "outputs": [],
   "source": [
    "HCG_mems"
   ]
  },
  {
   "cell_type": "code",
   "execution_count": null,
   "metadata": {},
   "outputs": [],
   "source": [
    "#Values for added galaxies are from HyperLEDA which unfortunately is not currently searchable with astroquery\n",
    "HCG_mems.add_row([16,'',32.5734980,-10.3214486,'SBab',None,None,3992,13.66,0.1,13.37,'NGC848'])\n",
    "\n",
    "HCG_mems.add_row([22,'',45.9313517,-15.4852220,'S0',None,None,2628,14.60,0.39,14.32,'NGC1188'])\n",
    "\n",
    "HCG_mems.add_row([23,'',46.789543,-9.487844,'cI',None,None,5283,19.76,0.50,19.26,'HCG23-26'])\n",
    "\n",
    "HCG_mems.add_row([31,'',75.433375,-4.288750,'cI',None,None,4011,15.49,0.5,15.11,'HCG31g'])\n",
    "HCG_mems.add_row([31,'',75.409743,-4.222454,'cI',None,None,4090,16.23,0.50,16.01,'HCG31q'])\n",
    "\n",
    "HCG_mems.add_row([49,'',164.160920,67.151693,'cI',None,None,9950,18.60,0.02,18.56,'HCG49SDSS1'])\n",
    "#Velocity of HCG49SDSS1 is approximate (taken from HI cube)\n",
    "#B-band luminosity estimated from SDSS bands via Lupton 2005 conversion\n",
    "\n",
    "HCG_mems.add_row([54,'',172.36850671,20.6319153,'cI',None,None,1397,19.09,0.05,19.01,'A11272054'])\n",
    "\n",
    "HCG_mems.add_row([71,'',212.769143,25.559671,'Sd',None,None,9083,18.21,0.5,17.97,'AGC732898'])\n",
    "HCG_mems.add_row([71,'',212.725634,25.554015,'cI',None,None,9199,17.37,0.36,17.10,'AGC242021'])\n",
    "\n",
    "HCG_mems.add_row([100,'',0.438449,13.100673,'cI',None,None,5606,15.77,0.05,15.34,'MRK935'])"
   ]
  },
  {
   "cell_type": "code",
   "execution_count": null,
   "metadata": {},
   "outputs": [],
   "source": [
    "#Hickson used a different scheme for Hubble type\n",
    "#Here we will use the RC3 system\n",
    "\n",
    "T_type = []\n",
    "for M_type in HCG_mems['MType']:\n",
    "    if \"E\" in M_type:\n",
    "        T_type.append(-5)\n",
    "    elif \"S0\" in M_type or \"SB0\" in M_type:\n",
    "        T_type.append(0)\n",
    "    elif \"Sa\" in M_type or \"SBa\" in M_type or \"SB-\" in M_type:\n",
    "        T_type.append(1)\n",
    "    elif \"Sab\" in M_type or \"SBab\" in M_type:\n",
    "        T_type.append(2)\n",
    "    elif \"Sb\" in M_type or \"SBb\" in M_type:\n",
    "        T_type.append(3)\n",
    "    elif \"Sbc\" in M_type or \"SBbc\" in M_type:\n",
    "        T_type.append(4)\n",
    "    elif \"Sc\" in M_type or \"SBc\" in M_type:\n",
    "        T_type.append(5)\n",
    "    elif \"Scd\" in M_type or \"SBcd\" in M_type:\n",
    "        T_type.append(6)\n",
    "    elif \"Sd\" in M_type or \"SBd\" in M_type:\n",
    "        T_type.append(7)\n",
    "    elif \"Sdm\" in M_type or \"SBdm\" in M_type:\n",
    "        T_type.append(8)\n",
    "    elif \"Sm\" in M_type or \"SBm\" in M_type:\n",
    "        T_type.append(9)\n",
    "    elif \"Im\" in M_type:\n",
    "        T_type.append(10)\n",
    "    elif \"cI\" in M_type:\n",
    "        T_type.append(11)\n",
    "    else:\n",
    "        print('Case not matched:')\n",
    "        print(M_type)\n",
    "        \n",
    "HCG_mems['T'] = T_type"
   ]
  },
  {
   "cell_type": "code",
   "execution_count": null,
   "metadata": {},
   "outputs": [],
   "source": [
    "HCG_mems = astropy.table.join(HCG_mems,HCGs['HCG','dist'],join_type='left')\n",
    "HCG_mems.add_index('HCG')"
   ]
  },
  {
   "cell_type": "code",
   "execution_count": null,
   "metadata": {},
   "outputs": [],
   "source": [
    "HCG_mems['logMHI_pred'],HCG_mems['e_logMHI_pred'] = numpy.round(logMHI_pred(numpy.array(HCG_mems['BTc']),numpy.array(HCG_mems['dist']),HCG_mems['e_BTmag'],0.),decimals=2)\n",
    "HCG_mems['logMHI_pred_type'] = numpy.round(logMHI_pred_type(numpy.array(HCG_mems['BTc']),numpy.array(HCG_mems['dist']),numpy.array(HCG_mems['T'])),decimals=2)\n",
    "HCG_mems['logMHI_pred_HG84'] = numpy.round(logMHI_pred_HG84(numpy.array(HCG_mems['BTc']),numpy.array(HCG_mems['dist'])),decimals=2)\n",
    "HCG_mems['dist'] = numpy.round(HCG_mems['dist'],decimals=1)\n",
    "HCG_mems['dist'].unit = units.Mpc "
   ]
  },
  {
   "cell_type": "code",
   "execution_count": null,
   "metadata": {},
   "outputs": [],
   "source": [
    "HCG_mems.pprint(max_lines=-1,max_width=-1)"
   ]
  },
  {
   "cell_type": "code",
   "execution_count": null,
   "metadata": {},
   "outputs": [],
   "source": []
  },
  {
   "cell_type": "code",
   "execution_count": null,
   "metadata": {},
   "outputs": [],
   "source": [
    "HI_pred = []\n",
    "e_HI_pred = []\n",
    "HI_pred_type = []\n",
    "HI_pred_HG84 = []\n",
    "for HCG in HCGs['HCG']:\n",
    "    HI_pred.append(numpy.log10(numpy.sum(10.**HCG_mems.loc[HCG]['logMHI_pred'])))\n",
    "    e_HI_pred.append(numpy.sqrt(numpy.sum(numpy.square(HCG_mems.loc[HCG]['e_logMHI_pred']*10.**HCG_mems.loc[HCG]['logMHI_pred'])))/numpy.sum((10.**HCG_mems.loc[HCG]['logMHI_pred'])))\n",
    "    HI_pred_type.append(numpy.log10(numpy.sum(10.**HCG_mems.loc[HCG]['logMHI_pred_type'])))\n",
    "    HI_pred_HG84.append(numpy.log10(numpy.sum(10.**HCG_mems.loc[HCG]['logMHI_pred_HG84'])))\n",
    "HCGs['cz'] = numpy.array((numpy.round(HCGs['cz'],decimals=0)),dtype='int')\n",
    "HCGs['cz'].unit = units.km/units.s \n",
    "HCGs['dist'] = numpy.round(HCGs['dist'],decimals=1)\n",
    "HCGs['dist'].unit = units.Mpc \n",
    "HCGs['logMHI_pred'] = numpy.round(HI_pred,decimals=2)\n",
    "HCGs['e_logMHI_pred'] = numpy.round(e_HI_pred,decimals=2)\n",
    "HCGs['logMHI_pred_type'] = numpy.round(HI_pred_type,decimals=2)\n",
    "HCGs['logMHI_pred_HG84'] = numpy.round(HI_pred_HG84,decimals=2)"
   ]
  },
  {
   "cell_type": "code",
   "execution_count": null,
   "metadata": {},
   "outputs": [],
   "source": [
    "HCGs"
   ]
  },
  {
   "cell_type": "code",
   "execution_count": null,
   "metadata": {},
   "outputs": [],
   "source": []
  },
  {
   "cell_type": "code",
   "execution_count": null,
   "metadata": {},
   "outputs": [],
   "source": [
    "HCG_mems = HCG_mems['HCG','m_HCG','name','ra','dec','MType','T','a','b','Vel','BTmag','e_BTmag','BTc','dist','logMHI_pred','e_logMHI_pred']"
   ]
  },
  {
   "cell_type": "code",
   "execution_count": null,
   "metadata": {},
   "outputs": [],
   "source": [
    "HCG_mems.write('tables/HCG_members.vo',format='votable',overwrite=True)\n",
    "HCG_mems.write('tables/HCG_members.fits',format='fits',overwrite=True)\n",
    "HCG_mems.write('tables/HCG_members.ascii',format='ascii.fixed_width_two_line',overwrite=True)"
   ]
  },
  {
   "cell_type": "code",
   "execution_count": null,
   "metadata": {},
   "outputs": [],
   "source": [
    "HCGs.write('tables/HCGs.vo',format='votable',overwrite=True)\n",
    "HCGs.write('tables/HCGs.fits',format='fits',overwrite=True)\n",
    "HCGs.write('tables/HCGs.ascii',format='ascii.fixed_width_two_line',overwrite=True)"
   ]
  },
  {
   "cell_type": "code",
   "execution_count": null,
   "metadata": {},
   "outputs": [],
   "source": []
  },
  {
   "cell_type": "code",
   "execution_count": null,
   "metadata": {},
   "outputs": [],
   "source": []
  }
 ],
 "metadata": {
  "kernelspec": {
   "display_name": "Python 3",
   "language": "python",
   "name": "python3"
  },
  "language_info": {
   "codemirror_mode": {
    "name": "ipython",
    "version": 3
   },
   "file_extension": ".py",
   "mimetype": "text/x-python",
   "name": "python",
   "nbconvert_exporter": "python",
   "pygments_lexer": "ipython3",
   "version": "3.7.3"
  }
 },
 "nbformat": 4,
 "nbformat_minor": 4
}
