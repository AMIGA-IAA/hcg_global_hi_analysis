{
 "cells": [
  {
   "cell_type": "code",
   "execution_count": null,
   "metadata": {},
   "outputs": [],
   "source": [
    "import matplotlib,numpy,astropy\n",
    "from astropy.wcs import WCS\n",
    "import matplotlib.pyplot as plt\n",
    "from astroquery.vizier import Vizier\n",
    "from astroquery.ned import Ned\n",
    "from astropy.table import QTable, join\n",
    "from astropy import units\n",
    "from astropy.coordinates import SkyCoord"
   ]
  },
  {
   "cell_type": "code",
   "execution_count": null,
   "metadata": {},
   "outputs": [],
   "source": [
    "c = 299792.458 * units.km/units.s #km/s\n",
    "#HI line rest frequency\n",
    "f0 = 1.420405751 * units.GHz #GHz"
   ]
  },
  {
   "cell_type": "code",
   "execution_count": null,
   "metadata": {},
   "outputs": [],
   "source": [
    "def logMHI_pred(B_c,D,B_c_err,D_err):\n",
    "    '''\n",
    "    Predicts HI mass of a galaxy given its B-band luminosity following Jones et al. 2018, A&A 609A, 17J.\n",
    "    \n",
    "    Inputs:\n",
    "        B_c = Extinction and k-corrected B-band apparent magnitude.\n",
    "        D = Source luminoisty distance [Mpc].\n",
    "        B_c_err = Error in B_c.\n",
    "        D_err = Error in D [Mpc].\n",
    "        \n",
    "    Outputs:\n",
    "        logMHI = Logarithm of the predicted HI mass [Msol].\n",
    "        logMHI_err = Error in logMHI.\n",
    "    '''\n",
    "    \n",
    "    logD = numpy.log10(D)\n",
    "    logD_err = D_err/(D*numpy.log(10.))\n",
    "    \n",
    "    logLB = 10. + 2.*numpy.log10(D) + 0.4*(4.88-B_c)\n",
    "    \n",
    "    logMHI = 0.94*logLB + 0.18\n",
    "    \n",
    "    logMHI_err = numpy.sqrt(0.2**2. + (0.94**2.)*((0.4*B_c_err)**2. + (2.*logD_err)**2.))\n",
    "    \n",
    "    return logMHI,logMHI_err\n",
    "\n",
    "def logMHI_pred_type(B_c,D,T):\n",
    "    '''\n",
    "    Predicts HI mass of a galaxy given its B-band luminosity following Jones et al. 2018, A&A 609A, 17J.\n",
    "    Includes a correction for the galaxy T type, but does not estimate uncertainty.\n",
    "    \n",
    "    Inputs:\n",
    "        B_c = Extinction and k-corrected B-band apparent magnitude.\n",
    "        D = Source luminoisty distance [Mpc].\n",
    "        T = Type as in RC3.\n",
    "        \n",
    "    Outputs:\n",
    "        logMHI = Logarithm of the predicted HI mass [Msol].\n",
    "    '''\n",
    "    \n",
    "    logD = numpy.log10(D)\n",
    "    \n",
    "    logLB = 10. + 2.*numpy.log10(D) + 0.4*(4.88-B_c)\n",
    "    logLB = numpy.array(logLB,dtype='float')\n",
    "    \n",
    "    logMHI = numpy.zeros(len(logLB))\n",
    "    \n",
    "    inx = numpy.where(T < 3)[0]\n",
    "    logMHI[inx] = 1.46*logLB[inx] - 5.38\n",
    "    inx = numpy.where(numpy.logical_and(T >= 3, T <= 5))[0]\n",
    "    logMHI[inx] = 1.59*logLB[inx] - 6.45\n",
    "    inx = numpy.where(T > 5)[0]\n",
    "    logMHI[inx] = 0.78*logLB[inx] + 1.95\n",
    "    \n",
    "    return logMHI\n",
    "\n",
    "def logMHI_pred_HG84(B_c,D):\n",
    "    '''\n",
    "    Predicts HI mass of a galaxy given its B-band luminosity following Haynes & Giovanelli 1984.\n",
    "    \n",
    "    Inputs:\n",
    "        B_c = Extinction and k-corrected B-band apparent magnitude.\n",
    "        D = Source luminoisty distance [Mpc].\n",
    "        \n",
    "    Outputs:\n",
    "        logMHI = Logarithm of the predicted HI mass [Msol].\n",
    "    '''\n",
    "    \n",
    "    logD = numpy.log10(D)\n",
    "    \n",
    "    logLB = 10. + 2.*numpy.log10(D) + 0.4*(4.88-B_c)\n",
    "    \n",
    "    logMHI = 0.66*logLB + 3.17\n",
    "    \n",
    "    return logMHI"
   ]
  },
  {
   "cell_type": "code",
   "execution_count": null,
   "metadata": {},
   "outputs": [],
   "source": [
    "VLA_HCGs = [2, 7, 10, 15, 16, 19, 22, 23, 25, 26, 30, 31, 33, 37, 38, 40, 47, 48, 49, 54, 56, 57, 58, 59, 61, 62, 68, 71, 79, 88, 89, 90, 91, 92, 93, 95, 96, 97, 100]\n",
    "\n",
    "#These distances were calculated manually using Cosmic Flows 3 model http://edd.ifa.hawaii.edu/CF3calculator/\n",
    "#This calculator does not support automated queries\n",
    "dists = [51.81, 51.64, 54.39, 94.25, 48.83, 51.95, 37.23, 63.46, 82.18, 127.30, 59.55, 52.03, 106.66, 95.08, 122.06, 97.21, 133.79, 36.79, 141.17, 26.71,\n",
    "         117.03, 134.85, 83.60, 58.88, 59.03, 56.59, 36.23, 128.27, 60.25, 76.99, 122.83, 34.77, 91.81, 89.89, 66.11, 159.80, 119.51, 87.46, 69.30]"
   ]
  },
  {
   "cell_type": "code",
   "execution_count": null,
   "metadata": {},
   "outputs": [],
   "source": [
    "HCG_pos = Vizier(catalog='VII/213/groups', columns=['HCG', '_RAJ2000', '_DEJ2000'], row_limit=-1).query_constraints(HCG=','.join(numpy.array(VLA_HCGs,dtype='str')))[0]\n",
    "HCG_pos.add_index('HCG')\n",
    "HCG_z = Vizier(catalog='VII/213/dynamics', columns=['HCG', 'z'], row_limit=-1).query_constraints(HCG=','.join(numpy.array(VLA_HCGs,dtype='str')))[0]\n",
    "HCG_z.add_index('HCG')"
   ]
  },
  {
   "cell_type": "code",
   "execution_count": null,
   "metadata": {},
   "outputs": [],
   "source": [
    "HCGs = join(HCG_pos,HCG_z,join_type='left')\n",
    "HCGs['dist'] = dists * units.Mpc\n",
    "HCGs.add_index('HCG')\n",
    "\n",
    "HCGs.rename_column('_RAJ2000', 'ra')\n",
    "HCGs.rename_column('_DEJ2000', 'dec')"
   ]
  },
  {
   "cell_type": "code",
   "execution_count": null,
   "metadata": {},
   "outputs": [],
   "source": [
    "#Unfortunately HCG 19 has no redshift in Hickson 1992\n",
    "#Use NED redshift\n",
    "HCGs.loc[19]['z'] = float(Ned.query_object(\"HCG19\")['Redshift'])"
   ]
  },
  {
   "cell_type": "code",
   "execution_count": null,
   "metadata": {},
   "outputs": [],
   "source": [
    "HCGs['cz'] = c*HCGs['z']\n",
    "\n",
    "#Convert heliocentric to \"Local Sheet\" velocities as in Kourkchi+2020, AJ, 159, 67\n",
    "#These velocities were required for using the Cosmic Flows 3 calculator\n",
    "#HCG_coords = SkyCoord(ra=HCGs['_RAJ2000'],dec=HCGs['_DEJ2000'],unit='deg')\n",
    "#HCGs['l'] = HCG_coords.galactic.l.rad * units.rad\n",
    "#HCGs['b'] = HCG_coords.galactic.b.rad * units.rad\n",
    "#HCGs['v_ls'] = HCGs['cz'] - 26.*numpy.cos(HCGs['l'])*numpy.cos(HCGs['b']) + 317*numpy.sin(HCGs['l'])*numpy.cos(HCGs['b']) - 8.*numpy.sin(HCGs['b'])"
   ]
  },
  {
   "cell_type": "code",
   "execution_count": null,
   "metadata": {},
   "outputs": [],
   "source": [
    "#There is an error in the coordinates of HCG 48\n",
    "HCGs.loc[48]['ra'] = 159.440201"
   ]
  },
  {
   "cell_type": "code",
   "execution_count": null,
   "metadata": {},
   "outputs": [],
   "source": [
    "HCG_mems = Vizier(catalog='VII/213/galaxies', columns=['HCG', 'm_HCG', '_RAJ2000', '_DEJ2000', 'MType', 'a', 'b', 'RVhel', 'BTmag', 'e_BTmag', 'BTc'], row_limit=-1).query_constraints(HCG=','.join(numpy.array(VLA_HCGs,dtype='str')))[0]\n",
    "\n",
    "HCG_mems.rename_column('_RAJ2000', 'ra')\n",
    "HCG_mems.rename_column('_DEJ2000', 'dec')\n",
    "HCG_mems.rename_column('RVhel', 'Vel')"
   ]
  },
  {
   "cell_type": "code",
   "execution_count": null,
   "metadata": {},
   "outputs": [],
   "source": [
    "gals_to_remove = {2: ['d'], 19: ['d'], 22: ['d', 'e'], 23: ['e'], 25: ['c', 'e', 'g'], 31: ['d'], 38: ['d'], 48: ['c'], 59: ['e'], 61: ['b'], \n",
    "                  71: ['d'], 79: ['e'], 92: ['a'], 93: ['e']}"
   ]
  },
  {
   "cell_type": "code",
   "execution_count": null,
   "metadata": {},
   "outputs": [],
   "source": [
    "mem_names = []\n",
    "for i in range(len(HCG_mems['HCG'])):\n",
    "    mem_names.append('HCG'+str(HCG_mems[i]['HCG'])+str(HCG_mems[i]['m_HCG']))\n",
    "HCG_mems['name'] = mem_names"
   ]
  },
  {
   "cell_type": "code",
   "execution_count": null,
   "metadata": {},
   "outputs": [],
   "source": [
    "mask = []\n",
    "for HCG in gals_to_remove.keys():\n",
    "    for mem in gals_to_remove[HCG]:\n",
    "        for i in range(len(HCG_mems['HCG'])):\n",
    "            if int(HCG_mems[i]['HCG']) == HCG and str(HCG_mems[i]['m_HCG']) == mem:\n",
    "                mask.append(i)\n",
    "                break\n",
    "HCG_mems.remove_rows(mask)\n",
    "HCG_mems.add_index('HCG')"
   ]
  },
  {
   "cell_type": "code",
   "execution_count": null,
   "metadata": {},
   "outputs": [],
   "source": [
    "#Values for added galaxies are from HyperLEDA which unfortunately is not currently searchable with astroquery\n",
    "HCG_mems.add_row([16,'',32.5734980,-10.3214486,'SBab',None,None,3992,13.66,0.1,13.37,'NGC848'])\n",
    "#HCG_mems.add_row([16,'',32.2750604,-10.3202273,'Sc',None,None,3968,15.82,0.44,15.17,'PGC8210'])#This is not classified as a member of HCG 16\n",
    "HCG_mems.add_row([22,'',45.9313517,-15.4852220,'S0',None,None,2628,14.60,0.39,14.32,'NGC1188'])\n",
    "HCG_mems.add_row([23,'',46.789543,-9.487844,'cI',None,None,5283,19.76,0.50,19.26,'HCG23-26'])\n",
    "HCG_mems.add_row([31,'',75.433375,-4.288750,'cI',None,None,4011,15.49,0.5,15.11,'HCG31g'])\n",
    "HCG_mems.add_row([31,'',75.409743,-4.222454,'cI',None,None,4090,16.23,0.50,16.01,'HCG31q'])\n",
    "HCG_mems.add_row([90,'',330.6919058,-31.9554831,'Sbc',None,None,2568,16.18,0.19,15.27,'ESO466-47'])\n",
    "HCG_mems.add_row([90,'',330.5661945,-31.7564831,'S0',None,None,2819,15.14,0.18,14.98,'ESO466-44'])\n",
    "HCG_mems.add_row([90,'',330.6839214,-31.9910663,'S0a',None,None,2328,14.71,0.28,14.57,'ESO466-46'])"
   ]
  },
  {
   "cell_type": "code",
   "execution_count": null,
   "metadata": {},
   "outputs": [],
   "source": [
    "#Hickson used a different numberic scheme for Hubble type\n",
    "#Here we will use the RC3 system\n",
    "\n",
    "T_type = []\n",
    "for M_type in HCG_mems['MType']:\n",
    "    if \"E\" in M_type:\n",
    "        T_type.append(-5)\n",
    "    elif \"S0\" in M_type or \"SB0\" in M_type:\n",
    "        T_type.append(0)\n",
    "    elif \"Sa\" in M_type or \"SBa\" in M_type or \"SB-\" in M_type:\n",
    "        T_type.append(1)\n",
    "    elif \"Sab\" in M_type or \"SBab\" in M_type:\n",
    "        T_type.append(2)\n",
    "    elif \"Sb\" in M_type or \"SBb\" in M_type:\n",
    "        T_type.append(3)\n",
    "    elif \"Sbc\" in M_type or \"SBbc\" in M_type:\n",
    "        T_type.append(4)\n",
    "    elif \"Sc\" in M_type or \"SBc\" in M_type:\n",
    "        T_type.append(5)\n",
    "    elif \"Scd\" in M_type or \"SBcd\" in M_type:\n",
    "        T_type.append(6)\n",
    "    elif \"Sd\" in M_type or \"SBd\" in M_type:\n",
    "        T_type.append(7)\n",
    "    elif \"Sdm\" in M_type or \"SBdm\" in M_type:\n",
    "        T_type.append(8)\n",
    "    elif \"Sm\" in M_type or \"SBm\" in M_type:\n",
    "        T_type.append(9)\n",
    "    elif \"Im\" in M_type:\n",
    "        T_type.append(10)\n",
    "    elif \"cI\" in M_type:\n",
    "        T_type.append(11)\n",
    "    else:\n",
    "        print('Case not matched:')\n",
    "        print(M_type)\n",
    "        \n",
    "HCG_mems['T'] = T_type"
   ]
  },
  {
   "cell_type": "code",
   "execution_count": null,
   "metadata": {},
   "outputs": [],
   "source": [
    "HCG_mems = astropy.table.join(HCG_mems,HCGs['HCG','dist'],join_type='left')\n",
    "HCG_mems.add_index('HCG')"
   ]
  },
  {
   "cell_type": "code",
   "execution_count": null,
   "metadata": {},
   "outputs": [],
   "source": [
    "HCG_mems['logMHI_pred'],HCG_mems['e_logMHI_pred'] = numpy.round(logMHI_pred(numpy.array(HCG_mems['BTc']),numpy.array(HCG_mems['dist']),HCG_mems['e_BTmag'],0.),decimals=2)\n",
    "HCG_mems['logMHI_pred_type'] = numpy.round(logMHI_pred_type(numpy.array(HCG_mems['BTc']),numpy.array(HCG_mems['dist']),numpy.array(HCG_mems['T'])),decimals=2)\n",
    "HCG_mems['logMHI_pred_HG84'] = numpy.round(logMHI_pred_HG84(numpy.array(HCG_mems['BTc']),numpy.array(HCG_mems['dist'])),decimals=2)"
   ]
  },
  {
   "cell_type": "code",
   "execution_count": null,
   "metadata": {},
   "outputs": [],
   "source": [
    "HCG_mems.pprint(max_lines=-1,max_width=-1)"
   ]
  },
  {
   "cell_type": "code",
   "execution_count": null,
   "metadata": {},
   "outputs": [],
   "source": []
  },
  {
   "cell_type": "code",
   "execution_count": null,
   "metadata": {},
   "outputs": [],
   "source": [
    "HI_pred = []\n",
    "e_HI_pred = []\n",
    "HI_pred_type = []\n",
    "HI_pred_HG84 = []\n",
    "for HCG in HCGs['HCG']:\n",
    "    HI_pred.append(numpy.log10(numpy.sum(10.**HCG_mems.loc[HCG]['logMHI_pred'])))\n",
    "    e_HI_pred.append(numpy.sqrt(numpy.sum(numpy.square(HCG_mems.loc[HCG]['e_logMHI_pred']*10.**HCG_mems.loc[HCG]['logMHI_pred'])))/numpy.sum((10.**HCG_mems.loc[HCG]['logMHI_pred'])))\n",
    "    HI_pred_type.append(numpy.log10(numpy.sum(10.**HCG_mems.loc[HCG]['logMHI_pred_type'])))\n",
    "    HI_pred_HG84.append(numpy.log10(numpy.sum(10.**HCG_mems.loc[HCG]['logMHI_pred_HG84'])))\n",
    "HCGs['logMHI_pred'] = numpy.round(HI_pred,decimals=2)\n",
    "HCGs['e_logMHI_pred'] = numpy.round(e_HI_pred,decimals=2)\n",
    "HCGs['logMHI_pred_type'] = numpy.round(HI_pred_type,decimals=2)\n",
    "HCGs['logMHI_pred_HG84'] = numpy.round(HI_pred_HG84,decimals=2)"
   ]
  },
  {
   "cell_type": "code",
   "execution_count": null,
   "metadata": {},
   "outputs": [],
   "source": [
    "HCGs"
   ]
  },
  {
   "cell_type": "code",
   "execution_count": null,
   "metadata": {},
   "outputs": [],
   "source": []
  },
  {
   "cell_type": "code",
   "execution_count": null,
   "metadata": {},
   "outputs": [],
   "source": [
    "HCG_mems = HCG_mems['HCG','m_HCG','name','ra','dec','MType','T','a','b','Vel','BTmag','e_BTmag','BTc','dist','logMHI_pred','e_logMHI_pred']"
   ]
  },
  {
   "cell_type": "code",
   "execution_count": null,
   "metadata": {},
   "outputs": [],
   "source": [
    "HCG_mems.write('../output/HCG_members.vo',format='votable',overwrite=True)\n",
    "HCG_mems.write('../output/HCG_members.fits',format='fits',overwrite=True)\n",
    "HCG_mems.write('../output/HCG_members.ascii',format='ascii.fixed_width_two_line',overwrite=True)"
   ]
  },
  {
   "cell_type": "code",
   "execution_count": null,
   "metadata": {},
   "outputs": [],
   "source": [
    "HCGs.write('../output/HCGs.vo',format='votable',overwrite=True)\n",
    "HCGs.write('../output/HCGs.fits',format='fits',overwrite=True)\n",
    "HCGs.write('../output/HCGs.ascii',format='ascii.fixed_width_two_line',overwrite=True)"
   ]
  },
  {
   "cell_type": "code",
   "execution_count": null,
   "metadata": {},
   "outputs": [],
   "source": []
  },
  {
   "cell_type": "code",
   "execution_count": null,
   "metadata": {},
   "outputs": [],
   "source": []
  }
 ],
 "metadata": {
  "kernelspec": {
   "display_name": "Python 3",
   "language": "python",
   "name": "python3"
  },
  "language_info": {
   "codemirror_mode": {
    "name": "ipython",
    "version": 3
   },
   "file_extension": ".py",
   "mimetype": "text/x-python",
   "name": "python",
   "nbconvert_exporter": "python",
   "pygments_lexer": "ipython3",
   "version": "3.7.3"
  }
 },
 "nbformat": 4,
 "nbformat_minor": 4
}
