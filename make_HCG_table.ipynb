{
 "cells": [
  {
   "cell_type": "code",
   "execution_count": 1,
   "metadata": {},
   "outputs": [],
   "source": [
    "import matplotlib,numpy,astropy\n",
    "from astropy.wcs import WCS\n",
    "import matplotlib.pyplot as plt\n",
    "from astroquery.vizier import Vizier\n",
    "from astroquery.ned import Ned\n",
    "from astropy.table import QTable, join\n",
    "from astropy import units\n",
    "from astropy.coordinates import SkyCoord"
   ]
  },
  {
   "cell_type": "code",
   "execution_count": 2,
   "metadata": {},
   "outputs": [],
   "source": [
    "c = 299792.458 * units.km/units.s #km/s\n",
    "#HI line rest frequency\n",
    "f0 = 1.420405751 * units.GHz #GHz"
   ]
  },
  {
   "cell_type": "code",
   "execution_count": 3,
   "metadata": {},
   "outputs": [],
   "source": [
    "def logMHI_pred(B_c,D,B_c_err,D_err):\n",
    "    '''\n",
    "    Predicts HI mass of a galaxy given its B-band luminosity following Jones et al. 2018, A&A 609A, 17J.\n",
    "    \n",
    "    Inputs:\n",
    "        B_c = Extinction and k-corrected B-band apparent magnitude.\n",
    "        D = Source luminoisty distance [Mpc].\n",
    "        B_c_err = Error in B_c.\n",
    "        D_err = Error in D [Mpc].\n",
    "        \n",
    "    Outputs:\n",
    "        logMHI = Logarithm of the predicted HI mass [Msol].\n",
    "        logMHI_err = Error in logMHI.\n",
    "    '''\n",
    "    \n",
    "    logD = numpy.log10(D)\n",
    "    logD_err = D_err/(D*numpy.log(10.))\n",
    "    \n",
    "    logLB = 10. + 2.*numpy.log10(D) + 0.4*(4.88-B_c)\n",
    "    \n",
    "    logMHI = 0.94*logLB + 0.18\n",
    "    \n",
    "    logMHI_err = numpy.sqrt(0.2**2. + (0.94**2.)*((0.4*B_c_err)**2. + (2.*logD_err)**2.))\n",
    "    \n",
    "    return logMHI,logMHI_err"
   ]
  },
  {
   "cell_type": "code",
   "execution_count": 4,
   "metadata": {},
   "outputs": [],
   "source": [
    "VLA_HCGs = [2, 7, 10, 15, 16, 19, 22, 23, 25, 26, 30, 31, 33, 37, 38, 40, 47, 48, 49, 54, 56, 57, 58, 59, 61, 62, 68, 71, 79, 88, 89, 90, 91, 92, 93, 95, 96, 97, 100]\n",
    "\n",
    "#These distances were calculated manually using Cosmic Flows 3 model http://edd.ifa.hawaii.edu/CF3calculator/\n",
    "#This calculator does not support automated queries\n",
    "dists = [51.81, 51.64, 54.39, 94.25, 48.83, 51.95, 37.23, 63.46, 82.18, 127.30, 59.55, 52.03, 106.66, 95.08, 122.06, 97.21, 133.79, 36.79, 141.17, 26.71,\n",
    "         117.03, 134.85, 83.60, 58.88, 59.03, 56.59, 36.23, 128.27, 60.25, 76.99, 122.83, 34.77, 91.81, 89.89, 66.11, 159.80, 119.51, 87.46, 69.30]"
   ]
  },
  {
   "cell_type": "code",
   "execution_count": 5,
   "metadata": {},
   "outputs": [],
   "source": [
    "HCG_pos = Vizier(catalog='VII/213/groups', columns=['HCG', '_RAJ2000', '_DEJ2000'], row_limit=-1).query_constraints(HCG=','.join(numpy.array(VLA_HCGs,dtype='str')))[0]\n",
    "HCG_pos.add_index('HCG')\n",
    "HCG_z = Vizier(catalog='VII/213/dynamics', columns=['HCG', 'z'], row_limit=-1).query_constraints(HCG=','.join(numpy.array(VLA_HCGs,dtype='str')))[0]\n",
    "HCG_z.add_index('HCG')"
   ]
  },
  {
   "cell_type": "code",
   "execution_count": 6,
   "metadata": {},
   "outputs": [
    {
     "name": "stderr",
     "output_type": "stream",
     "text": [
      "WARNING: MergeConflictWarning: In merged column 'HCG' the 'description' attribute does not match ([1/100]+ Number of the group in this catalog != [1/100]+= Group number).  Using [1/100]+= Group number for merged output [astropy.utils.metadata]\n",
      "WARNING: MergeConflictWarning: Cannot merge meta key 'ID' types <class 'str'> and <class 'str'>, choosing ID='VII_213_dynamics' [astropy.utils.metadata]\n",
      "WARNING: MergeConflictWarning: Cannot merge meta key 'name' types <class 'str'> and <class 'str'>, choosing name='VII/213/dynamics' [astropy.utils.metadata]\n",
      "WARNING: MergeConflictWarning: Cannot merge meta key 'description' types <class 'str'> and <class 'str'>, choosing description='Dynamical properties (1992 paper, table3)' [astropy.utils.metadata]\n"
     ]
    }
   ],
   "source": [
    "HCGs = join(HCG_pos,HCG_z,join_type='left')\n",
    "HCGs['dist'] = dists * units.Mpc\n",
    "HCGs.add_index('HCG')\n",
    "\n",
    "HCGs.rename_column('_RAJ2000', 'ra')\n",
    "HCGs.rename_column('_DEJ2000', 'dec')"
   ]
  },
  {
   "cell_type": "code",
   "execution_count": 7,
   "metadata": {},
   "outputs": [],
   "source": [
    "#Unfortunately HCG 19 has no redshift in Hickson 1992\n",
    "#Use NED redshift\n",
    "HCGs.loc[19]['z'] = float(Ned.query_object(\"HCG19\")['Redshift'])"
   ]
  },
  {
   "cell_type": "code",
   "execution_count": 8,
   "metadata": {},
   "outputs": [],
   "source": [
    "HCGs['cz'] = c*HCGs['z']\n",
    "\n",
    "#Convert heliocentric to \"Local Sheet\" velocities as in Kourkchi+2020, AJ, 159, 67\n",
    "#These velocities were required for using the Cosmic Flows 3 calculator\n",
    "#HCG_coords = SkyCoord(ra=HCGs['_RAJ2000'],dec=HCGs['_DEJ2000'],unit='deg')\n",
    "#HCGs['l'] = HCG_coords.galactic.l.rad * units.rad\n",
    "#HCGs['b'] = HCG_coords.galactic.b.rad * units.rad\n",
    "#HCGs['v_ls'] = HCGs['cz'] - 26.*numpy.cos(HCGs['l'])*numpy.cos(HCGs['b']) + 317*numpy.sin(HCGs['l'])*numpy.cos(HCGs['b']) - 8.*numpy.sin(HCGs['b'])"
   ]
  },
  {
   "cell_type": "code",
   "execution_count": 10,
   "metadata": {},
   "outputs": [],
   "source": [
    "#There is an error in the coordinates of HCG 48\n",
    "HCGs.loc[48]['ra'] = 159.440201"
   ]
  },
  {
   "cell_type": "code",
   "execution_count": 12,
   "metadata": {},
   "outputs": [],
   "source": [
    "HCG_mems = Vizier(catalog='VII/213/galaxies', columns=['HCG', 'm_HCG', '_RAJ2000', '_DEJ2000', 'MType', 'a', 'b', 'RVhel', 'BTmag', 'e_BTmag', 'BTc'], row_limit=-1).query_constraints(HCG=','.join(numpy.array(VLA_HCGs,dtype='str')))[0]\n",
    "\n",
    "HCG_mems.rename_column('_RAJ2000', 'ra')\n",
    "HCG_mems.rename_column('_DEJ2000', 'dec')\n",
    "HCG_mems.rename_column('RVhel', 'Vel')"
   ]
  },
  {
   "cell_type": "code",
   "execution_count": 13,
   "metadata": {},
   "outputs": [],
   "source": [
    "gals_to_remove = {2: ['d'], 19: ['d'], 22: ['d', 'e'], 23: ['e'], 25: ['c', 'e', 'g'], 31: ['d'], 38: ['d'], 48: ['c'], 59: ['e'], 61: ['b'], \n",
    "                  71: ['d'], 79: ['e'], 92: ['a'], 93: ['e']}"
   ]
  },
  {
   "cell_type": "code",
   "execution_count": 14,
   "metadata": {},
   "outputs": [],
   "source": [
    "mem_names = []\n",
    "for i in range(len(HCG_mems['HCG'])):\n",
    "    mem_names.append('HCG'+str(HCG_mems[i]['HCG'])+str(HCG_mems[i]['m_HCG']))\n",
    "HCG_mems['name'] = mem_names"
   ]
  },
  {
   "cell_type": "code",
   "execution_count": 15,
   "metadata": {},
   "outputs": [],
   "source": [
    "mask = []\n",
    "for HCG in gals_to_remove.keys():\n",
    "    for mem in gals_to_remove[HCG]:\n",
    "        for i in range(len(HCG_mems['HCG'])):\n",
    "            if int(HCG_mems[i]['HCG']) == HCG and str(HCG_mems[i]['m_HCG']) == mem:\n",
    "                mask.append(i)\n",
    "                break\n",
    "HCG_mems.remove_rows(mask)\n",
    "HCG_mems.add_index('HCG')"
   ]
  },
  {
   "cell_type": "code",
   "execution_count": 16,
   "metadata": {},
   "outputs": [],
   "source": [
    "#Values for added galaxies are from HyperLEDA which unfortunately is not currently searchable with astroquery\n",
    "HCG_mems.add_row([16,'',32.5734980,-10.3214486,'SBab',None,None,3992,13.66,0.1,13.37,'NGC848'])\n",
    "HCG_mems.add_row([16,'',32.2750604,-10.3202273,'Sc',None,None,3968,15.82,0.44,15.17,'PGC8210'])\n",
    "HCG_mems.add_row([22,'',045.9313517,15.4852220,'S0',None,None,2628,14.60,0.39,14.32,'NGC1188'])\n",
    "HCG_mems.add_row([90,'',330.6919058,-31.9554831,'Sbc',None,None,2568,16.18,0.19,15.27,'ESO466-47'])\n",
    "HCG_mems.add_row([90,'',330.5661945,-31.7564831,'S0',None,None,2819,15.14,0.18,14.98,'ESO466-44'])\n",
    "HCG_mems.add_row([90,'',330.6839214,-31.9910663,'S0a',None,None,2328,14.71,0.28,14.57,'ESO466-46'])"
   ]
  },
  {
   "cell_type": "code",
   "execution_count": 17,
   "metadata": {},
   "outputs": [],
   "source": [
    "#Hickson used a different numberic scheme for Hubble type\n",
    "#Here we will use the RC3 system\n",
    "\n",
    "T_type = []\n",
    "for M_type in HCG_mems['MType']:\n",
    "    if \"E\" in M_type:\n",
    "        T_type.append(-5)\n",
    "    elif \"S0\" in M_type or \"SB0\" in M_type:\n",
    "        T_type.append(0)\n",
    "    elif \"Sa\" in M_type or \"SBa\" in M_type or \"SB-\" in M_type:\n",
    "        T_type.append(1)\n",
    "    elif \"Sab\" in M_type or \"SBab\" in M_type:\n",
    "        T_type.append(2)\n",
    "    elif \"Sb\" in M_type or \"SBb\" in M_type:\n",
    "        T_type.append(3)\n",
    "    elif \"Sbc\" in M_type or \"SBbc\" in M_type:\n",
    "        T_type.append(4)\n",
    "    elif \"Sc\" in M_type or \"SBc\" in M_type:\n",
    "        T_type.append(5)\n",
    "    elif \"Scd\" in M_type or \"SBcd\" in M_type:\n",
    "        T_type.append(6)\n",
    "    elif \"Sd\" in M_type or \"SBd\" in M_type:\n",
    "        T_type.append(7)\n",
    "    elif \"Sdm\" in M_type or \"SBdm\" in M_type:\n",
    "        T_type.append(8)\n",
    "    elif \"Sm\" in M_type or \"SBm\" in M_type:\n",
    "        T_type.append(9)\n",
    "    elif \"Im\" in M_type:\n",
    "        T_type.append(10)\n",
    "    elif \"cI\" in M_type:\n",
    "        T_type.append(11)\n",
    "    else:\n",
    "        print('Case not matched:')\n",
    "        print(M_type)\n",
    "        \n",
    "HCG_mems['T'] = T_type"
   ]
  },
  {
   "cell_type": "code",
   "execution_count": 18,
   "metadata": {},
   "outputs": [
    {
     "name": "stderr",
     "output_type": "stream",
     "text": [
      "WARNING: MergeConflictWarning: In merged column 'HCG' the 'description' attribute does not match ([1/100]+= Hickson Group number (groups.dat) != [1/100]+= Group number).  Using [1/100]+= Group number for merged output [astropy.utils.metadata]\n",
      "WARNING: MergeConflictWarning: Cannot merge meta key 'ID' types <class 'str'> and <class 'str'>, choosing ID='VII_213_dynamics' [astropy.utils.metadata]\n",
      "WARNING: MergeConflictWarning: Cannot merge meta key 'name' types <class 'str'> and <class 'str'>, choosing name='VII/213/dynamics' [astropy.utils.metadata]\n",
      "WARNING: MergeConflictWarning: Cannot merge meta key 'description' types <class 'str'> and <class 'str'>, choosing description='Dynamical properties (1992 paper, table3)' [astropy.utils.metadata]\n"
     ]
    }
   ],
   "source": [
    "HCG_mems = astropy.table.join(HCG_mems,HCGs['HCG','dist'],join_type='left')\n",
    "HCG_mems.add_index('HCG')"
   ]
  },
  {
   "cell_type": "code",
   "execution_count": 19,
   "metadata": {},
   "outputs": [],
   "source": [
    "HCG_mems['logMHI_pred'],HCG_mems['e_logMHI_pred'] = numpy.round(logMHI_pred(numpy.array(HCG_mems['BTc']),numpy.array(HCG_mems['dist']),HCG_mems['e_BTmag'],0.),decimals=2)"
   ]
  },
  {
   "cell_type": "code",
   "execution_count": 20,
   "metadata": {},
   "outputs": [
    {
     "name": "stdout",
     "output_type": "stream",
     "text": [
      "HCG m_HCG      ra         dec     MType   a      b     Vel   BTmag e_BTmag  BTc     name    T   dist  logMHI_pred e_logMHI_pred\n",
      "              deg         deg           arcsec arcsec km / s  mag    mag    mag                 Mpc                            \n",
      "--- ----- ----------- ----------- ----- ------ ------ ------ ----- ------- ----- --------- --- ------ ----------- -------------\n",
      "  2     a   7.8495541   8.4682225   SBd   40.5   19.7   4326 13.84    0.10 13.35     HCG2a   7  51.81        9.62           0.2\n",
      "  2     b   7.8282520   8.4751805    cI   21.2   18.4   4366 14.63    0.10 14.39     HCG2b  11  51.81        9.23           0.2\n",
      "  2     c   7.8723178   8.4006804   SBc   32.9   18.1   4235 14.60    0.10 14.15     HCG2c   5  51.81        9.32           0.2\n",
      "  7     a   9.8065011   0.8636325    Sb   56.8   27.6   4210 13.46    0.10 12.98     HCG7a   3  51.64        9.75           0.2\n",
      "  7     b   9.8251666   0.9127286   SB0   40.1   29.2   4238 14.02    0.20 13.74     HCG7b   0  51.64        9.47          0.21\n",
      "  7     c   9.8960449   0.8596160   SBc   52.3   42.6   4366 12.90    0.70 12.60     HCG7c   5  51.64         9.9          0.33\n",
      "  7     d   9.8291082   0.8914755   SBc   38.3   27.9   4116 15.11    0.20 14.77     HCG7d   5  51.64        9.08          0.21\n",
      " 10     a  21.5894274  34.7020398   SBb  104.8   35.9   5148 13.36    0.10 12.62    HCG10a   3  54.39        9.93           0.2\n",
      " 10     b  21.4181711  34.7128395    E1   51.2   48.0   4862 13.07    0.10 12.70    HCG10b  -5  54.39         9.9           0.2\n",
      " 10     c  21.5784861  34.7539479    Sc   55.4   12.9   4660 14.94    0.10 14.07    HCG10c   5  54.39        9.39           0.2\n",
      " 10     d  21.6286463  34.6750819   Scd   29.2    7.3   4620 15.54    0.20 14.69    HCG10d   5  54.39        9.15          0.21\n",
      " 15     f  31.9077833   2.1902792   Sbc   16.8   10.0   6242 16.13    0.20 15.74    HCG15f   3  94.25        9.21          0.21\n",
      " 15     a  31.9709433   2.1675906    Sa   36.0   20.7   6967 14.69    0.20 14.29    HCG15a   1  94.25        9.75          0.21\n",
      " 15     d  31.9063422   2.1807829    E2   24.1   18.9   6244 14.86    0.20 14.65    HCG15d  -5  94.25        9.62          0.21\n",
      " 15     c  31.9157228   2.1497312    E0   24.5   24.1   7222 14.58    0.10 14.37    HCG15c  -5  94.25        9.72           0.2\n",
      " 15     b  31.8921731   2.1152077    E0   25.6   25.6   7117 14.95    0.10 14.74    HCG15b  -5  94.25        9.58           0.2\n",
      " 15     e  31.8556701   2.1161339    Sa   22.0   18.0   7197 15.84    0.10 15.56    HCG15e   1  94.25        9.28           0.2\n",
      " 16        32.2750604 -10.3202273    Sc    nan    nan   3968 15.82    0.44 15.17   PGC8210   5  48.83        8.89          0.26\n",
      " 16        32.5734980 -10.3214486  SBab    nan    nan   3992 13.66    0.10 13.37    NGC848   1  48.83        9.56           0.2\n",
      " 16     c  32.4107135 -10.1463656    Im   31.5   25.1   3851 13.40    0.08 13.10    HCG16c  10  48.83        9.66           0.2\n",
      " 16     a  32.3531167 -10.1362169  SBab   34.9   32.6   4152 12.99    0.15 12.76    HCG16a   1  48.83        9.79          0.21\n",
      " 16     d  32.4287248 -10.1839400    Im   41.1   22.0   3847 13.90    0.09 13.42    HCG16d  10  48.83        9.54           0.2\n",
      " 16     b  32.3360960 -10.1330897   Sab   49.4   23.1   3977 13.74    0.15 13.27    HCG16b   1  48.83         9.6          0.21\n",
      " 19     b  40.6754834 -12.4277693   Scd   24.1    7.8   4210 15.86    0.20 15.24    HCG19b   5  51.95        8.91          0.21\n",
      " 19     a  40.6599759 -12.4212760    E2   26.2   20.4   4279 14.23    0.20 14.00    HCG19a  -5  51.95        9.38          0.21\n",
      " 19     c  40.6950663 -12.3978308   Sdm   32.4   14.5     -- 14.97    0.10 14.46    HCG19c   7  51.95         9.2           0.2\n",
      " 22        45.9313517  15.4852220    S0    nan    nan   2628 14.60    0.39 14.32   NGC1188   0  37.23        8.98          0.25\n",
      " 22     a  45.9105566 -15.6136893    E2   79.8   62.5   2705 12.49    0.13 12.24    HCG22a  -5  37.23        9.77          0.21\n",
      " 22     b  45.8592998 -15.6618727    Sa   30.6   12.4   2625 15.04    0.10 14.47    HCG22b   1  37.23        8.93           0.2\n",
      " 22     c  45.8514101 -15.6233173  SBcd   52.2   47.3   2728 14.20    0.70 13.90    HCG22c   5  37.23        9.14          0.33\n",
      " 23     a  46.7328489  -9.5440625   Sab   37.2   11.9   4798 14.96    0.20 14.32    HCG23a   1  63.46        9.42          0.21\n",
      " 23     b  46.7897631  -9.5933189   SBc   46.1   28.7   4921 14.83    0.20 14.42    HCG23b   5  63.46        9.38          0.21\n",
      " 23     c  46.8269196  -9.6132833    S0   23.2    6.8   5016 15.98    0.20 15.52    HCG23c   0  63.46        8.97          0.21\n",
      " 23     d  46.7301240  -9.6295256    Sd   19.3   15.2   4562 16.30    0.50 16.00    HCG23d   7  63.46        8.79          0.27\n",
      " 25     b  50.1899747  -1.0448643   SBa   29.0   19.1   6408 14.85    0.20 14.45    HCG25b   1  82.18        9.58          0.21\n",
      " 25     a  50.1797773  -1.1093545   SBc   38.4   17.5   6285 14.39    0.10 13.86    HCG25a   5  82.18         9.8           0.2\n",
      " 25     d  50.1617198  -1.0353982    S0    9.8    7.0   6401 16.24    0.10 15.92    HCG25d   0  82.18        9.03           0.2\n",
      " 25     f  50.1897731  -1.0542525    S0   11.1    9.9   6279 17.26    0.20 16.98    HCG25f   0  82.18        8.63          0.21\n",
      " 26     a  50.4803988 -13.6508527   Scd   32.0    5.8   9678 17.00    0.70 16.10    HCG26a   5  127.3        9.32          0.33\n",
      " 26     g  50.4801157 -13.6487405    S0    5.9    5.0   9293 17.70    0.70 17.40    HCG26g   0  127.3        8.83          0.33\n",
      " 26     f  50.4899232 -13.6639161    cI    5.4    3.7   9626 18.95    0.10 18.68    HCG26f  11  127.3        8.35           0.2\n",
      " 26     e  50.4630237 -13.6647324    Im   10.5    3.5   9623 17.80    0.10 17.05    HCG26e  10  127.3        8.96           0.2\n",
      " 26     d  50.4855830 -13.6454276    cI    5.6    5.0   9133 16.08    0.20 15.81    HCG26d  11  127.3        9.43          0.21\n",
      " 26     c  50.4564795 -13.6455412    S0    9.6    4.4   9618 17.51    0.10 17.10    HCG26c   0  127.3        8.94           0.2\n",
      " 26     b  50.4881110 -13.6484093    E0   19.5    9.6   9332 15.88    0.20 15.61    HCG26b  -5  127.3         9.5          0.21\n",
      " 30     d  69.1527560  -2.8430163    S0   15.4   10.2   4666 16.19    0.10 15.69    HCG30d   0  59.55        8.85           0.2\n",
      " 30     b  69.1261928  -2.8665628    Sa   36.5   23.5   4625 14.23    0.10 13.65    HCG30b   1  59.55        9.62           0.2\n",
      " 30     a  69.0774402  -2.8312861   SB-   55.5   40.5   4697 13.41    0.20 12.87    HCG30a   1  59.55        9.91          0.21\n",
      " 30     c  69.0969981  -2.7998466  SBbc   17.3   12.5   4508 15.60    0.10 15.06    HCG30c   3  59.55        9.09           0.2\n",
      " 31     b  75.3975617  -4.2640096    Sm   26.1   13.7   4171 15.09    0.20 14.31    HCG31b   9  52.03        9.26          0.21\n",
      " 31     a  75.4114570  -4.2594637   Sdm   32.3   19.9   4042 15.52    0.20 14.83    HCG31a   7  52.03        9.07          0.21\n",
      " 31     c  75.4075073  -4.2576951    Im   18.3    7.0   4068 13.40    0.50 12.50    HCG31c  10  52.03        9.94          0.27\n",
      " 33     c  77.6883138  18.0195603    Sd   23.3    6.7   7823 17.70    0.70 16.40    HCG33c   7 106.66        9.06          0.33\n",
      " 33     d  77.7232713  18.0329226    E0    7.2    7.2   7767 17.53    0.20 16.73    HCG33d  -5 106.66        8.94          0.21\n",
      " 33     b  77.6985366  18.0295676    E4   15.9   10.0   8006 16.21    0.20 15.41    HCG33b  -5 106.66        9.43          0.21\n",
      " 33     a  77.6999800  18.0186717    E1   11.1   10.1   7570 16.15    0.20 15.35    HCG33a  -5 106.66        9.46          0.21\n",
      " 37     e 138.3918006  30.0397497    E0    9.1    9.1   6363 16.47    0.10 16.21    HCG37e  -5  95.08        9.04           0.2\n",
      " 37     d 138.3910670  30.0144186  SBdm   12.0    9.5   6207 16.21    0.20 15.87    HCG37d   7  95.08        9.17          0.21\n",
      " 37     c 138.4051396  29.9995394   S0a   11.9    8.7   7357 15.93    0.20 15.57    HCG37c   0  95.08        9.28          0.21\n",
      " 37     b 138.3858891  29.9997686   Sbc   48.4   28.1   6741 14.95    0.20 14.50    HCG37b   3  95.08        9.68          0.21\n",
      " 37     a 138.4143811  29.9924259    E7   51.9    8.6   6745 13.23    0.20 12.97    HCG37a  -5  95.08       10.26          0.21\n",
      " 38     b 141.9316910  12.2871929   SBd   30.0   17.6   8739 15.20    0.20 14.76    HCG38b   7 122.06        9.79          0.21\n",
      " 38     a 141.8944151  12.2692221   Sbc   22.1    8.6   8760 15.83    0.10 15.25    HCG38a   3 122.06         9.6           0.2\n",
      " 38     c 141.9354402  12.2879038    Im   21.8    9.3   8770 16.01    0.20 15.39    HCG38c  10 122.06        9.55          0.21\n",
      " 40     e 144.7311096  -4.8577517    Sc   17.8    6.2   6625 17.32    0.20 16.69    HCG40e   5  97.21        8.88          0.21\n",
      " 40     a 144.7230901  -4.8490346    E3   32.9   24.3   6628 13.70    0.20 13.44    HCG40a  -5  97.21        10.1          0.21\n",
      " 40     b 144.7294186  -4.8660803    S0   18.7   14.6   6842 14.89    0.20 14.58    HCG40b   0  97.21        9.67          0.21\n",
      " 40     c 144.7217269  -4.8593641   Sbc   36.9    9.6   6890 15.88    0.20 15.15    HCG40c   3  97.21        9.46          0.21\n",
      " 40     d 144.7324597  -4.8373665   SBa   23.9   11.0   6492 15.06    0.20 14.53    HCG40d   1  97.21        9.69          0.21\n",
      " 47     a 156.4431050  13.7168649   SBb   26.3   17.9   9581 14.95    0.20 14.61    HCG47a   3 133.79        9.92          0.21\n",
      " 47     b 156.4527010  13.7279294    E3   17.9   12.8   9487 15.88    0.20 15.67    HCG47b  -5 133.79        9.52          0.21\n",
      " 47     c 156.4545431  13.7530647    Sc    9.2    8.3   9529 16.87    0.20 16.63    HCG47c   5 133.79        9.16          0.21\n",
      " 47     d 156.4494978  13.7486579    Sd   13.7   10.7   9471 16.50    0.70 16.20    HCG47d   7 133.79        9.32          0.33\n",
      " 48     b 159.4564148 -27.1217503    Sc   22.0   20.4   2385 14.95    0.20 14.63    HCG48b   5  36.79        8.86          0.21\n",
      " 48     d 159.4232989 -27.0440817    E1    8.8    7.5   3045 16.99    0.20 16.70    HCG48d  -5  36.79        8.08          0.21\n",
      " 48     a 159.4468157 -27.0805114    E2   45.7   35.1   3014 13.50    0.20 13.21    HCG48a  -5  36.79        9.39          0.21\n",
      " 49     a 164.1731451  67.1851456   Scd   14.3   13.3   9939 16.19    0.20 15.87    HCG49a   5 141.17        9.49          0.21\n",
      " 49     b 164.1632529  67.1802702    Sd   13.2    8.7   9930 16.74    0.20 16.30    HCG49b   7 141.17        9.33          0.21\n",
      " 49     c 164.1528781  67.1812289    Im   10.1    7.9   9926 17.58    0.20 17.18    HCG49c  10 141.17         9.0          0.21\n",
      " 49     d 164.1394579  67.1780805    E5   10.2    6.7  10010 17.28    0.20 16.99    HCG49d  -5 141.17        9.07          0.21\n",
      " 54     a 172.3133160  20.5835758   Sdm   11.6   11.6   1397 14.05    0.20 13.86    HCG54a   7  26.71        8.89          0.21\n",
      " 54     b 172.3086562  20.5814957    Im    5.7    3.9   1412 16.43    0.20 16.08    HCG54b  10  26.71        8.05          0.21\n",
      " 54     c 172.3178516  20.5864617    Im    4.8    4.4   1420 17.00    0.70 16.80    HCG54c  10  26.71        7.78          0.33\n",
      " 54     d 172.3188514  20.5885999    Im    5.4    2.5   1670 18.54    0.20 18.02    HCG54d  10  26.71        7.32          0.21\n",
      " 56     a 173.1944340  52.9409197    Sc   27.9    7.0   8245 15.96    0.20 15.24    HCG56a   5 117.03        9.57          0.21\n",
      " 56     b 173.1686163  52.9505187   SB0   17.1   10.4   7919 14.83    0.20 14.50    HCG56b   0 117.03        9.85          0.21\n",
      " 56     c 173.1529620  52.9475838    S0   18.4   14.0   8110 15.66    0.20 15.37    HCG56c   0 117.03        9.52          0.21\n",
      " 56     d 173.1471241  52.9472540    S0   12.5    7.9   8346 16.84    0.20 16.52    HCG56d   0 117.03        9.09          0.21\n",
      " 56     e 173.1364707  52.9392327    S0   12.5    9.5   7924 16.52    0.10 16.23    HCG56e   0 117.03         9.2           0.2\n",
      " 57     a 174.4740897  21.9808378    Sb   51.5   19.1   8727 14.52    0.20 13.99    HCG57a   3 134.85       10.16          0.21\n",
      " 57     b 174.4319807  22.0093310   SBb   30.0   18.9   9022 14.67    0.20 14.32    HCG57b   3 134.85       10.03          0.21\n",
      " 57     c 174.4656439  21.9738420    E3   27.4   21.0   9081 14.82    0.20 14.63    HCG57c  -5 134.85        9.92          0.21\n",
      " 57     d 174.4796648  21.9856406   SBc   17.3   15.5   8977 14.74    0.20 14.51    HCG57d   5 134.85        9.96          0.21\n",
      " 57     e 174.4548618  22.0257641   S0a   18.0    9.1   8992 15.76    0.10 15.37    HCG57e   0 134.85        9.64           0.2\n",
      " 57     f 174.4753530  21.9360871    E4   20.8   12.0   9594 15.41    0.10 15.22    HCG57f  -5 134.85         9.7           0.2\n",
      " 57     g 174.4358547  22.0208291   SB0   13.4    7.9   9416 16.12    0.10 15.84    HCG57g   0 134.85        9.46           0.2\n",
      " 57     h 174.4612163  22.0118720   SBb   10.0    8.5     -- 16.99    0.10 16.75    HCG57h   3 134.85        9.12           0.2\n",
      " 58     a 175.5461923  10.2776976    Sb   36.7   24.0   6138 13.89    0.20 13.56    HCG58a   3   83.6        9.93          0.21\n",
      " 58     b 175.5982654  10.2642044  SBab   40.1   32.3   6503 13.66    0.20 13.40    HCG58b   1   83.6        9.99          0.21\n",
      " 58     c 175.4715615  10.3040892  SB0a   30.6   22.4   6103 14.11    0.20 13.83    HCG58c   0   83.6        9.83          0.21\n",
      " 58     d 175.5246589  10.3508731    E1   28.4   25.0   6270 14.67    0.20 14.49    HCG58d  -5   83.6        9.58          0.21\n",
      " 58     e 175.5202184  10.3838750   Sbc   23.2   14.1   6052 15.21    0.20 14.86    HCG58e   3   83.6        9.44          0.21\n",
      " 59     a 177.1146578  12.7273376    Sa   17.7   16.3   4109 14.73    0.10 14.52    HCG59a   1  58.88        9.28           0.2\n",
      " 59     b 177.0840218  12.7161515    E0   15.0   14.4   3908 15.38    0.20 15.20    HCG59b  -5  58.88        9.03          0.21\n",
      " 59     c 177.1353370  12.7052486    Sc   24.7    7.0   4347 15.00    0.50 14.40    HCG59c   5  58.88        9.33          0.27\n",
      " 59     d 177.1280187  12.7298062    Im   17.7   11.5   3866 16.17    0.20 15.80    HCG59d  10  58.88         8.8          0.21\n",
      " 61     a 183.0772853  29.1798048   S0a   54.3   33.7   3784 13.15    0.10 12.82    HCG61a   0  59.03        9.92           0.2\n",
      " 61     c 183.1289396  29.1685393   Sbc   51.8   15.5   3956 14.14    0.10 13.53    HCG61c   3  59.03        9.66           0.2\n",
      " 61     d 183.1115348  29.1491184    S0   25.6   13.7   3980 14.42    0.10 14.12    HCG61d   0  59.03        9.44           0.2\n",
      " 62     d 193.2782729  -9.2581052    E2   19.9   16.8   4123 16.03    0.10 15.81    HCG62d  -5  56.59        8.77           0.2\n",
      " 62     c 193.2914659  -9.1980907    S0   24.6   12.3   4359 14.91    0.20 14.57    HCG62c   0  56.59        9.23          0.21\n",
      " 62     b 193.2686161  -9.1988934    S0   44.2   33.3   3651 14.03    0.20 13.76    HCG62b   0  56.59        9.54          0.21\n",
      " 62     a 193.2743768  -9.2045816    E3   52.3   34.3   4355 13.58    0.20 13.36    HCG62a  -5  56.59        9.69          0.21\n",
      " 68     d 208.4402069  40.3381232    E3   31.1   21.8   2408 13.93    0.10 13.73    HCG68d  -5  36.23        9.18           0.2\n",
      " 68     e 208.4989165  40.2733412    S0   35.2   15.5   2401 14.56    0.10 14.22    HCG68e   0  36.23         9.0           0.2\n",
      " 68     c 208.3405547  40.3633113  SBbc   76.7   61.9   2313 12.20    0.20 11.93    HCG68c   3  36.23        9.86          0.21\n",
      " 68     b 208.3610954  40.3024692    E2   86.4   71.1   2635 12.44    0.06 12.24    HCG68b  -5  36.23        9.74           0.2\n",
      " 68     a 208.3607157  40.2829404    S0   77.4   59.9   2162 12.08    0.08 11.84    HCG68a   0  36.23        9.89           0.2\n",
      " 71     c 212.7715177  25.4825688   SBc   13.7    9.9   8450 15.90    0.10 15.56    HCG71c   5 128.27        9.53           0.2\n",
      " 71     a 212.7377468  25.4967029   SBc   31.5   25.8   9320 14.05    0.20 13.75    HCG71a   5 128.27       10.21          0.21\n",
      " 71     b 212.7605451  25.5196514    Sb   18.1    5.4   9335 15.55    0.10 14.90    HCG71b   3 128.27        9.78           0.2\n",
      " 79     a 239.7977705  20.7541591    E0   50.2   48.6   4292 14.70    0.20 14.35    HCG79a  -5  60.25        9.37          0.21\n",
      " 79     b 239.8027645  20.7631246    S0   60.5   44.1   4446 14.19    0.20 13.78    HCG79b   0  60.25        9.58          0.21\n",
      " 79     c 239.7958619  20.7615401    S0   40.3   26.1   4146 15.15    0.20 14.72    HCG79c   0  60.25        9.23          0.21\n",
      " 79     d 239.8002634  20.7464751   Sdm   28.1   12.3   4503 16.51    0.20 15.87    HCG79d   7  60.25        8.79          0.21\n",
      " 88     d 313.0532315  -5.7979648    Sc   32.7    8.5   6032 15.52    0.20 14.49    HCG88d   5  76.99        9.51          0.21\n",
      " 88     b 313.1239392  -5.7465455   SBb   34.0   26.5   6010 13.88    0.10 13.24    HCG88b   3  76.99        9.98           0.2\n",
      " 88     a 313.1471356  -5.7106849    Sb   45.1   20.2   6033 14.02    0.10 13.18    HCG88a   3  76.99       10.01           0.2\n",
      " 88     c 313.1083287  -5.7722403    Sc   27.6   21.0   6083 14.52    0.10 13.87    HCG88c   5  76.99        9.75           0.2\n",
      " 89     d 320.0334184  -3.9083578    Sm    8.1    5.1   8857 16.92    0.10 16.27    HCG89d   9 122.83        9.23           0.2\n",
      " 89     a 320.0045115  -3.9222821    Sc   29.1   16.1   8850 14.80    0.50 14.10    HCG89a   5 122.83       10.04          0.27\n",
      " 89     b 320.0802851  -3.8963216   SBc   20.9   10.2   8985 15.59    0.20 14.88    HCG89b   5 122.83        9.75          0.21\n",
      " 89     c 320.0350312  -3.9178250   Scd   14.4    8.6   8872 16.16    0.10 15.52    HCG89c   5 122.83        9.51           0.2\n",
      " 90     b 330.5363110 -31.9906812    E0   39.9   36.4   2525 12.88    0.13 12.57    HCG90b  -5  34.77        9.59          0.21\n",
      " 90       330.6839214 -31.9910663   S0a    nan    nan   2328 14.71    0.28 14.57 ESO466-46   0  34.77        8.83          0.23\n",
      " 90     c 330.5142315 -31.9745124    E0   36.6   30.4   2696 13.04    0.06 12.73    HCG90c  -5  34.77        9.53           0.2\n",
      " 90       330.6919058 -31.9554831   Sbc    nan    nan   2568 16.18    0.19 15.27 ESO466-47   3  34.77        8.57          0.21\n",
      " 90     d 330.5260169 -31.9942339    Im   69.3   26.3   2778 13.54    0.15 12.81    HCG90d  10  34.77         9.5          0.21\n",
      " 90       330.5661945 -31.7564831    S0    nan    nan   2819 15.14    0.18 14.98 ESO466-44   0  34.77        8.68          0.21\n",
      " 90     a 330.5088937 -31.8701361    Sa   71.8   43.2   2575 12.84    0.07 12.36    HCG90a   1  34.77        9.66           0.2\n",
      " 91     a 332.2817421 -27.8098366   SBc   43.2   35.0   6832 13.00    0.13 12.62    HCG91a   5  91.81       10.36          0.21\n",
      " 91     b 332.3183041 -27.7313361    Sc   28.0    5.1   7196 15.53    0.20 14.63    HCG91b   5  91.81         9.6          0.21\n",
      " 91     d 332.2856652 -27.8008554   SB0   13.4   10.2   7195 15.34    0.20 14.99    HCG91d   0  91.81        9.47          0.21\n",
      " 91     c 332.3088085 -27.7824135    Sc   23.9   16.4   7319 14.91    0.20 14.47    HCG91c   5  91.81        9.66          0.21\n",
      " 92     b 338.9939988  33.9659465   Sbc   66.6   32.9   5774 14.01    0.13 13.18    HCG92b   3  89.89       10.13          0.21\n",
      " 92     c 339.0160416  33.9753464   SBc   52.8   41.5   6764 14.00    0.10 13.33    HCG92c   5  89.89       10.08           0.2\n",
      " 92     d 338.9871039  33.9655454    Sc   36.6   30.7   6630 14.28    0.08 13.63    HCG92d   5  89.89        9.96           0.2\n",
      " 92     e 338.9675565  33.9445943    E1   22.9   21.2   6599 14.60    0.08 14.01    HCG92e  -5  89.89        9.82           0.2\n",
      " 93     c 348.7651545  18.9731121   SBa   35.9   15.9   5132 14.56    0.10 13.94    HCG93c   1  66.11         9.6           0.2\n",
      " 93     a 348.8167925  18.9614677    E1   36.2   33.4   5140 12.95    0.10 12.61    HCG93a  -5  66.11        10.1           0.2\n",
      " 93     b 348.8217140  19.0415835   SBd   57.4   19.5   4672 13.90    0.10 13.18    HCG93b   7  66.11        9.88           0.2\n",
      " 93     d 348.8881070  19.0478975   SB0   16.9   16.5   5173 15.61    0.10 15.27    HCG93d   0  66.11         9.1           0.2\n",
      " 95     b 349.8909000   9.4949137   Scd   20.7    8.9  11637 15.93    0.10 15.34    HCG95b   5  159.8        9.79           0.2\n",
      " 95     c 349.8662561   9.4943364    Sm   28.4    9.4  11562 15.93    0.20 15.20    HCG95c   9  159.8        9.84          0.21\n",
      " 95     d 349.8795089   9.5027370    Sc   22.1    4.4  12350 17.00    0.10 16.14    HCG95d   5  159.8        9.49           0.2\n",
      " 95     a 349.8747505   9.5079272    E3   26.3   19.5  11888 14.71    0.20 14.42    HCG95a  -5  159.8       10.14          0.21\n",
      " 96     a 351.9871112   8.7782122    Sc   33.3   30.6   8698 13.84    0.20 13.53    HCG96a   5 119.51       10.23          0.21\n",
      " 96     b 352.0252294   8.7684056    E2   18.7   14.1   8616 14.77    0.10 14.49    HCG96b  -5 119.51        9.87           0.2\n",
      " 96     c 351.9950721   8.7828011    Sa   12.2    8.8   8753 16.09    0.20 15.69    HCG96c   1 119.51        9.42          0.21\n",
      " 96     d 352.0008374   8.7673329    Im    6.6    3.7   8975 17.10    0.10 16.56    HCG96d  10 119.51        9.09           0.2\n",
      " 97     e 356.8325315  -2.2810157   S0a   11.6    9.8   6579 16.61    0.20 16.31    HCG97e   0  87.46        8.93          0.21\n",
      " 97     c 356.8488406  -2.3514274    Sa   23.3   14.8   5995 14.95    0.10 14.54    HCG97c   1  87.46         9.6           0.2\n",
      " 97     b 356.9075265  -2.3171604    Sc   34.1    9.1   6940 15.54    0.10 14.83    HCG97b   5  87.46        9.49           0.2\n",
      " 97     a 356.8459096  -2.3009562    E5   45.9   25.0   6910 14.41    0.20 14.16    HCG97a  -5  87.46        9.74          0.21\n",
      " 97     d 356.8286669  -2.3132946    E1   28.3   24.7   6239 14.70    0.10 14.45    HCG97d  -5  87.46        9.63           0.2\n",
      "100     a   0.3337423  13.1109473    Sb   33.2   19.0   5300 14.13    0.10 13.66   HCG100a   3   69.3        9.74           0.2\n",
      "100     b   0.3588537  13.1127806    Sm   17.3   15.7   5253 15.21    0.10 14.90   HCG100b   9   69.3        9.27           0.2\n",
      "100     c   0.3062949  13.1439750   SBc   22.1    9.6   5461 15.78    0.10 15.22   HCG100c   5   69.3        9.15           0.2\n",
      "100     d   0.3115091  13.1126418   Scd   16.0    6.1     -- 16.58    0.10 15.97   HCG100d   5   69.3        8.87           0.2\n"
     ]
    }
   ],
   "source": [
    "HCG_mems.pprint(max_lines=-1,max_width=-1)"
   ]
  },
  {
   "cell_type": "code",
   "execution_count": null,
   "metadata": {},
   "outputs": [],
   "source": []
  },
  {
   "cell_type": "code",
   "execution_count": 21,
   "metadata": {},
   "outputs": [],
   "source": [
    "HI_pred = []\n",
    "e_HI_pred = []\n",
    "for HCG in HCGs['HCG']:\n",
    "    HI_pred.append(numpy.log10(numpy.sum(10.**HCG_mems.loc[HCG]['logMHI_pred'])))\n",
    "    e_HI_pred.append(numpy.sqrt(numpy.sum((HCG_mems.loc[HCG]['e_logMHI_pred']**2.)*10.**(2*HCG_mems.loc[HCG]['logMHI_pred']))/numpy.sum(10.**(2.*HCG_mems.loc[HCG]['logMHI_pred']))))\n",
    "    \n",
    "HCGs['logMHI_pred'] = numpy.round(HI_pred,decimals=2)\n",
    "HCGs['e_logMHI_pred'] = numpy.round(e_HI_pred,decimals=2)"
   ]
  },
  {
   "cell_type": "code",
   "execution_count": 22,
   "metadata": {},
   "outputs": [
    {
     "data": {
      "text/html": [
       "<i>Table length=39</i>\n",
       "<table id=\"table139887895623440\" class=\"table-striped table-bordered table-condensed\">\n",
       "<thead><tr><th>HCG</th><th>ra</th><th>dec</th><th>z</th><th>dist</th><th>cz</th><th>logMHI_pred</th><th>e_logMHI_pred</th></tr></thead>\n",
       "<thead><tr><th></th><th>deg</th><th>deg</th><th></th><th>Mpc</th><th>km / s</th><th></th><th></th></tr></thead>\n",
       "<thead><tr><th>int16</th><th>float64</th><th>float64</th><th>float32</th><th>float64</th><th>float32</th><th>float64</th><th>float64</th></tr></thead>\n",
       "<tr><td>2</td><td>7.87517</td><td>8.43126</td><td>0.0144</td><td>51.81</td><td>4317.0117</td><td>9.9</td><td>0.2</td></tr>\n",
       "<tr><td>7</td><td>9.84960</td><td>0.87818</td><td>0.0141</td><td>51.64</td><td>4227.0737</td><td>10.25</td><td>0.29</td></tr>\n",
       "<tr><td>10</td><td>21.53076</td><td>34.69095</td><td>0.0161</td><td>54.39</td><td>4826.6587</td><td>10.31</td><td>0.2</td></tr>\n",
       "<tr><td>15</td><td>31.91244</td><td>2.13827</td><td>0.0228</td><td>94.25</td><td>6835.2686</td><td>10.35</td><td>0.21</td></tr>\n",
       "<tr><td>16</td><td>32.38881</td><td>-10.16298</td><td>0.0132</td><td>48.83</td><td>3957.2605</td><td>10.35</td><td>0.21</td></tr>\n",
       "<tr><td>19</td><td>40.68807</td><td>-12.41181</td><td>0.0140</td><td>51.95</td><td>4197.0947</td><td>9.68</td><td>0.21</td></tr>\n",
       "<tr><td>22</td><td>45.88027</td><td>-15.67570</td><td>0.0090</td><td>37.23</td><td>2698.132</td><td>9.96</td><td>0.22</td></tr>\n",
       "<tr><td>23</td><td>46.77701</td><td>-9.58547</td><td>0.0161</td><td>63.46</td><td>4826.6587</td><td>9.82</td><td>0.21</td></tr>\n",
       "<tr><td>25</td><td>50.18220</td><td>-1.05192</td><td>0.0212</td><td>82.18</td><td>6355.6</td><td>10.06</td><td>0.2</td></tr>\n",
       "<tr><td>...</td><td>...</td><td>...</td><td>...</td><td>...</td><td>...</td><td>...</td><td>...</td></tr>\n",
       "<tr><td>88</td><td>313.09503</td><td>-5.75790</td><td>0.0201</td><td>76.99</td><td>6025.8286</td><td>10.46</td><td>0.2</td></tr>\n",
       "<tr><td>89</td><td>320.04504</td><td>-3.90899</td><td>0.0297</td><td>122.83</td><td>8903.836</td><td>10.33</td><td>0.25</td></tr>\n",
       "<tr><td>90</td><td>330.52343</td><td>-31.96680</td><td>0.0088</td><td>34.77</td><td>2638.1738</td><td>10.22</td><td>0.2</td></tr>\n",
       "<tr><td>91</td><td>332.30172</td><td>-27.77593</td><td>0.0238</td><td>91.81</td><td>7135.061</td><td>10.54</td><td>0.21</td></tr>\n",
       "<tr><td>92</td><td>339.00215</td><td>33.96577</td><td>0.0215</td><td>89.89</td><td>6445.538</td><td>10.62</td><td>0.2</td></tr>\n",
       "<tr><td>93</td><td>348.85099</td><td>18.98311</td><td>0.0168</td><td>66.11</td><td>5036.513</td><td>10.41</td><td>0.2</td></tr>\n",
       "<tr><td>95</td><td>349.88240</td><td>9.49185</td><td>0.0396</td><td>159.8</td><td>11871.781</td><td>10.48</td><td>0.21</td></tr>\n",
       "<tr><td>96</td><td>351.99291</td><td>8.77408</td><td>0.0292</td><td>119.51</td><td>8753.94</td><td>10.45</td><td>0.21</td></tr>\n",
       "<tr><td>97</td><td>356.86224</td><td>-2.30542</td><td>0.0218</td><td>87.46</td><td>6535.476</td><td>10.25</td><td>0.2</td></tr>\n",
       "<tr><td>100</td><td>0.33654</td><td>13.13256</td><td>0.0178</td><td>69.3</td><td>5336.3057</td><td>9.98</td><td>0.2</td></tr>\n",
       "</table>"
      ],
      "text/plain": [
       "<Table length=39>\n",
       " HCG      ra       dec       z      dist      cz    logMHI_pred e_logMHI_pred\n",
       "         deg       deg              Mpc     km / s                           \n",
       "int16  float64   float64  float32 float64  float32    float64      float64   \n",
       "----- --------- --------- ------- ------- --------- ----------- -------------\n",
       "    2   7.87517   8.43126  0.0144   51.81 4317.0117         9.9           0.2\n",
       "    7   9.84960   0.87818  0.0141   51.64 4227.0737       10.25          0.29\n",
       "   10  21.53076  34.69095  0.0161   54.39 4826.6587       10.31           0.2\n",
       "   15  31.91244   2.13827  0.0228   94.25 6835.2686       10.35          0.21\n",
       "   16  32.38881 -10.16298  0.0132   48.83 3957.2605       10.35          0.21\n",
       "   19  40.68807 -12.41181  0.0140   51.95 4197.0947        9.68          0.21\n",
       "   22  45.88027 -15.67570  0.0090   37.23  2698.132        9.96          0.22\n",
       "   23  46.77701  -9.58547  0.0161   63.46 4826.6587        9.82          0.21\n",
       "   25  50.18220  -1.05192  0.0212   82.18    6355.6       10.06           0.2\n",
       "  ...       ...       ...     ...     ...       ...         ...           ...\n",
       "   88 313.09503  -5.75790  0.0201   76.99 6025.8286       10.46           0.2\n",
       "   89 320.04504  -3.90899  0.0297  122.83  8903.836       10.33          0.25\n",
       "   90 330.52343 -31.96680  0.0088   34.77 2638.1738       10.22           0.2\n",
       "   91 332.30172 -27.77593  0.0238   91.81  7135.061       10.54          0.21\n",
       "   92 339.00215  33.96577  0.0215   89.89  6445.538       10.62           0.2\n",
       "   93 348.85099  18.98311  0.0168   66.11  5036.513       10.41           0.2\n",
       "   95 349.88240   9.49185  0.0396   159.8 11871.781       10.48          0.21\n",
       "   96 351.99291   8.77408  0.0292  119.51   8753.94       10.45          0.21\n",
       "   97 356.86224  -2.30542  0.0218   87.46  6535.476       10.25           0.2\n",
       "  100   0.33654  13.13256  0.0178    69.3 5336.3057        9.98           0.2"
      ]
     },
     "execution_count": 22,
     "metadata": {},
     "output_type": "execute_result"
    }
   ],
   "source": [
    "HCGs"
   ]
  },
  {
   "cell_type": "code",
   "execution_count": null,
   "metadata": {},
   "outputs": [],
   "source": []
  },
  {
   "cell_type": "code",
   "execution_count": 23,
   "metadata": {},
   "outputs": [],
   "source": [
    "HCG_mems = HCG_mems['HCG','m_HCG','name','ra','dec','MType','T','a','b','Vel','BTmag','e_BTmag','BTc','dist','logMHI_pred','e_logMHI_pred']"
   ]
  },
  {
   "cell_type": "code",
   "execution_count": 24,
   "metadata": {},
   "outputs": [
    {
     "name": "stderr",
     "output_type": "stream",
     "text": [
      "WARNING: VerifyWarning: Keyword name 'description' is greater than 8 characters or contains characters not allowed by the FITS standard; a HIERARCH card will be created. [astropy.io.fits.card]\n"
     ]
    }
   ],
   "source": [
    "HCG_mems.write('../output/HCG_members.vo',format='votable',overwrite=True)\n",
    "HCG_mems.write('../output/HCG_members.fits',format='fits',overwrite=True)\n",
    "HCG_mems.write('../output/HCG_members.ascii',format='ascii.fixed_width_two_line',overwrite=True)"
   ]
  },
  {
   "cell_type": "code",
   "execution_count": 25,
   "metadata": {},
   "outputs": [],
   "source": [
    "HCGs.write('../output/HCGs.vo',format='votable',overwrite=True)\n",
    "HCGs.write('../output/HCGs.fits',format='fits',overwrite=True)\n",
    "HCGs.write('../output/HCGs.ascii',format='ascii.fixed_width_two_line',overwrite=True)"
   ]
  },
  {
   "cell_type": "code",
   "execution_count": null,
   "metadata": {},
   "outputs": [],
   "source": []
  }
 ],
 "metadata": {
  "kernelspec": {
   "display_name": "Python 3",
   "language": "python",
   "name": "python3"
  },
  "language_info": {
   "codemirror_mode": {
    "name": "ipython",
    "version": 3
   },
   "file_extension": ".py",
   "mimetype": "text/x-python",
   "name": "python",
   "nbconvert_exporter": "python",
   "pygments_lexer": "ipython3",
   "version": "3.7.3"
  }
 },
 "nbformat": 4,
 "nbformat_minor": 4
}
